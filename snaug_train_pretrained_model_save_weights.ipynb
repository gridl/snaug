{
 "cells": [
  {
   "cell_type": "code",
   "execution_count": null,
   "metadata": {},
   "outputs": [],
   "source": [
    "# for Google Colab only: Mount my Google Drive\n",
    "from google.colab import drive\n",
    "drive.mount('/gdrive')\n",
    "%cd /gdrive"
   ]
  },
  {
   "cell_type": "code",
   "execution_count": 1,
   "metadata": {},
   "outputs": [
    {
     "data": {
      "text/plain": [
       "'/home/ringoshin/Projects/z - learning/0 - Kaplan/proj/snaug'"
      ]
     },
     "execution_count": 1,
     "metadata": {},
     "output_type": "execute_result"
    }
   ],
   "source": [
    "pwd"
   ]
  },
  {
   "cell_type": "code",
   "execution_count": null,
   "metadata": {},
   "outputs": [],
   "source": [
    "# for Google Colab only: Navigate to my snaug project folder\n",
    "cd 'My Drive/snaug'"
   ]
  },
  {
   "cell_type": "code",
   "execution_count": 2,
   "metadata": {},
   "outputs": [
    {
     "name": "stderr",
     "output_type": "stream",
     "text": [
      "Using TensorFlow backend.\n"
     ]
    }
   ],
   "source": [
    "#\n",
    "# Train models on cloud platforms using GPU, then save only the model weights \n",
    "# to be reloaded later on machines without powerful GPU.\n",
    "#\n",
    "\n",
    "from keras.preprocessing.text import Tokenizer\n",
    "from keras.utils import to_categorical\n",
    "\n",
    "import string\n",
    "import textwrap\n",
    "import pickle\n",
    "\n",
    "from lib.nlplstm_class import (TFModelLSTMCharToken, TFModelLSTMWordToken, \n",
    "                               TFModelLSTMWord2vec) \n",
    "from lib.data_common import (load_doc, save_doc, clean_doc, prepare_char_tokens)\n",
    "from lib.data_common import (build_token_lines, prepare_text_tokens, load_word2vec)"
   ]
  },
  {
   "cell_type": "code",
   "execution_count": 3,
   "metadata": {},
   "outputs": [],
   "source": [
    "pathfinder_textfile = './data/textgen_pathfinder.txt'\n",
    "fixed_length_token_textfile = './data/pathfinder_fixed-length_tokens.txt'"
   ]
  },
  {
   "cell_type": "code",
   "execution_count": 4,
   "metadata": {},
   "outputs": [
    {
     "name": "stdout",
     "output_type": "stream",
     "text": [
      "The giant black widow spider is a tough, CR 3  poisonous spider. The marsh-\n",
      "dwelling lizardfolk can be dangerous enemies or helpful—if cautiously\n",
      "neutral—allies. The flesh-eating minotaur is a tough so\n"
     ]
    }
   ],
   "source": [
    "# \n",
    "# Loading, saving and pre-processing of the text data source for\n",
    "# word tokenisation\n",
    "#\n",
    "# load document\n",
    "docs = load_doc(pathfinder_textfile)\n",
    "#print(docs[:200])\n",
    "print(textwrap.fill('%s' % (docs[:200]), 80))"
   ]
  },
  {
   "cell_type": "code",
   "execution_count": 5,
   "metadata": {},
   "outputs": [
    {
     "name": "stdout",
     "output_type": "stream",
     "text": [
      "['the', 'giant', 'black', 'widow', 'spider', 'is', 'a', 'tough', 'cr', 'poisonous', 'spider', 'the', 'marsh', 'dwelling', 'lizardfolk', 'can', 'be', 'dangerous', 'enemies', 'or']\n",
      "Total Tokens: 13097\n",
      "Unique Tokens: 2925\n"
     ]
    }
   ],
   "source": [
    "# pre-process and tokenize document\n",
    "tokens = clean_doc(docs)\n",
    "print(tokens[:20])\n",
    "print('Total Tokens: %d' % len(tokens))\n",
    "print('Unique Tokens: %d' % len(set(tokens)))"
   ]
  },
  {
   "cell_type": "code",
   "execution_count": 6,
   "metadata": {},
   "outputs": [
    {
     "name": "stdout",
     "output_type": "stream",
     "text": [
      "Total lines: 13046\n"
     ]
    }
   ],
   "source": [
    "# organize into fixed-length lines of tokens\n",
    "lines = build_token_lines(tokens, length=50)\n",
    "print('Total lines: %d' % len(lines))"
   ]
  },
  {
   "cell_type": "code",
   "execution_count": 7,
   "metadata": {},
   "outputs": [],
   "source": [
    "# save fixed-length lines to file\n",
    "save_doc(lines, fixed_length_token_textfile)"
   ]
  },
  {
   "cell_type": "code",
   "execution_count": 8,
   "metadata": {},
   "outputs": [
    {
     "name": "stdout",
     "output_type": "stream",
     "text": [
      "(13046, 50)\n"
     ]
    }
   ],
   "source": [
    "# tokenize and separate into features and target\n",
    "X, y, seq_length, vocab_size, tokenizer = prepare_text_tokens(lines)\n",
    "print(X.shape)"
   ]
  },
  {
   "cell_type": "code",
   "execution_count": 9,
   "metadata": {},
   "outputs": [
    {
     "name": "stdout",
     "output_type": "stream",
     "text": [
      "\n",
      "Training word2vec...\n",
      "Result embedding shape: (2925, 300)\n"
     ]
    }
   ],
   "source": [
    "# get pretrained weights for LSTM model's word embedding using Gensim Word2vec\n",
    "vocab_size, emdedding_size, pretrained_weights = load_word2vec(lines)"
   ]
  },
  {
   "cell_type": "code",
   "execution_count": 10,
   "metadata": {},
   "outputs": [],
   "source": [
    "# save gensim Word2Vec word model's pretrained weights\n",
    "pickle.dump(pretrained_weights, open('./model/pathfinder_wordtoken_w2v_word_model_weights.pkl', 'wb'))"
   ]
  },
  {
   "cell_type": "code",
   "execution_count": 11,
   "metadata": {},
   "outputs": [
    {
     "name": "stdout",
     "output_type": "stream",
     "text": [
      "WARNING:tensorflow:From /home/ringoshin/Projects/z - learning/0 - Kaplan/proj/snaug/venv/lib/python3.6/site-packages/keras/backend/tensorflow_backend.py:66: The name tf.get_default_graph is deprecated. Please use tf.compat.v1.get_default_graph instead.\n",
      "\n",
      "WARNING:tensorflow:From /home/ringoshin/Projects/z - learning/0 - Kaplan/proj/snaug/venv/lib/python3.6/site-packages/keras/backend/tensorflow_backend.py:541: The name tf.placeholder is deprecated. Please use tf.compat.v1.placeholder instead.\n",
      "\n",
      "WARNING:tensorflow:From /home/ringoshin/Projects/z - learning/0 - Kaplan/proj/snaug/venv/lib/python3.6/site-packages/keras/backend/tensorflow_backend.py:4432: The name tf.random_uniform is deprecated. Please use tf.random.uniform instead.\n",
      "\n",
      "WARNING:tensorflow:From /home/ringoshin/Projects/z - learning/0 - Kaplan/proj/snaug/venv/lib/python3.6/site-packages/keras/backend/tensorflow_backend.py:190: The name tf.get_default_session is deprecated. Please use tf.compat.v1.get_default_session instead.\n",
      "\n",
      "WARNING:tensorflow:From /home/ringoshin/Projects/z - learning/0 - Kaplan/proj/snaug/venv/lib/python3.6/site-packages/keras/backend/tensorflow_backend.py:197: The name tf.ConfigProto is deprecated. Please use tf.compat.v1.ConfigProto instead.\n",
      "\n",
      "WARNING:tensorflow:From /home/ringoshin/Projects/z - learning/0 - Kaplan/proj/snaug/venv/lib/python3.6/site-packages/keras/backend/tensorflow_backend.py:203: The name tf.Session is deprecated. Please use tf.compat.v1.Session instead.\n",
      "\n",
      "WARNING:tensorflow:From /home/ringoshin/Projects/z - learning/0 - Kaplan/proj/snaug/venv/lib/python3.6/site-packages/keras/backend/tensorflow_backend.py:207: The name tf.global_variables is deprecated. Please use tf.compat.v1.global_variables instead.\n",
      "\n",
      "WARNING:tensorflow:From /home/ringoshin/Projects/z - learning/0 - Kaplan/proj/snaug/venv/lib/python3.6/site-packages/keras/backend/tensorflow_backend.py:216: The name tf.is_variable_initialized is deprecated. Please use tf.compat.v1.is_variable_initialized instead.\n",
      "\n",
      "WARNING:tensorflow:From /home/ringoshin/Projects/z - learning/0 - Kaplan/proj/snaug/venv/lib/python3.6/site-packages/keras/backend/tensorflow_backend.py:223: The name tf.variables_initializer is deprecated. Please use tf.compat.v1.variables_initializer instead.\n",
      "\n",
      "WARNING:tensorflow:From /home/ringoshin/Projects/z - learning/0 - Kaplan/proj/snaug/venv/lib/python3.6/site-packages/keras/backend/tensorflow_backend.py:148: The name tf.placeholder_with_default is deprecated. Please use tf.compat.v1.placeholder_with_default instead.\n",
      "\n",
      "WARNING:tensorflow:From /home/ringoshin/Projects/z - learning/0 - Kaplan/proj/snaug/venv/lib/python3.6/site-packages/keras/backend/tensorflow_backend.py:3733: calling dropout (from tensorflow.python.ops.nn_ops) with keep_prob is deprecated and will be removed in a future version.\n",
      "Instructions for updating:\n",
      "Please use `rate` instead of `keep_prob`. Rate should be set to `rate = 1 - keep_prob`.\n"
     ]
    }
   ],
   "source": [
    "# create new object that is an LSTM model using word tokenization\n",
    "# and pre-trained Word2vec model from Gensim to generate text\n",
    "textgen_model_3 = TFModelLSTMWord2vec(use_gpu=False)\n",
    "\n",
    "textgen_model_3.define(vocab_size=vocab_size, \n",
    "                       embedding_size=emdedding_size, \n",
    "                       pretrained_weights=pretrained_weights)"
   ]
  },
  {
   "cell_type": "code",
   "execution_count": 12,
   "metadata": {},
   "outputs": [
    {
     "name": "stdout",
     "output_type": "stream",
     "text": [
      "Pre-trained Word2vec\n",
      "True\n",
      "False\n",
      "Model: \"sequential_1\"\n",
      "_________________________________________________________________\n",
      "Layer (type)                 Output Shape              Param #   \n",
      "=================================================================\n",
      "embedding_1 (Embedding)      (None, None, 300)         877500    \n",
      "_________________________________________________________________\n",
      "lstm_1 (LSTM)                (None, None, 300)         721200    \n",
      "_________________________________________________________________\n",
      "dropout_1 (Dropout)          (None, None, 300)         0         \n",
      "_________________________________________________________________\n",
      "lstm_2 (LSTM)                (None, 300)               721200    \n",
      "_________________________________________________________________\n",
      "dropout_2 (Dropout)          (None, 300)               0         \n",
      "_________________________________________________________________\n",
      "dense_1 (Dense)              (None, 300)               90300     \n",
      "_________________________________________________________________\n",
      "dense_2 (Dense)              (None, 2926)              880726    \n",
      "=================================================================\n",
      "Total params: 3,290,926\n",
      "Trainable params: 3,290,926\n",
      "Non-trainable params: 0\n",
      "_________________________________________________________________\n",
      "None\n"
     ]
    }
   ],
   "source": [
    "# LSTM object sanity check\n",
    "print(textgen_model_3.model_name)\n",
    "print(textgen_model_3.have_gpu)\n",
    "print(textgen_model_3.use_cudadnn)\n",
    "print(textgen_model_3.model.summary())"
   ]
  },
  {
   "cell_type": "code",
   "execution_count": 13,
   "metadata": {},
   "outputs": [
    {
     "name": "stdout",
     "output_type": "stream",
     "text": [
      "WARNING:tensorflow:From /home/ringoshin/Projects/z - learning/0 - Kaplan/proj/snaug/venv/lib/python3.6/site-packages/keras/optimizers.py:793: The name tf.train.Optimizer is deprecated. Please use tf.compat.v1.train.Optimizer instead.\n",
      "\n",
      "WARNING:tensorflow:From /home/ringoshin/Projects/z - learning/0 - Kaplan/proj/snaug/venv/lib/python3.6/site-packages/keras/backend/tensorflow_backend.py:3576: The name tf.log is deprecated. Please use tf.math.log instead.\n",
      "\n",
      "WARNING:tensorflow:From /home/ringoshin/Projects/z - learning/0 - Kaplan/proj/snaug/venv/lib/python3.6/site-packages/tensorflow_core/python/ops/math_grad.py:1424: where (from tensorflow.python.ops.array_ops) is deprecated and will be removed in a future version.\n",
      "Instructions for updating:\n",
      "Use tf.where in 2.0, which has the same broadcast rule as np.where\n",
      "WARNING:tensorflow:From /home/ringoshin/Projects/z - learning/0 - Kaplan/proj/snaug/venv/lib/python3.6/site-packages/keras/backend/tensorflow_backend.py:1033: The name tf.assign_add is deprecated. Please use tf.compat.v1.assign_add instead.\n",
      "\n",
      "WARNING:tensorflow:From /home/ringoshin/Projects/z - learning/0 - Kaplan/proj/snaug/venv/lib/python3.6/site-packages/keras/backend/tensorflow_backend.py:1020: The name tf.assign is deprecated. Please use tf.compat.v1.assign instead.\n",
      "\n",
      "Epoch 1/2\n",
      "13046/13046 [==============================] - 16s 1ms/step - loss: 6.7696 - acc: 0.0741\n",
      "Epoch 2/2\n",
      "13046/13046 [==============================] - 14s 1ms/step - loss: 6.3025 - acc: 0.0912\n"
     ]
    }
   ],
   "source": [
    "# compile model\n",
    "textgen_model_3.compile(loss='categorical_crossentropy', optimizer='adam', metrics=['accuracy'])\n",
    "\n",
    "# fit model\n",
    "#history = model.fit(X, y, batch_size=128, epochs=100)\n",
    "#history = textgen_model_3.fit(X, y, batch_size=128, epochs=50)\n",
    "history = textgen_model_3.fit(X, y, batch_size=128, epochs=2)"
   ]
  },
  {
   "cell_type": "code",
   "execution_count": 14,
   "metadata": {},
   "outputs": [
    {
     "data": {
      "image/png": "[encoded data removed]",
      "text/plain": [
       "<Figure size 432x432 with 1 Axes>"
      ]
     },
     "metadata": {
      "needs_background": "light"
     },
     "output_type": "display_data"
    }
   ],
   "source": [
    "# plot accuracy vs error for training\n",
    "textgen_model_3.plot_training()"
   ]
  },
  {
   "cell_type": "code",
   "execution_count": 15,
   "metadata": {},
   "outputs": [],
   "source": [
    "# serialize model weights to HDF5 and save model training history\n",
    "textgen_model_3.save_weights_and_history(fname_prefix=\"./model/pathfinder_wordtoken_w2v_model_50_epoch\")"
   ]
  },
  {
   "cell_type": "code",
   "execution_count": null,
   "metadata": {},
   "outputs": [],
   "source": []
  }
 ],
 "metadata": {
  "kernelspec": {
   "display_name": "Python 3",
   "language": "python",
   "name": "python3"
  },
  "language_info": {
   "codemirror_mode": {
    "name": "ipython",
    "version": 3
   },
   "file_extension": ".py",
   "mimetype": "text/x-python",
   "name": "python",
   "nbconvert_exporter": "python",
   "pygments_lexer": "ipython3",
   "version": "3.6.8"
  }
 },
 "nbformat": 4,
 "nbformat_minor": 2
}
