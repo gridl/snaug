{
  "nbformat": 4,
  "nbformat_minor": 0,
  "metadata": {
    "kernelspec": {
      "name": "python3",
      "display_name": "Python 3"
    },
    "language_info": {
      "codemirror_mode": {
        "name": "ipython",
        "version": 3
      },
      "file_extension": ".py",
      "mimetype": "text/x-python",
      "name": "python",
      "nbconvert_exporter": "python",
      "pygments_lexer": "ipython3",
      "version": "3.6.8"
    },
    "colab": {
      "name": "snaug_final_model_generate_text_and_visualize.ipynb",
      "provenance": [],
      "collapsed_sections": []
    },
    "accelerator": "GPU"
  },
  "cells": [
    {
      "cell_type": "code",
      "metadata": {
        "id": "PbEqSsc5PFwf",
        "colab_type": "code",
        "outputId": "27b365e9-b0d3-4613-98c8-ef565af1a743",
        "colab": {
          "base_uri": "https://localhost:8080/",
          "height": 139
        }
      },
      "source": [
        "# for Google Colab only: Mount my Google Drive\n",
        "from google.colab import drive\n",
        "drive.mount('/gdrive')\n",
        "%cd /gdrive"
      ],
      "execution_count": 1,
      "outputs": [
        {
          "output_type": "stream",
          "text": [
            "Go to this URL in a browser: https://accounts.google.com/o/oauth2/auth?client_id=947318989803-6bn6qk8qdgf4n4g3pfee6491hc0brc4i.apps.googleusercontent.com&redirect_uri=urn%3aietf%3awg%3aoauth%3a2.0%3aoob&response_type=code&scope=email%20https%3a%2f%2fwww.googleapis.com%2fauth%2fdocs.test%20https%3a%2f%2fwww.googleapis.com%2fauth%2fdrive%20https%3a%2f%2fwww.googleapis.com%2fauth%2fdrive.photos.readonly%20https%3a%2f%2fwww.googleapis.com%2fauth%2fpeopleapi.readonly\n",
            "\n",
            "Enter your authorization code:\n",
            "··········\n",
            "Mounted at /gdrive\n",
            "/gdrive\n"
          ],
          "name": "stdout"
        }
      ]
    },
    {
      "cell_type": "code",
      "metadata": {
        "id": "GEtdFBnLPFwk",
        "colab_type": "code",
        "outputId": "5dcaa451-330a-4fcf-f3db-14677324e735",
        "colab": {
          "base_uri": "https://localhost:8080/",
          "height": 34
        }
      },
      "source": [
        "pwd"
      ],
      "execution_count": 2,
      "outputs": [
        {
          "output_type": "execute_result",
          "data": {
            "text/plain": [
              "'/gdrive'"
            ]
          },
          "metadata": {
            "tags": []
          },
          "execution_count": 2
        }
      ]
    },
    {
      "cell_type": "code",
      "metadata": {
        "id": "JzTw80LLPFwo",
        "colab_type": "code",
        "outputId": "23036af0-093b-43a3-9cc4-43ce456f8037",
        "colab": {
          "base_uri": "https://localhost:8080/",
          "height": 34
        }
      },
      "source": [
        "# for Google Colab only: Navigate to my snaug project folder\n",
        "cd 'My Drive/Colab Notebooks/snaug'"
      ],
      "execution_count": 3,
      "outputs": [
        {
          "output_type": "stream",
          "text": [
            "/gdrive/My Drive/Colab Notebooks/snaug\n"
          ],
          "name": "stdout"
        }
      ]
    },
    {
      "cell_type": "code",
      "metadata": {
        "id": "Mibbl1C6lfs8",
        "colab_type": "code",
        "colab": {}
      },
      "source": [
        ""
      ],
      "execution_count": 0,
      "outputs": []
    },
    {
      "cell_type": "code",
      "metadata": {
        "id": "oAiTvwq9i8Dm",
        "colab_type": "code",
        "outputId": "70f5fa83-f770-4947-841c-0d509aad8810",
        "colab": {
          "base_uri": "https://localhost:8080/",
          "height": 80
        }
      },
      "source": [
        "#\n",
        "# Load trained preferred model to generate new text and visualize it\n",
        "#\n",
        "\n",
        "from random import randint\n",
        "import textwrap\n",
        "\n",
        "from keras.models import load_model\n",
        "\n",
        "from data_common import load_doc, prepare_text_tokens\n",
        "from data_common import pathfinder_textfile, fixed_length_token_textfile\n",
        "from data_common import generate_seq_of_words\n",
        "from text_viz_common import init_text_viz_params, visualize_gen_text"
      ],
      "execution_count": 4,
      "outputs": [
        {
          "output_type": "stream",
          "text": [
            "Using TensorFlow backend.\n"
          ],
          "name": "stderr"
        },
        {
          "output_type": "display_data",
          "data": {
            "text/html": [
              "<p style=\"color: red;\">\n",
              "The default version of TensorFlow in Colab will soon switch to TensorFlow 2.x.<br>\n",
              "We recommend you <a href=\"https://www.tensorflow.org/guide/migrate\" target=\"_blank\">upgrade</a> now \n",
              "or ensure your notebook will continue to use TensorFlow 1.x via the <code>%tensorflow_version 1.x</code> magic:\n",
              "<a href=\"https://colab.research.google.com/notebooks/tensorflow_version.ipynb\" target=\"_blank\">more info</a>.</p>\n"
            ],
            "text/plain": [
              "<IPython.core.display.HTML object>"
            ]
          },
          "metadata": {
            "tags": []
          }
        }
      ]
    },
    {
      "cell_type": "code",
      "metadata": {
        "id": "0YiFetVBlg6Z",
        "colab_type": "code",
        "colab": {}
      },
      "source": [
        ""
      ],
      "execution_count": 0,
      "outputs": []
    },
    {
      "cell_type": "code",
      "metadata": {
        "id": "ZsNQ8Juhi8Qq",
        "colab_type": "code",
        "colab": {}
      },
      "source": [
        "def generate_and_visualize(lines, textgen_model, tokenizer, seq_length,\n",
        "                            nlp, matcher, entity_names, entity_labels,\n",
        "                            text_input='random'):\n",
        "    \"\"\"\n",
        "    generate new text using seed text based on:\n",
        "        1. user input seeding text, or\n",
        "        2. randomly selected from source text, when user chooses 'random' instead\n",
        "    \"\"\"\n",
        "    n_words = 75\n",
        "    temperature = 1.1\n",
        "\n",
        "    # select a seed text\n",
        "    seed_text = lines[randint(0,len(lines))] if text_input=='random' else text_input\n",
        "\n",
        "    # print('> using word tokenisation and pre-trained model')\n",
        "    # print('> seed text:')\n",
        "    # print(textwrap.fill('%s' % (seed_text), 80) + '\\n')\n",
        "\n",
        "    # generate new text using selected seed text with a temperature of 1.1\n",
        "    # for higher degree of randomness\n",
        "    generated = generate_seq_of_words(textgen_model, tokenizer, seq_length, \n",
        "                        seed_text, n_words, temperature)\n",
        "    #print(seed_text)\n",
        "    \n",
        "    if text_input=='random':\n",
        "        full_generated_text = ' '.join([seed_text, generated])\n",
        "    else:\n",
        "        full_generated_text = generated\n",
        "\n",
        "    # output visualized text via spaCy library functions, that highlight named entities\n",
        "    # pertaining to input files of Pathfinder tales\n",
        "    visualize_gen_text(full_generated_text, nlp, matcher, entity_names, entity_labels, using_notebook=True)"
      ],
      "execution_count": 0,
      "outputs": []
    },
    {
      "cell_type": "code",
      "metadata": {
        "id": "qWrFnK-8i8Su",
        "colab_type": "code",
        "colab": {}
      },
      "source": [
        ""
      ],
      "execution_count": 0,
      "outputs": []
    },
    {
      "cell_type": "code",
      "metadata": {
        "id": "hiMl8mt3i8WY",
        "colab_type": "code",
        "colab": {}
      },
      "source": [
        "# load fixed-length lines of tokens\n",
        "doc = load_doc(fixed_length_token_textfile)\n",
        "lines = doc.split('\\n')\n",
        "#print('Total lines: %d' % len(lines))"
      ],
      "execution_count": 0,
      "outputs": []
    },
    {
      "cell_type": "code",
      "metadata": {
        "id": "SvyE1r4Zi8YX",
        "colab_type": "code",
        "colab": {}
      },
      "source": [
        "# tokenize and separate into features and target\n",
        "X, y, seq_length, vocab_size, tokenizer = prepare_text_tokens(lines)"
      ],
      "execution_count": 0,
      "outputs": []
    },
    {
      "cell_type": "code",
      "metadata": {
        "id": "xb-5bcuePFxL",
        "colab_type": "code",
        "outputId": "f02c6d0e-f4e1-46e2-bc5f-2adabf58b7d2",
        "colab": {
          "base_uri": "https://localhost:8080/",
          "height": 462
        }
      },
      "source": [
        "# load Word2vec pre-trained model\n",
        "textgen_model = load_model('./model/pathfinder_wordtoken_w2v_model_50_epoch_noncuda_model.h5')"
      ],
      "execution_count": 9,
      "outputs": [
        {
          "output_type": "stream",
          "text": [
            "WARNING:tensorflow:From /usr/local/lib/python3.6/dist-packages/keras/backend/tensorflow_backend.py:541: The name tf.placeholder is deprecated. Please use tf.compat.v1.placeholder instead.\n",
            "\n",
            "WARNING:tensorflow:From /usr/local/lib/python3.6/dist-packages/keras/backend/tensorflow_backend.py:4432: The name tf.random_uniform is deprecated. Please use tf.random.uniform instead.\n",
            "\n",
            "WARNING:tensorflow:From /usr/local/lib/python3.6/dist-packages/keras/backend/tensorflow_backend.py:66: The name tf.get_default_graph is deprecated. Please use tf.compat.v1.get_default_graph instead.\n",
            "\n",
            "WARNING:tensorflow:From /usr/local/lib/python3.6/dist-packages/keras/backend/tensorflow_backend.py:148: The name tf.placeholder_with_default is deprecated. Please use tf.compat.v1.placeholder_with_default instead.\n",
            "\n",
            "WARNING:tensorflow:From /usr/local/lib/python3.6/dist-packages/keras/backend/tensorflow_backend.py:3733: calling dropout (from tensorflow.python.ops.nn_ops) with keep_prob is deprecated and will be removed in a future version.\n",
            "Instructions for updating:\n",
            "Please use `rate` instead of `keep_prob`. Rate should be set to `rate = 1 - keep_prob`.\n",
            "WARNING:tensorflow:From /usr/local/lib/python3.6/dist-packages/keras/backend/tensorflow_backend.py:190: The name tf.get_default_session is deprecated. Please use tf.compat.v1.get_default_session instead.\n",
            "\n",
            "WARNING:tensorflow:From /usr/local/lib/python3.6/dist-packages/keras/backend/tensorflow_backend.py:197: The name tf.ConfigProto is deprecated. Please use tf.compat.v1.ConfigProto instead.\n",
            "\n",
            "WARNING:tensorflow:From /usr/local/lib/python3.6/dist-packages/keras/backend/tensorflow_backend.py:203: The name tf.Session is deprecated. Please use tf.compat.v1.Session instead.\n",
            "\n",
            "WARNING:tensorflow:From /usr/local/lib/python3.6/dist-packages/keras/backend/tensorflow_backend.py:207: The name tf.global_variables is deprecated. Please use tf.compat.v1.global_variables instead.\n",
            "\n",
            "WARNING:tensorflow:From /usr/local/lib/python3.6/dist-packages/keras/backend/tensorflow_backend.py:216: The name tf.is_variable_initialized is deprecated. Please use tf.compat.v1.is_variable_initialized instead.\n",
            "\n",
            "WARNING:tensorflow:From /usr/local/lib/python3.6/dist-packages/keras/backend/tensorflow_backend.py:223: The name tf.variables_initializer is deprecated. Please use tf.compat.v1.variables_initializer instead.\n",
            "\n"
          ],
          "name": "stdout"
        },
        {
          "output_type": "stream",
          "text": [
            "/usr/local/lib/python3.6/dist-packages/keras/engine/saving.py:310: UserWarning: No training configuration found in save file: the model was *not* compiled. Compile it manually.\n",
            "  warnings.warn('No training configuration found in save file: '\n"
          ],
          "name": "stderr"
        }
      ]
    },
    {
      "cell_type": "code",
      "metadata": {
        "id": "1MbUzUnKrtm6",
        "colab_type": "code",
        "outputId": "1a092de0-13b2-41a0-ccb3-6c5662d42530",
        "colab": {
          "base_uri": "https://localhost:8080/",
          "height": 241
        }
      },
      "source": [
        "!python -m spacy download en_core_web_lg"
      ],
      "execution_count": 11,
      "outputs": [
        {
          "output_type": "stream",
          "text": [
            "Collecting en_core_web_lg==2.1.0\n",
            "\u001b[?25l  Downloading https://github.com/explosion/spacy-models/releases/download/en_core_web_lg-2.1.0/en_core_web_lg-2.1.0.tar.gz (826.9MB)\n",
            "\u001b[K     |████████████████████████████████| 826.9MB 47.0MB/s \n",
            "\u001b[?25hBuilding wheels for collected packages: en-core-web-lg\n",
            "  Building wheel for en-core-web-lg (setup.py) ... \u001b[?25l\u001b[?25hdone\n",
            "  Created wheel for en-core-web-lg: filename=en_core_web_lg-2.1.0-cp36-none-any.whl size=828255076 sha256=16ab21ab33270dfbd1dbb5bd665e1a457a3b005b28ddf0f7abb3c1998c80d726\n",
            "  Stored in directory: /tmp/pip-ephem-wheel-cache-m6_wvuuk/wheels/b4/d7/70/426d313a459f82ed5e06cc36a50e2bb2f0ec5cb31d8e0bdf09\n",
            "Successfully built en-core-web-lg\n",
            "Installing collected packages: en-core-web-lg\n",
            "Successfully installed en-core-web-lg-2.1.0\n",
            "\u001b[38;5;2m✔ Download and installation successful\u001b[0m\n",
            "You can now load the model via spacy.load('en_core_web_lg')\n"
          ],
          "name": "stdout"
        }
      ]
    },
    {
      "cell_type": "code",
      "metadata": {
        "id": "KVyrDK_VrhEv",
        "colab_type": "code",
        "colab": {}
      },
      "source": [
        "# initialize text visualization parameters\n",
        "nlp, matcher, entity_names, entity_labels = init_text_viz_params()"
      ],
      "execution_count": 0,
      "outputs": []
    },
    {
      "cell_type": "code",
      "metadata": {
        "id": "vmy5bwGrsVe_",
        "colab_type": "code",
        "colab": {}
      },
      "source": [
        ""
      ],
      "execution_count": 0,
      "outputs": []
    },
    {
      "cell_type": "code",
      "metadata": {
        "id": "HVt8jZI7uEA3",
        "colab_type": "code",
        "colab": {
          "base_uri": "https://localhost:8080/",
          "height": 1000
        },
        "outputId": "e6f3f5bb-2228-4a93-cebe-b38691177f3a"
      },
      "source": [
        "text_input='random'\n",
        "while True:\n",
        "    text_input = input(\"Hit <ENTER> to automate or 'quit' to exit: \")\n",
        "    if text_input=='quit':\n",
        "        break\n",
        "    else:\n",
        "        text_input='random'\n",
        "    generate_and_visualize(lines, textgen_model, tokenizer, seq_length,\n",
        "                        nlp, matcher, entity_names, entity_labels,\n",
        "                        text_input=text_input)"
      ],
      "execution_count": 31,
      "outputs": [
        {
          "output_type": "stream",
          "text": [
            "Hit <ENTER> to automate or 'quit' to exit: \n"
          ],
          "name": "stdout"
        },
        {
          "output_type": "stream",
          "text": [
            "/gdrive/My Drive/Colab Notebooks/snaug/data_common.py:143: RuntimeWarning: divide by zero encountered in log\n",
            "  preds = np.log(preds) / temperature\n"
          ],
          "name": "stderr"
        },
        {
          "output_type": "stream",
          "text": [
            "\n",
            "-----------------------------------------------------------------------------------------------\n",
            "Snaug_bot:\n"
          ],
          "name": "stdout"
        },
        {
          "output_type": "display_data",
          "data": {
            "text/html": [
              "<div class=\"entities\" style=\"line-height: 2.5; direction: ltr\">making it impossible to see anything inside the aquarium allow the pcs to attempt to drink the tankard if they wish the cost is sp and they need to succeed at three consecutive fortitude saves dc and in order to drink the entire tankard should one of the pcs manage to gulp down the contents of the tankard he wins the current purse of sp and may carve his name in the ceiling beam the crowd cheers its support while gesturing to a table near the back of the common room seated at the table are three women and two men one woman wears a tricorne hat and a long black coat her demeanor clearly singling her out as the captain as the pcs approach the</div>"
            ],
            "text/plain": [
              "<IPython.core.display.HTML object>"
            ]
          },
          "metadata": {
            "tags": []
          }
        },
        {
          "output_type": "stream",
          "text": [
            "\n",
            "Notables:\n",
            ">>> None found.\n",
            "-----------------------------------------------------------------------------------------------\n",
            "\n",
            "\n",
            "Hit <ENTER> to automate or 'quit' to exit: \n",
            "\n",
            "-----------------------------------------------------------------------------------------------\n",
            "Snaug_bot:\n"
          ],
          "name": "stdout"
        },
        {
          "output_type": "display_data",
          "data": {
            "text/html": [
              "<div class=\"entities\" style=\"line-height: 2.5; direction: ltr\">fragments of old tools rusted mine cart rails and a few recent dwarven boot prints but it is otherwise quiet before you enter the mine you have time to light torches cast spells and make other preparations this room has clues that the mines are inhabited by monsters and the missing dwarves fought here when the pcs enter this area draw it on the map and read the following to them tunnel is another male dwarf in clothes lying face up two sets of dwarf footprints lead into this area and only one set leads out dwarf the unconscious dwarf \n",
              "<mark class=\"entity\" style=\"background: #aef5ef; padding: 0.45em 0.6em; margin: 0 0.25em; line-height: 1; border-radius: 0.35em; box-decoration-break: clone; -webkit-box-decoration-break: clone\">\n",
              "    Durn\n",
              "    <span style=\"font-size: 0.8em; font-weight: bold; line-height: 1; border-radius: 0.35em; text-transform: uppercase; vertical-align: middle; margin-left: 0.5rem\">PER</span>\n",
              "</mark>\n",
              " is alive and stable at hit points the pcs can help him after they defeat the \n",
              "<mark class=\"entity\" style=\"background: #58f549; padding: 0.45em 0.6em; margin: 0 0.25em; line-height: 1; border-radius: 0.35em; box-decoration-break: clone; -webkit-box-decoration-break: clone\">\n",
              "    elemental\n",
              "    <span style=\"font-size: 0.8em; font-weight: bold; line-height: 1; border-radius: 0.35em; text-transform: uppercase; vertical-align: middle; margin-left: 0.5rem\">MOB</span>\n",
              "</mark>\n",
              " or can carry him to safety if they</div>"
            ],
            "text/plain": [
              "<IPython.core.display.HTML object>"
            ]
          },
          "metadata": {
            "tags": []
          }
        },
        {
          "output_type": "stream",
          "text": [
            "\n",
            "Notables:\n",
            "   PER(s)\t: Durn\n",
            "   MOB(s)\t: elemental\n",
            "-----------------------------------------------------------------------------------------------\n",
            "\n",
            "\n",
            "Hit <ENTER> to automate or 'quit' to exit: \n",
            "\n",
            "-----------------------------------------------------------------------------------------------\n",
            "Snaug_bot:\n"
          ],
          "name": "stdout"
        },
        {
          "output_type": "display_data",
          "data": {
            "text/html": [
              "<div class=\"entities\" style=\"line-height: 2.5; direction: ltr\">scavenging off the wrecks of passing ships Aldemar suspicious of his good fortune played along for several days when Shabana left to gather food for them however he followed her and was shocked to see her in her true form burying a chest of valuables he knew to belong to the captain of his wrecked ship the foul thunder determined to leave the island Aldemar quickly patched up a broken longboat and took his chances with the sea where he was rescued by a passing ship a local scoundrel named \n",
              "<mark class=\"entity\" style=\"background: #aef5ef; padding: 0.45em 0.6em; margin: 0 0.25em; line-height: 1; border-radius: 0.35em; box-decoration-break: clone; -webkit-box-decoration-break: clone\">\n",
              "    Krzysztof Szabo\n",
              "    <span style=\"font-size: 0.8em; font-weight: bold; line-height: 1; border-radius: 0.35em; text-transform: uppercase; vertical-align: middle; margin-left: 0.5rem\">PER</span>\n",
              "</mark>\n",
              " bought a map from Aldemar showing the location of scuttle isle as he called it them to her before they discover her collected treasures the hagfish is well known in \n",
              "<mark class=\"entity\" style=\"background: pink; padding: 0.45em 0.6em; margin: 0 0.25em; line-height: 1; border-radius: 0.35em; box-decoration-break: clone; -webkit-box-decoration-break: clone\">\n",
              "    Sandpoint\n",
              "    <span style=\"font-size: 0.8em; font-weight: bold; line-height: 1; border-radius: 0.35em; text-transform: uppercase; vertical-align: middle; margin-left: 0.5rem\">LOC</span>\n",
              "</mark>\n",
              " particularly to gamblers</div>"
            ],
            "text/plain": [
              "<IPython.core.display.HTML object>"
            ]
          },
          "metadata": {
            "tags": []
          }
        },
        {
          "output_type": "stream",
          "text": [
            "\n",
            "Notables:\n",
            "   PER(s)\t: Aldemar, Shabana, Krzysztof Szabo\n",
            "   LOC(s)\t: Sandpoint\n",
            "-----------------------------------------------------------------------------------------------\n",
            "\n",
            "\n",
            "Hit <ENTER> to automate or 'quit' to exit: quit\n"
          ],
          "name": "stdout"
        }
      ]
    },
    {
      "cell_type": "code",
      "metadata": {
        "id": "SmUSfBzk40RH",
        "colab_type": "code",
        "colab": {}
      },
      "source": [
        ""
      ],
      "execution_count": 0,
      "outputs": []
    }
  ]
}