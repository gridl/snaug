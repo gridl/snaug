{
 "cells": [
  {
   "cell_type": "code",
   "execution_count": 1,
   "metadata": {},
   "outputs": [
    {
     "name": "stdout",
     "output_type": "stream",
     "text": [
      "['/home/ringoshin/.Envs/pfbot/lib/python36.zip', '/home/ringoshin/.Envs/pfbot/lib/python3.6', '/home/ringoshin/.Envs/pfbot/lib/python3.6/lib-dynload', '/usr/lib/python3.6', '', '/home/ringoshin/.Envs/pfbot/lib/python3.6/site-packages', '/home/ringoshin/.Envs/pfbot/lib/python3.6/site-packages/IPython/extensions', '/home/ringoshin/.ipython']\n",
      "\n",
      "/usr/local/cuda-10.0/lib64\n"
     ]
    }
   ],
   "source": [
    "import sys\n",
    "import os\n",
    "print(sys.path)\n",
    "print()\n",
    "print(os.environ['LD_LIBRARY_PATH'])"
   ]
  },
  {
   "cell_type": "code",
   "execution_count": 2,
   "metadata": {},
   "outputs": [
    {
     "name": "stdout",
     "output_type": "stream",
     "text": [
      "['/home/ringoshin/.Envs/pfbot/lib/python36.zip', '/home/ringoshin/.Envs/pfbot/lib/python3.6', '/home/ringoshin/.Envs/pfbot/lib/python3.6/lib-dynload', '/usr/lib/python3.6', '', '/home/ringoshin/.Envs/pfbot/lib/python3.6/site-packages', '/home/ringoshin/.Envs/pfbot/lib/python3.6/site-packages/IPython/extensions', '/home/ringoshin/.ipython', '/usr/local/cuda-10.0/bin']\n"
     ]
    }
   ],
   "source": [
    "sys.path.append(\"/usr/local/cuda-10.0/bin\")\n",
    "print(sys.path)\n",
    "\n",
    "#os.environ['LD_LIBRARY_PATH'] = \"/usr/local/cuda-10.0/lib64"
   ]
  },
  {
   "cell_type": "code",
   "execution_count": 3,
   "metadata": {},
   "outputs": [
    {
     "name": "stdout",
     "output_type": "stream",
     "text": [
      "Yes, we have GPU!\n"
     ]
    }
   ],
   "source": [
    "import tensorflow as tf\n",
    "gpu_check = tf.test.gpu_device_name()\n",
    "#print(tf.test.gpu_device_name(),'\\n')\n",
    "if 'GPU' in gpu_check:\n",
    "    print(\"Yes, we have GPU!\")\n",
    "else:\n",
    "    print(\"No GPU found.\")"
   ]
  },
  {
   "cell_type": "code",
   "execution_count": 4,
   "metadata": {},
   "outputs": [
    {
     "name": "stderr",
     "output_type": "stream",
     "text": [
      "Using TensorFlow backend.\n"
     ]
    }
   ],
   "source": [
    "from keras.backend.tensorflow_backend import set_session\n",
    "config = tf.ConfigProto()\n",
    "config.gpu_options.allow_growth = True\n",
    "sess = tf.Session(config=config)\n",
    "set_session(sess)"
   ]
  },
  {
   "cell_type": "code",
   "execution_count": 0,
   "metadata": {
    "colab": {
     "base_uri": "https://localhost:8080/",
     "height": 139
    },
    "colab_type": "code",
    "id": "ok64ThP9su5E",
    "outputId": "d6d3c5cc-8f93-4c40-e036-a98df871c544"
   },
   "outputs": [
    {
     "name": "stdout",
     "output_type": "stream",
     "text": [
      "Go to this URL in a browser: https://accounts.google.com/o/oauth2/auth?client_id=947318989803-6bn6qk8qdgf4n4g3pfee6491hc0brc4i.apps.googleusercontent.com&redirect_uri=urn%3Aietf%3Awg%3Aoauth%3A2.0%3Aoob&scope=email%20https%3A%2F%2Fwww.googleapis.com%2Fauth%2Fdocs.test%20https%3A%2F%2Fwww.googleapis.com%2Fauth%2Fdrive%20https%3A%2F%2Fwww.googleapis.com%2Fauth%2Fdrive.photos.readonly%20https%3A%2F%2Fwww.googleapis.com%2Fauth%2Fpeopleapi.readonly&response_type=code\n",
      "\n",
      "Enter your authorization code:\n",
      "··········\n",
      "Mounted at /gdrive\n",
      "/gdrive\n"
     ]
    }
   ],
   "source": [
    "from google.colab import drive\n",
    "drive.mount('/gdrive')\n",
    "%cd /gdrive"
   ]
  },
  {
   "cell_type": "code",
   "execution_count": 1,
   "metadata": {
    "colab": {
     "base_uri": "https://localhost:8080/",
     "height": 34
    },
    "colab_type": "code",
    "id": "e79nIvIEsxUV",
    "outputId": "3315d09a-baaa-41ee-a6d9-d0642184c27a"
   },
   "outputs": [
    {
     "data": {
      "text/plain": [
       "'/home/ringoshin/Projects/z - learning/0 - Kaplan/proj/pfbot'"
      ]
     },
     "execution_count": 1,
     "metadata": {},
     "output_type": "execute_result"
    }
   ],
   "source": [
    "pwd"
   ]
  },
  {
   "cell_type": "code",
   "execution_count": 0,
   "metadata": {
    "colab": {
     "base_uri": "https://localhost:8080/",
     "height": 34
    },
    "colab_type": "code",
    "id": "WbFDVVMFsxW5",
    "outputId": "10f8aeda-9204-4a6a-e322-b9255be88355"
   },
   "outputs": [
    {
     "name": "stdout",
     "output_type": "stream",
     "text": [
      "/gdrive/My Drive/data\n"
     ]
    }
   ],
   "source": [
    "cd 'My Drive/data'"
   ]
  },
  {
   "cell_type": "code",
   "execution_count": 4,
   "metadata": {
    "colab": {
     "base_uri": "https://localhost:8080/",
     "height": 68
    },
    "colab_type": "code",
    "id": "a04PCiBVsxYM",
    "outputId": "73ce0c43-6e9c-424f-98a2-48626f49b73c"
   },
   "outputs": [
    {
     "name": "stdout",
     "output_type": "stream",
     "text": [
      "ls: cannot access '*txt': No such file or directory\r\n"
     ]
    }
   ],
   "source": [
    "!ls *txt"
   ]
  },
  {
   "cell_type": "code",
   "execution_count": 4,
   "metadata": {
    "colab": {
     "base_uri": "https://localhost:8080/",
     "height": 34
    },
    "colab_type": "code",
    "id": "UjS6zQGVsH3M",
    "outputId": "5fff1a1e-ada7-413e-9233-c0da1c68e131"
   },
   "outputs": [
    {
     "name": "stderr",
     "output_type": "stream",
     "text": [
      "Using TensorFlow backend.\n"
     ]
    }
   ],
   "source": [
    "import numpy as np\n",
    "import matplotlib.pyplot as plt\n",
    "import gensim\n",
    "import string\n",
    "\n",
    "import textwrap\n",
    "\n",
    "from keras.layers import LSTM, CuDNNLSTM\n",
    "from keras.layers.embeddings import Embedding\n",
    "from keras.layers import Dense, Activation, Dropout\n",
    "from keras.models import Sequential\n",
    "from keras.callbacks import LambdaCallback, ModelCheckpoint\n",
    "\n",
    "from keras.utils.data_utils import get_file\n",
    "from keras.models import load_model\n",
    "import pickle\n",
    "\n",
    "from gensim.test.utils import datapath, get_tmpfile\n",
    "from gensim.models import Word2Vec, KeyedVectors\n",
    "from gensim.scripts.glove2word2vec import glove2word2vec\n"
   ]
  },
  {
   "cell_type": "code",
   "execution_count": 5,
   "metadata": {
    "colab": {
     "base_uri": "https://localhost:8080/",
     "height": 51
    },
    "colab_type": "code",
    "id": "cxDY40q7sxnG",
    "outputId": "9d5fe6ed-40be-4ac2-ee6d-c64f8bed79b5"
   },
   "outputs": [
    {
     "name": "stdout",
     "output_type": "stream",
     "text": [
      "\n",
      "Fetching the text...\n"
     ]
    }
   ],
   "source": [
    "print('\\nFetching the text...')\n",
    "#path = 'dragonlance_chronicles.txt'\n",
    "#path = 'textgen_pathfinder.txt'\n",
    "path = 'data/textgen_pathfinder.txt'"
   ]
  },
  {
   "cell_type": "code",
   "execution_count": 6,
   "metadata": {
    "colab": {},
    "colab_type": "code",
    "id": "HU29GhWqPFYa"
   },
   "outputs": [],
   "source": [
    "# load doc into memory\n",
    "def load_doc(filename):\n",
    "    # open the file as read only\n",
    "    file = open(filename, 'r', encoding=\"utf8\")\n",
    "    # read all text\n",
    "    text = file.read()\n",
    "    # close the file\n",
    "    file.close()\n",
    "    return text"
   ]
  },
  {
   "cell_type": "code",
   "execution_count": 7,
   "metadata": {
    "colab": {
     "base_uri": "https://localhost:8080/",
     "height": 68
    },
    "colab_type": "code",
    "id": "GV4BPi46PIbm",
    "outputId": "747573ed-54a4-4356-f219-329cdba0dcd4"
   },
   "outputs": [
    {
     "name": "stdout",
     "output_type": "stream",
     "text": [
      "The giant black widow spider is a tough, CR 3  poisonous spider. The marsh-\n",
      "dwelling lizardfolk can be dangerous enemies or helpful—if cautiously\n",
      "neutral—allies. The flesh-eating minotaur is a tough so\n"
     ]
    }
   ],
   "source": [
    "# load document\n",
    "docs = load_doc(path)\n",
    "#print(docs[:200])\n",
    "print(textwrap.fill('%s' % (docs[:200]), 80))"
   ]
  },
  {
   "cell_type": "code",
   "execution_count": 8,
   "metadata": {
    "colab": {},
    "colab_type": "code",
    "id": "QBfM_9hpVjAP"
   },
   "outputs": [],
   "source": [
    "# -*- coding: utf-8 -*-\n",
    "import re\n",
    "alphabets= \"([A-Za-z])\"\n",
    "prefixes = \"(Mr|St|Mrs|Ms|Dr)[.]\"\n",
    "suffixes = \"(Inc|Ltd|Jr|Sr|Co)\"\n",
    "starters = \"(Mr|Mrs|Ms|Dr|He\\s|She\\s|It\\s|They\\s|Their\\s|Our\\s|We\\s|But\\s|However\\s|That\\s|This\\s|Wherever)\"\n",
    "acronyms = \"([A-Z][.][A-Z][.](?:[A-Z][.])?)\"\n",
    "websites = \"[.](com|net|org|io|gov)\"\n",
    "\n",
    "def split_into_sentences(text):\n",
    "    text = \" \" + text + \"  \"\n",
    "    text = text.replace(\"\\n\",\" \")\n",
    "    text = re.sub(prefixes,\"\\\\1<prd>\",text)\n",
    "    text = re.sub(websites,\"<prd>\\\\1\",text)\n",
    "    if \"Ph.D\" in text: text = text.replace(\"Ph.D.\",\"Ph<prd>D<prd>\")\n",
    "    text = re.sub(\"\\s\" + alphabets + \"[.] \",\" \\\\1<prd> \",text)\n",
    "    text = re.sub(acronyms+\" \"+starters,\"\\\\1<stop> \\\\2\",text)\n",
    "    text = re.sub(alphabets + \"[.]\" + alphabets + \"[.]\" + alphabets + \"[.]\",\"\\\\1<prd>\\\\2<prd>\\\\3<prd>\",text)\n",
    "    text = re.sub(alphabets + \"[.]\" + alphabets + \"[.]\",\"\\\\1<prd>\\\\2<prd>\",text)\n",
    "    text = re.sub(\" \"+suffixes+\"[.] \"+starters,\" \\\\1<stop> \\\\2\",text)\n",
    "    text = re.sub(\" \"+suffixes+\"[.]\",\" \\\\1<prd>\",text)\n",
    "    text = re.sub(\" \" + alphabets + \"[.]\",\" \\\\1<prd>\",text)\n",
    "    if \"”\" in text: text = text.replace(\".”\",\"”.\")\n",
    "    if \"\\\"\" in text: text = text.replace(\".\\\"\",\"\\\".\")\n",
    "    if \"!\" in text: text = text.replace(\"!\\\"\",\"\\\"!\")\n",
    "    if \"?\" in text: text = text.replace(\"?\\\"\",\"\\\"?\")\n",
    "    text = text.replace(\".\",\".<stop>\")\n",
    "    text = text.replace(\"?\",\"?<stop>\")\n",
    "    text = text.replace(\"!\",\"!<stop>\")\n",
    "    text = text.replace(\"<prd>\",\".\")\n",
    "    sentences = text.split(\"<stop>\")\n",
    "    sentences = sentences[:-1]\n",
    "    sentences = [s.strip() for s in sentences]\n",
    "    return sentences"
   ]
  },
  {
   "cell_type": "code",
   "execution_count": 9,
   "metadata": {
    "colab": {
     "base_uri": "https://localhost:8080/",
     "height": 34
    },
    "colab_type": "code",
    "id": "wonROtNC6hdk",
    "outputId": "0ed19a15-49de-4621-a4a0-cda087896554"
   },
   "outputs": [
    {
     "data": {
      "text/plain": [
       "'!\"#$%&\\'()*+,-./:;<=>?@[\\\\]^_`{|}~'"
      ]
     },
     "execution_count": 9,
     "metadata": {},
     "output_type": "execute_result"
    }
   ],
   "source": [
    "string.punctuation"
   ]
  },
  {
   "cell_type": "code",
   "execution_count": 10,
   "metadata": {
    "colab": {},
    "colab_type": "code",
    "id": "U5zqSYNON_n-"
   },
   "outputs": [],
   "source": [
    "import string\n",
    " \n",
    "# turn a doc into clean tokens\n",
    "def clean_doc(doc):\n",
    "    # replace '--' with a space ' '\n",
    "    doc = doc.replace('--', ' ')\n",
    "    # replace '-' with a space ' '\n",
    "    doc = doc.replace('-', ' ')\n",
    "    # split into tokens by white space\n",
    "    tokens = doc.split()\n",
    "    # remove punctuation from each token\n",
    "    table = str.maketrans('', '', string.punctuation)\n",
    "    tokens = [w.translate(table) for w in tokens]\n",
    "    # remove remaining tokens that are not alphabetic\n",
    "    tokens = [word for word in tokens if word.isalpha()]\n",
    "    # make lower case\n",
    "    tokens = [word.lower() for word in tokens]\n",
    "    return tokens"
   ]
  },
  {
   "cell_type": "code",
   "execution_count": 11,
   "metadata": {
    "colab": {
     "base_uri": "https://localhost:8080/",
     "height": 88
    },
    "colab_type": "code",
    "id": "3GSga3g80VDu",
    "outputId": "f9eb5531-961c-474e-cc06-0673de045bd9"
   },
   "outputs": [
    {
     "name": "stdout",
     "output_type": "stream",
     "text": [
      "['the', 'giant', 'black', 'widow', 'spider', 'is', 'a', 'tough', 'cr', 'poisonous', 'spider', 'the', 'marsh', 'dwelling', 'lizardfolk', 'can', 'be', 'dangerous', 'enemies', 'or', 'cautiously', 'the', 'flesh', 'eating', 'minotaur', 'is', 'a', 'tough', 'solo', 'opponent', 'for', 'higher', 'level', 'characters', 'or', 'the', 'deadly', 'boss', 'of', 'a', 'tribe', 'of', 'orcs', 'or', 'goblins', 'the', 'wererat', 'is', 'a', 'sneaky', 'shapeshifter', 'relying', 'on', 'stealth', 'and', 'sneak', 'attacks', 'instead', 'of', 'a', 'frontal', 'assault', 'like', 'the', 'werewolf', 'the', 'entrance', 'to', 'the', 'old', 'mine', 'the', 'outside', 'of', 'the', 'mine', 'is', 'a', 'natural', 'cave', 'supported', 'by', 'thick', 'timbers', 'and', 'extending', 'straight', 'into', 'the', 'hillside', 'you', 'can', 'see', 'fragments', 'of', 'old', 'tools', 'rusted', 'mine', 'cart', 'rails', 'and', 'a', 'few', 'recent', 'dwarven', 'boot', 'prints', 'but', 'it', 'is', 'otherwise', 'quiet', 'before', 'you', 'enter', 'the', 'mine', 'you', 'have', 'time', 'to', 'light', 'torches', 'cast', 'spells', 'and', 'make', 'other', 'preparations', 'this', 'room', 'has', 'clues', 'that', 'the', 'mines', 'are', 'inhabited', 'by', 'monsters', 'and', 'the', 'missing', 'dwarves', 'fought', 'here', 'when', 'the', 'pcs', 'enter', 'this', 'area', 'draw', 'it', 'on', 'the', 'map', 'and', 'read', 'the', 'following', 'to', 'them', 'the', 'rusty', 'mine', 'cart', 'rails', 'crisscross', 'the', 'floor', 'in', 'this', 'area', 'leading', 'west', 'north', 'east', 'and', 'back', 'south', 'to', 'the', 'entrance', 'dwarven', 'boot', 'prints', 'are', 'visible', 'all', 'over', 'the', 'dirt', 'floor', 'the', 'ground', 'to', 'the', 'northeast']\n",
      "Total Tokens: 13097\n",
      "Unique Tokens: 2925\n"
     ]
    }
   ],
   "source": [
    "tokens = clean_doc(docs)\n",
    "print(tokens[:200])\n",
    "print('Total Tokens: %d' % len(tokens))\n",
    "print('Unique Tokens: %d' % len(set(tokens)))"
   ]
  },
  {
   "cell_type": "code",
   "execution_count": 12,
   "metadata": {
    "colab": {
     "base_uri": "https://localhost:8080/",
     "height": 34
    },
    "colab_type": "code",
    "id": "rlLDpbWPuAjL",
    "outputId": "4953037a-a6c3-46d3-ceca-ba23f2ff55bf"
   },
   "outputs": [
    {
     "name": "stdout",
     "output_type": "stream",
     "text": [
      "Total Sequences: 13046\n"
     ]
    }
   ],
   "source": [
    "# organize into sequences of tokens\n",
    "length = 50 + 1\n",
    "sequences = list()\n",
    "for i in range(length, len(tokens)):\n",
    "    # select sequence of tokens\n",
    "    seq = tokens[i-length:i]\n",
    "    # convert into a line\n",
    "    line = ' '.join(seq)\n",
    "    # store\n",
    "    sequences.append(line)\n",
    "print('Total Sequences: %d' % len(sequences))"
   ]
  },
  {
   "cell_type": "code",
   "execution_count": 13,
   "metadata": {
    "colab": {},
    "colab_type": "code",
    "id": "JbJ9pDRpYPUn"
   },
   "outputs": [],
   "source": [
    "# save tokens to file, one dialog per line\n",
    "def save_doc(lines, filename):\n",
    "    data = '\\n'.join(lines)\n",
    "    file = open(filename, 'w')\n",
    "    file.write(data)\n",
    "    file.close()"
   ]
  },
  {
   "cell_type": "code",
   "execution_count": 14,
   "metadata": {
    "colab": {},
    "colab_type": "code",
    "id": "QBnG7C9GaXlG"
   },
   "outputs": [],
   "source": [
    "# save sequences to file\n",
    "out_filename = 'data/pathfinder_token_sequences.txt'\n",
    "save_doc(sequences, out_filename)"
   ]
  },
  {
   "cell_type": "code",
   "execution_count": 14,
   "metadata": {
    "colab": {},
    "colab_type": "code",
    "id": "edkbJ_lp4M1Z"
   },
   "outputs": [],
   "source": [
    "# load doc into memory\n",
    "def load_doc(filename):\n",
    "    # open the file as read only\n",
    "    file = open(filename, 'r', encoding=\"utf8\")\n",
    "    # read all text\n",
    "    text = file.read()\n",
    "    # close the file\n",
    "    file.close()\n",
    "    return text"
   ]
  },
  {
   "cell_type": "code",
   "execution_count": 15,
   "metadata": {
    "colab": {},
    "colab_type": "code",
    "id": "F9cnG8yMDzuK"
   },
   "outputs": [],
   "source": [
    "# load\n",
    "in_filename = 'data/pathfinder_token_sequences.txt'\n",
    "doc = load_doc(in_filename)\n",
    "lines = doc.split('\\n')"
   ]
  },
  {
   "cell_type": "code",
   "execution_count": 16,
   "metadata": {
    "colab": {},
    "colab_type": "code",
    "id": "qkQ6opdyqyRK"
   },
   "outputs": [],
   "source": [
    "sentences = [line.split() for line in lines]\n",
    "#sentences[:2]"
   ]
  },
  {
   "cell_type": "code",
   "execution_count": null,
   "metadata": {},
   "outputs": [],
   "source": []
  },
  {
   "cell_type": "code",
   "execution_count": null,
   "metadata": {},
   "outputs": [],
   "source": [
    "# save gensim Word2Vec word model trained with text sentences\n",
    "pickle.dump(word_model, open('pathfinder_token_w2v300_word_model.pkl', 'wb'))\n",
    "pickle.dump(pretrained_weights, open('pathfinder_token_w2v300_weights.pkl', 'wb'))\n",
    "\n",
    "# save the tokenizer\n",
    "pickle.dump(tokenizer, open('pathfinder_token_tokenizer.pkl', 'wb'))\n",
    "\n",
    "# save the model to file\n",
    "model.save('pathfinder_token_w2v_model_100_epoch.h5')\n",
    "# with open('pathfinder_token_w2v_model_100_epoch.pkl', 'wb') as f:\n",
    "#        pickle.dump(model, f)\n",
    "\n",
    "# serialize weights to HDF5\n",
    "model.save_weights(\"pathfinder_token_w2v_model_100_epoch_weights.h5\")\n",
    "\n",
    "# save the history\n",
    "with open('pathfinder_token_w2v_model_100_epoch_history.pkl', 'wb') as f:\n",
    "    pickle.dump(history, f)  "
   ]
  },
  {
   "cell_type": "code",
   "execution_count": 17,
   "metadata": {},
   "outputs": [],
   "source": [
    "word_model = pickle.load(open('model/pathfinder_token_w2v300_word_model.pkl', 'rb'))\n",
    "pretrained_weights = pickle.load(open('model/pathfinder_token_w2v300_weights.pkl', 'rb'))\n",
    "\n",
    "tokenizer = pickle.load(open('model/pathfinder_token_tokenizer.pkl', 'rb'))\n",
    "\n",
    "#model = load_model('model/pathfinder_token_w2v_model_100_epoch.h5')\n",
    "#model = pickle.load(open('pathfinder_token_w2v_model_100_epoch.pkl', 'rb'))\n",
    "\n",
    "#history = pickle.load(open('model/pathfinder_token_w2v_model_100_epoch_history.pkl', 'rb'))\n",
    "\n",
    "#model.load_weights(\"model/pathfinder_token_w2v_model_100_epoch_weights.h5\")"
   ]
  },
  {
   "cell_type": "code",
   "execution_count": 18,
   "metadata": {},
   "outputs": [
    {
     "name": "stdout",
     "output_type": "stream",
     "text": [
      "WARNING:tensorflow:From /home/ringoshin/.Envs/pfbot/lib/python3.6/site-packages/keras/backend/tensorflow_backend.py:541: The name tf.placeholder is deprecated. Please use tf.compat.v1.placeholder instead.\n",
      "\n",
      "WARNING:tensorflow:From /home/ringoshin/.Envs/pfbot/lib/python3.6/site-packages/keras/backend/tensorflow_backend.py:4432: The name tf.random_uniform is deprecated. Please use tf.random.uniform instead.\n",
      "\n",
      "WARNING:tensorflow:From /home/ringoshin/.Envs/pfbot/lib/python3.6/site-packages/keras/backend/tensorflow_backend.py:66: The name tf.get_default_graph is deprecated. Please use tf.compat.v1.get_default_graph instead.\n",
      "\n",
      "WARNING:tensorflow:From /home/ringoshin/.Envs/pfbot/lib/python3.6/site-packages/keras/backend/tensorflow_backend.py:148: The name tf.placeholder_with_default is deprecated. Please use tf.compat.v1.placeholder_with_default instead.\n",
      "\n",
      "WARNING:tensorflow:From /home/ringoshin/.Envs/pfbot/lib/python3.6/site-packages/keras/backend/tensorflow_backend.py:3733: calling dropout (from tensorflow.python.ops.nn_ops) with keep_prob is deprecated and will be removed in a future version.\n",
      "Instructions for updating:\n",
      "Please use `rate` instead of `keep_prob`. Rate should be set to `rate = 1 - keep_prob`.\n",
      "WARNING:tensorflow:From /home/ringoshin/.Envs/pfbot/lib/python3.6/site-packages/keras/backend/tensorflow_backend.py:190: The name tf.get_default_session is deprecated. Please use tf.compat.v1.get_default_session instead.\n",
      "\n",
      "WARNING:tensorflow:From /home/ringoshin/.Envs/pfbot/lib/python3.6/site-packages/keras/backend/tensorflow_backend.py:207: The name tf.global_variables is deprecated. Please use tf.compat.v1.global_variables instead.\n",
      "\n",
      "WARNING:tensorflow:From /home/ringoshin/.Envs/pfbot/lib/python3.6/site-packages/keras/backend/tensorflow_backend.py:216: The name tf.is_variable_initialized is deprecated. Please use tf.compat.v1.is_variable_initialized instead.\n",
      "\n",
      "WARNING:tensorflow:From /home/ringoshin/.Envs/pfbot/lib/python3.6/site-packages/keras/backend/tensorflow_backend.py:223: The name tf.variables_initializer is deprecated. Please use tf.compat.v1.variables_initializer instead.\n",
      "\n",
      "WARNING:tensorflow:From /home/ringoshin/.Envs/pfbot/lib/python3.6/site-packages/keras/optimizers.py:793: The name tf.train.Optimizer is deprecated. Please use tf.compat.v1.train.Optimizer instead.\n",
      "\n",
      "WARNING:tensorflow:From /home/ringoshin/.Envs/pfbot/lib/python3.6/site-packages/keras/backend/tensorflow_backend.py:3576: The name tf.log is deprecated. Please use tf.math.log instead.\n",
      "\n",
      "WARNING:tensorflow:From /home/ringoshin/.Envs/pfbot/lib/python3.6/site-packages/tensorflow_core/python/ops/math_grad.py:1424: where (from tensorflow.python.ops.array_ops) is deprecated and will be removed in a future version.\n",
      "Instructions for updating:\n",
      "Use tf.where in 2.0, which has the same broadcast rule as np.where\n",
      "WARNING:tensorflow:From /home/ringoshin/.Envs/pfbot/lib/python3.6/site-packages/keras/backend/tensorflow_backend.py:1033: The name tf.assign_add is deprecated. Please use tf.compat.v1.assign_add instead.\n",
      "\n",
      "WARNING:tensorflow:From /home/ringoshin/.Envs/pfbot/lib/python3.6/site-packages/keras/backend/tensorflow_backend.py:1020: The name tf.assign is deprecated. Please use tf.compat.v1.assign instead.\n",
      "\n"
     ]
    }
   ],
   "source": [
    "word_model = pickle.load(open('model/pathfinder_token_w2v300_word_model.pkl', 'rb'))\n",
    "pretrained_weights = pickle.load(open('model/pathfinder_token_w2v300_weights.pkl', 'rb'))\n",
    "\n",
    "tokenizer = pickle.load(open('model/pathfinder_token_tokenizer.pkl', 'rb'))\n",
    "\n",
    "model = load_model('model/pathfinder_token_w2v_model_100_epoch.h5')\n",
    "#model = pickle.load(open('pathfinder_token_w2v_model_100_epoch.pkl', 'rb'))\n",
    "\n",
    "history = pickle.load(open('model/pathfinder_token_w2v_model_100_epoch_history.pkl', 'rb'))\n",
    "\n",
    "model.load_weights(\"model/pathfinder_token_w2v_model_100_epoch_weights.h5\")"
   ]
  },
  {
   "cell_type": "code",
   "execution_count": 18,
   "metadata": {},
   "outputs": [
    {
     "name": "stdout",
     "output_type": "stream",
     "text": [
      "Result embedding shape: (2925, 300)\n"
     ]
    },
    {
     "name": "stderr",
     "output_type": "stream",
     "text": [
      "/home/ringoshin/.Envs/pfbot/lib/python3.6/site-packages/ipykernel_launcher.py:1: DeprecationWarning: Call to deprecated `syn0` (Attribute will be removed in 4.0.0, use self.vectors instead).\n",
      "  \"\"\"Entry point for launching an IPython kernel.\n"
     ]
    }
   ],
   "source": [
    "pretrained_weights = word_model.wv.syn0\n",
    "vocab_size, emdedding_size = pretrained_weights.shape\n",
    "print('Result embedding shape:', pretrained_weights.shape)"
   ]
  },
  {
   "cell_type": "code",
   "execution_count": 19,
   "metadata": {},
   "outputs": [],
   "source": [
    "sequences = tokenizer.texts_to_sequences(lines)"
   ]
  },
  {
   "cell_type": "code",
   "execution_count": 20,
   "metadata": {},
   "outputs": [
    {
     "name": "stdout",
     "output_type": "stream",
     "text": [
      "WARNING:tensorflow:From /home/ringoshin/.Envs/pfbot/lib/python3.6/site-packages/keras/backend/tensorflow_backend.py:66: The name tf.get_default_graph is deprecated. Please use tf.compat.v1.get_default_graph instead.\n",
      "\n",
      "WARNING:tensorflow:From /home/ringoshin/.Envs/pfbot/lib/python3.6/site-packages/keras/backend/tensorflow_backend.py:541: The name tf.placeholder is deprecated. Please use tf.compat.v1.placeholder instead.\n",
      "\n",
      "WARNING:tensorflow:From /home/ringoshin/.Envs/pfbot/lib/python3.6/site-packages/keras/backend/tensorflow_backend.py:4432: The name tf.random_uniform is deprecated. Please use tf.random.uniform instead.\n",
      "\n",
      "WARNING:tensorflow:From /home/ringoshin/.Envs/pfbot/lib/python3.6/site-packages/keras/backend/tensorflow_backend.py:190: The name tf.get_default_session is deprecated. Please use tf.compat.v1.get_default_session instead.\n",
      "\n",
      "WARNING:tensorflow:From /home/ringoshin/.Envs/pfbot/lib/python3.6/site-packages/keras/backend/tensorflow_backend.py:197: The name tf.ConfigProto is deprecated. Please use tf.compat.v1.ConfigProto instead.\n",
      "\n",
      "WARNING:tensorflow:From /home/ringoshin/.Envs/pfbot/lib/python3.6/site-packages/keras/backend/tensorflow_backend.py:203: The name tf.Session is deprecated. Please use tf.compat.v1.Session instead.\n",
      "\n",
      "WARNING:tensorflow:From /home/ringoshin/.Envs/pfbot/lib/python3.6/site-packages/keras/backend/tensorflow_backend.py:207: The name tf.global_variables is deprecated. Please use tf.compat.v1.global_variables instead.\n",
      "\n",
      "WARNING:tensorflow:From /home/ringoshin/.Envs/pfbot/lib/python3.6/site-packages/keras/backend/tensorflow_backend.py:216: The name tf.is_variable_initialized is deprecated. Please use tf.compat.v1.is_variable_initialized instead.\n",
      "\n",
      "WARNING:tensorflow:From /home/ringoshin/.Envs/pfbot/lib/python3.6/site-packages/keras/backend/tensorflow_backend.py:223: The name tf.variables_initializer is deprecated. Please use tf.compat.v1.variables_initializer instead.\n",
      "\n",
      "WARNING:tensorflow:From /home/ringoshin/.Envs/pfbot/lib/python3.6/site-packages/keras/backend/tensorflow_backend.py:148: The name tf.placeholder_with_default is deprecated. Please use tf.compat.v1.placeholder_with_default instead.\n",
      "\n",
      "WARNING:tensorflow:From /home/ringoshin/.Envs/pfbot/lib/python3.6/site-packages/keras/backend/tensorflow_backend.py:3733: calling dropout (from tensorflow.python.ops.nn_ops) with keep_prob is deprecated and will be removed in a future version.\n",
      "Instructions for updating:\n",
      "Please use `rate` instead of `keep_prob`. Rate should be set to `rate = 1 - keep_prob`.\n",
      "Model: \"sequential_1\"\n",
      "_________________________________________________________________\n",
      "Layer (type)                 Output Shape              Param #   \n",
      "=================================================================\n",
      "embedding_1 (Embedding)      (None, None, 300)         877500    \n",
      "_________________________________________________________________\n",
      "lstm_1 (LSTM)                (None, None, 300)         721200    \n",
      "_________________________________________________________________\n",
      "dropout_1 (Dropout)          (None, None, 300)         0         \n",
      "_________________________________________________________________\n",
      "lstm_2 (LSTM)                (None, 300)               721200    \n",
      "_________________________________________________________________\n",
      "dropout_2 (Dropout)          (None, 300)               0         \n",
      "_________________________________________________________________\n",
      "dense_1 (Dense)              (None, 300)               90300     \n",
      "_________________________________________________________________\n",
      "dense_2 (Dense)              (None, 2926)              880726    \n",
      "=================================================================\n",
      "Total params: 3,290,926\n",
      "Trainable params: 3,290,926\n",
      "Non-trainable params: 0\n",
      "_________________________________________________________________\n",
      "None\n"
     ]
    }
   ],
   "source": [
    "# define model\n",
    "model = Sequential()\n",
    "#model.add(Embedding(vocab_size, 100, input_length=seq_length))\n",
    "model.add(Embedding(input_dim=vocab_size, output_dim=emdedding_size, weights=[pretrained_weights]))\n",
    "\n",
    "model.add(LSTM(emdedding_size, return_sequences=True))\n",
    "model.add(Dropout(0.2))\n",
    "\n",
    "model.add(LSTM(emdedding_size))\n",
    "model.add(Dropout(0.2))\n",
    "\n",
    "model.add(Dense(emdedding_size, activation='relu'))\n",
    "\n",
    "model.add(Dense((vocab_size+1), activation='softmax'))\n",
    "print(model.summary())"
   ]
  },
  {
   "cell_type": "code",
   "execution_count": 21,
   "metadata": {},
   "outputs": [],
   "source": [
    "model.load_weights(\"model/pathfinder_token_w2v_model_100_epoch_weights.h5\")"
   ]
  },
  {
   "cell_type": "code",
   "execution_count": null,
   "metadata": {},
   "outputs": [],
   "source": []
  },
  {
   "cell_type": "code",
   "execution_count": 18,
   "metadata": {
    "colab": {
     "base_uri": "https://localhost:8080/",
     "height": 122
    },
    "colab_type": "code",
    "id": "uOVg0YcqqWdx",
    "outputId": "9d4daafe-29d2-4b5b-9f15-8196d37f921d"
   },
   "outputs": [
    {
     "name": "stdout",
     "output_type": "stream",
     "text": [
      "\n",
      "Training word2vec...\n",
      "Result embedding shape: (2925, 300)\n"
     ]
    },
    {
     "name": "stderr",
     "output_type": "stream",
     "text": [
      "/home/ringoshin/.Envs/pfbot/lib/python3.6/site-packages/ipykernel_launcher.py:4: DeprecationWarning: Call to deprecated `syn0` (Attribute will be removed in 4.0.0, use self.vectors instead).\n",
      "  after removing the cwd from sys.path.\n"
     ]
    }
   ],
   "source": [
    "print('\\nTraining word2vec...')\n",
    "# workers=1 will ensure a fully deterministrically-reproducible run, per Gensim docs\n",
    "word_model = gensim.models.Word2Vec(sentences, size=300, min_count=1, window=5, iter=100, workers=1)\n",
    "pretrained_weights = word_model.wv.syn0\n",
    "vocab_size, emdedding_size = pretrained_weights.shape\n",
    "print('Result embedding shape:', pretrained_weights.shape)"
   ]
  },
  {
   "cell_type": "code",
   "execution_count": 22,
   "metadata": {
    "colab": {
     "base_uri": "https://localhost:8080/",
     "height": 207
    },
    "colab_type": "code",
    "id": "6Et-o05WqvlS",
    "outputId": "d05f7f49-cdf4-48bf-bba9-390d7227e65d"
   },
   "outputs": [
    {
     "name": "stdout",
     "output_type": "stream",
     "text": [
      "Checking similar words:\n",
      "  gold -> studded (0.31), empathize (0.26), not (0.25), communicate (0.25), here (0.24), investigating (0.23), provide (0.23), engraved (0.23)\n",
      "  goblin -> warriors (0.54), reckless (0.47), tries (0.40), fights (0.36), pound (0.36), ac (0.36), acquired (0.34), accessible (0.33)\n",
      "  magic -> largest (0.37), korvosan (0.36), minor (0.36), acadamae (0.34), radiate (0.33), torches (0.30), initially (0.30), identifies (0.29)\n",
      "  priest -> sole (0.82), birm (0.80), curate (0.66), amelon (0.65), temple (0.54), desna (0.48), archways (0.45), sun (0.43)\n",
      "  mine -> hillside (0.30), energy (0.29), movement (0.26), lowdown (0.25), second (0.23), cracked (0.22), managed (0.22), arts (0.22)\n"
     ]
    },
    {
     "name": "stderr",
     "output_type": "stream",
     "text": [
      "/home/ringoshin/.Envs/pfbot/lib/python3.6/site-packages/ipykernel_launcher.py:3: DeprecationWarning: Call to deprecated `most_similar` (Method will be removed in 4.0.0, use self.wv.most_similar() instead).\n",
      "  This is separate from the ipykernel package so we can avoid doing imports until\n"
     ]
    }
   ],
   "source": [
    "print('Checking similar words:')\n",
    "for word in ['gold', 'goblin', 'magic', 'priest', 'mine']:\n",
    "    most_similar = ', '.join('%s (%.2f)' % (similar, dist) for similar, dist in word_model.most_similar(word)[:8])\n",
    "    print('  %s -> %s' % (word, most_similar))"
   ]
  },
  {
   "cell_type": "code",
   "execution_count": null,
   "metadata": {
    "colab": {},
    "colab_type": "code",
    "id": "a4xA4oqxqwue"
   },
   "outputs": [],
   "source": []
  },
  {
   "cell_type": "code",
   "execution_count": 23,
   "metadata": {
    "colab": {},
    "colab_type": "code",
    "id": "5douivHx14Yg"
   },
   "outputs": [],
   "source": [
    "from numpy import array\n",
    "from pickle import dump\n",
    "from keras.preprocessing.text import Tokenizer\n",
    "from keras.utils import to_categorical\n",
    "from keras.models import Sequential\n",
    "from keras.layers import Dense\n",
    "from keras.layers import LSTM\n",
    "from keras.layers import Embedding"
   ]
  },
  {
   "cell_type": "code",
   "execution_count": 67,
   "metadata": {
    "colab": {},
    "colab_type": "code",
    "id": "xNO4gVFYApdQ"
   },
   "outputs": [],
   "source": [
    "# integer encode sequences of words\n",
    "tokenizer = Tokenizer()\n",
    "tokenizer.fit_on_texts(lines)\n",
    "sequences = tokenizer.texts_to_sequences(lines)"
   ]
  },
  {
   "cell_type": "code",
   "execution_count": 24,
   "metadata": {
    "colab": {},
    "colab_type": "code",
    "id": "JMsi0cFBkj94"
   },
   "outputs": [],
   "source": [
    "# vocabulary size\n",
    "#vocab_size = len(tokenizer.word_index) + 1\n",
    "#print(tokenizer.word_index)\n",
    "input_size=vocab_size+1"
   ]
  },
  {
   "cell_type": "code",
   "execution_count": 25,
   "metadata": {
    "colab": {
     "base_uri": "https://localhost:8080/",
     "height": 34
    },
    "colab_type": "code",
    "id": "qNoehw76lJ8H",
    "outputId": "96fef794-cdc4-47c2-e6de-9c4f6fbf99fe"
   },
   "outputs": [
    {
     "name": "stdout",
     "output_type": "stream",
     "text": [
      "(13046, 50)\n"
     ]
    }
   ],
   "source": [
    "# separate into input and output\n",
    "sequences = array(sequences)\n",
    "X, y = sequences[:,:-1], sequences[:,-1]\n",
    "y = to_categorical(y, num_classes=(input_size))\n",
    "seq_length = X.shape[1]\n",
    "print(X.shape)"
   ]
  },
  {
   "cell_type": "code",
   "execution_count": 26,
   "metadata": {
    "colab": {
     "base_uri": "https://localhost:8080/",
     "height": 187
    },
    "colab_type": "code",
    "id": "b-azFXHSkPys",
    "outputId": "a7babe3a-7abd-4332-8b02-be6502d6653c"
   },
   "outputs": [
    {
     "data": {
      "text/plain": [
       "array([[   1,  457,  232,  850,   86,    7,    2,  843, 1364, 2925,   86,\n",
       "           1, 1363, 2924,  849,   24,   37,  848, 1362,   18, 2920,    1,\n",
       "         456,  847,  599,    7,    2,  843, 2919, 2918,   19,  340,  455,\n",
       "         281,   18,    1, 2917, 2916,    4,    2,  598,    4,  840,   18,\n",
       "         339,    1,  596,    7,    2, 2913],\n",
       "       [ 457,  232,  850,   86,    7,    2,  843, 1364, 2925,   86,    1,\n",
       "        1363, 2924,  849,   24,   37,  848, 1362,   18, 2920,    1,  456,\n",
       "         847,  599,    7,    2,  843, 2919, 2918,   19,  340,  455,  281,\n",
       "          18,    1, 2917, 2916,    4,    2,  598,    4,  840,   18,  339,\n",
       "           1,  596,    7,    2, 2913, 1365]])"
      ]
     },
     "execution_count": 26,
     "metadata": {},
     "output_type": "execute_result"
    }
   ],
   "source": [
    "X[:2]"
   ]
  },
  {
   "cell_type": "code",
   "execution_count": 33,
   "metadata": {
    "colab": {
     "base_uri": "https://localhost:8080/",
     "height": 51
    },
    "colab_type": "code",
    "id": "zG4Sqe1mkS9w",
    "outputId": "2fc740c8-ea90-4d1a-a345-d7f7468fca11"
   },
   "outputs": [
    {
     "data": {
      "text/plain": [
       "array([[0., 0., 0., ..., 0., 0., 0.],\n",
       "       [0., 0., 0., ..., 0., 0., 0.]], dtype=float32)"
      ]
     },
     "execution_count": 33,
     "metadata": {},
     "output_type": "execute_result"
    }
   ],
   "source": [
    "y[:2]"
   ]
  },
  {
   "cell_type": "code",
   "execution_count": 25,
   "metadata": {
    "colab": {},
    "colab_type": "code",
    "id": "_bNsD9AMWzU2"
   },
   "outputs": [
    {
     "name": "stdout",
     "output_type": "stream",
     "text": [
      "WARNING:tensorflow:From /home/ringoshin/.Envs/pfbot/lib/python3.6/site-packages/keras/backend/tensorflow_backend.py:66: The name tf.get_default_graph is deprecated. Please use tf.compat.v1.get_default_graph instead.\n",
      "\n",
      "WARNING:tensorflow:From /home/ringoshin/.Envs/pfbot/lib/python3.6/site-packages/keras/backend/tensorflow_backend.py:541: The name tf.placeholder is deprecated. Please use tf.compat.v1.placeholder instead.\n",
      "\n",
      "WARNING:tensorflow:From /home/ringoshin/.Envs/pfbot/lib/python3.6/site-packages/keras/backend/tensorflow_backend.py:4432: The name tf.random_uniform is deprecated. Please use tf.random.uniform instead.\n",
      "\n",
      "WARNING:tensorflow:From /home/ringoshin/.Envs/pfbot/lib/python3.6/site-packages/keras/backend/tensorflow_backend.py:190: The name tf.get_default_session is deprecated. Please use tf.compat.v1.get_default_session instead.\n",
      "\n",
      "WARNING:tensorflow:From /home/ringoshin/.Envs/pfbot/lib/python3.6/site-packages/keras/backend/tensorflow_backend.py:207: The name tf.global_variables is deprecated. Please use tf.compat.v1.global_variables instead.\n",
      "\n",
      "WARNING:tensorflow:From /home/ringoshin/.Envs/pfbot/lib/python3.6/site-packages/keras/backend/tensorflow_backend.py:216: The name tf.is_variable_initialized is deprecated. Please use tf.compat.v1.is_variable_initialized instead.\n",
      "\n",
      "WARNING:tensorflow:From /home/ringoshin/.Envs/pfbot/lib/python3.6/site-packages/keras/backend/tensorflow_backend.py:223: The name tf.variables_initializer is deprecated. Please use tf.compat.v1.variables_initializer instead.\n",
      "\n",
      "WARNING:tensorflow:From /home/ringoshin/.Envs/pfbot/lib/python3.6/site-packages/keras/backend/tensorflow_backend.py:148: The name tf.placeholder_with_default is deprecated. Please use tf.compat.v1.placeholder_with_default instead.\n",
      "\n",
      "WARNING:tensorflow:From /home/ringoshin/.Envs/pfbot/lib/python3.6/site-packages/keras/backend/tensorflow_backend.py:3733: calling dropout (from tensorflow.python.ops.nn_ops) with keep_prob is deprecated and will be removed in a future version.\n",
      "Instructions for updating:\n",
      "Please use `rate` instead of `keep_prob`. Rate should be set to `rate = 1 - keep_prob`.\n",
      "Model: \"sequential_1\"\n",
      "_________________________________________________________________\n",
      "Layer (type)                 Output Shape              Param #   \n",
      "=================================================================\n",
      "embedding_1 (Embedding)      (None, None, 300)         877500    \n",
      "_________________________________________________________________\n",
      "cu_dnnlstm_1 (CuDNNLSTM)     (None, None, 300)         722400    \n",
      "_________________________________________________________________\n",
      "dropout_1 (Dropout)          (None, None, 300)         0         \n",
      "_________________________________________________________________\n",
      "cu_dnnlstm_2 (CuDNNLSTM)     (None, 300)               722400    \n",
      "_________________________________________________________________\n",
      "dropout_2 (Dropout)          (None, 300)               0         \n",
      "_________________________________________________________________\n",
      "dense_1 (Dense)              (None, 300)               90300     \n",
      "_________________________________________________________________\n",
      "dense_2 (Dense)              (None, 2926)              880726    \n",
      "=================================================================\n",
      "Total params: 3,293,326\n",
      "Trainable params: 3,293,326\n",
      "Non-trainable params: 0\n",
      "_________________________________________________________________\n",
      "None\n"
     ]
    }
   ],
   "source": [
    "# define model\n",
    "model = Sequential()\n",
    "#model.add(Embedding(vocab_size, 100, input_length=seq_length))\n",
    "model.add(Embedding(input_dim=vocab_size, output_dim=emdedding_size, weights=[pretrained_weights]))\n",
    "\n",
    "model.add(CuDNNLSTM(emdedding_size, return_sequences=True))\n",
    "model.add(Dropout(0.2))\n",
    "\n",
    "model.add(CuDNNLSTM(emdedding_size))\n",
    "model.add(Dropout(0.2))\n",
    "\n",
    "model.add(Dense(emdedding_size, activation='relu'))\n",
    "\n",
    "model.add(Dense((vocab_size+1), activation='softmax'))\n",
    "print(model.summary())"
   ]
  },
  {
   "cell_type": "code",
   "execution_count": 27,
   "metadata": {
    "colab": {},
    "colab_type": "code",
    "id": "htFZCPXEVPk4"
   },
   "outputs": [],
   "source": [
    "def NN_Plt_Training(history, starting_epoch=0):\n",
    "    # acc = history.history['categorical_accuracy']\n",
    "    acc = history.history['acc']\n",
    "    loss = history.history['loss']\n",
    "    \n",
    "    nb_epochs = len(acc)\n",
    "    starting_epoch = starting_epoch if starting_epoch < nb_epochs else 0\n",
    "    epochs = range(starting_epoch, nb_epochs)\n",
    "\n",
    "    # Plot the accuracy curves\n",
    "    plt.figure(figsize=(6,6))\n",
    "    plt.plot(epochs, acc[starting_epoch:],'b', linestyle='-', label='accuracy')\n",
    "    plt.plot(epochs, loss[starting_epoch:],'r', linestyle='-', label='loss')\n",
    "    plt.title('Training Accuracy/Loss per Epoch')\n",
    "    plt.legend()"
   ]
  },
  {
   "cell_type": "code",
   "execution_count": 28,
   "metadata": {
    "colab": {
     "base_uri": "https://localhost:8080/",
     "height": 391
    },
    "colab_type": "code",
    "id": "AZgsTuX_mm8j",
    "outputId": "a9fbfa9a-31ed-459d-8df3-cdefce3ab7fb",
    "scrolled": true
   },
   "outputs": [
    {
     "name": "stdout",
     "output_type": "stream",
     "text": [
      "WARNING:tensorflow:From /home/ringoshin/.Envs/pfbot/lib/python3.6/site-packages/keras/optimizers.py:793: The name tf.train.Optimizer is deprecated. Please use tf.compat.v1.train.Optimizer instead.\n",
      "\n",
      "WARNING:tensorflow:From /home/ringoshin/.Envs/pfbot/lib/python3.6/site-packages/keras/backend/tensorflow_backend.py:3576: The name tf.log is deprecated. Please use tf.math.log instead.\n",
      "\n",
      "WARNING:tensorflow:From /home/ringoshin/.Envs/pfbot/lib/python3.6/site-packages/tensorflow_core/python/ops/math_grad.py:1424: where (from tensorflow.python.ops.array_ops) is deprecated and will be removed in a future version.\n",
      "Instructions for updating:\n",
      "Use tf.where in 2.0, which has the same broadcast rule as np.where\n",
      "WARNING:tensorflow:From /home/ringoshin/.Envs/pfbot/lib/python3.6/site-packages/keras/backend/tensorflow_backend.py:1033: The name tf.assign_add is deprecated. Please use tf.compat.v1.assign_add instead.\n",
      "\n",
      "WARNING:tensorflow:From /home/ringoshin/.Envs/pfbot/lib/python3.6/site-packages/keras/backend/tensorflow_backend.py:1020: The name tf.assign is deprecated. Please use tf.compat.v1.assign instead.\n",
      "\n",
      "Epoch 1/50\n"
     ]
    },
    {
     "ename": "UnknownError",
     "evalue": "2 root error(s) found.\n  (0) Unknown: Fail to find the dnn implementation.\n\t [[{{node cu_dnnlstm_1/CudnnRNN}}]]\n\t [[metrics/acc/Mean/_143]]\n  (1) Unknown: Fail to find the dnn implementation.\n\t [[{{node cu_dnnlstm_1/CudnnRNN}}]]\n0 successful operations.\n0 derived errors ignored.",
     "output_type": "error",
     "traceback": [
      "\u001b[0;31m---------------------------------------------------------------------------\u001b[0m",
      "\u001b[0;31mUnknownError\u001b[0m                              Traceback (most recent call last)",
      "\u001b[0;32m<ipython-input-28-c05b29e7da81>\u001b[0m in \u001b[0;36m<module>\u001b[0;34m\u001b[0m\n\u001b[1;32m      5\u001b[0m \u001b[0;31m#history = model.fit(X, y, batch_size=128, epochs=100)\u001b[0m\u001b[0;34m\u001b[0m\u001b[0;34m\u001b[0m\u001b[0;34m\u001b[0m\u001b[0m\n\u001b[1;32m      6\u001b[0m \u001b[0;31m#history = model.fit(X, y, batch_size=32, epochs=50)\u001b[0m\u001b[0;34m\u001b[0m\u001b[0;34m\u001b[0m\u001b[0;34m\u001b[0m\u001b[0m\n\u001b[0;32m----> 7\u001b[0;31m \u001b[0mhistory\u001b[0m \u001b[0;34m=\u001b[0m \u001b[0mmodel\u001b[0m\u001b[0;34m.\u001b[0m\u001b[0mfit\u001b[0m\u001b[0;34m(\u001b[0m\u001b[0mX\u001b[0m\u001b[0;34m,\u001b[0m \u001b[0my\u001b[0m\u001b[0;34m,\u001b[0m \u001b[0mbatch_size\u001b[0m\u001b[0;34m=\u001b[0m\u001b[0;36m8\u001b[0m\u001b[0;34m,\u001b[0m \u001b[0mepochs\u001b[0m\u001b[0;34m=\u001b[0m\u001b[0;36m50\u001b[0m\u001b[0;34m)\u001b[0m\u001b[0;34m\u001b[0m\u001b[0;34m\u001b[0m\u001b[0m\n\u001b[0m",
      "\u001b[0;32m~/.Envs/pfbot/lib/python3.6/site-packages/keras/engine/training.py\u001b[0m in \u001b[0;36mfit\u001b[0;34m(self, x, y, batch_size, epochs, verbose, callbacks, validation_split, validation_data, shuffle, class_weight, sample_weight, initial_epoch, steps_per_epoch, validation_steps, validation_freq, max_queue_size, workers, use_multiprocessing, **kwargs)\u001b[0m\n\u001b[1;32m   1176\u001b[0m                                         \u001b[0msteps_per_epoch\u001b[0m\u001b[0;34m=\u001b[0m\u001b[0msteps_per_epoch\u001b[0m\u001b[0;34m,\u001b[0m\u001b[0;34m\u001b[0m\u001b[0;34m\u001b[0m\u001b[0m\n\u001b[1;32m   1177\u001b[0m                                         \u001b[0mvalidation_steps\u001b[0m\u001b[0;34m=\u001b[0m\u001b[0mvalidation_steps\u001b[0m\u001b[0;34m,\u001b[0m\u001b[0;34m\u001b[0m\u001b[0;34m\u001b[0m\u001b[0m\n\u001b[0;32m-> 1178\u001b[0;31m                                         validation_freq=validation_freq)\n\u001b[0m\u001b[1;32m   1179\u001b[0m \u001b[0;34m\u001b[0m\u001b[0m\n\u001b[1;32m   1180\u001b[0m     def evaluate(self,\n",
      "\u001b[0;32m~/.Envs/pfbot/lib/python3.6/site-packages/keras/engine/training_arrays.py\u001b[0m in \u001b[0;36mfit_loop\u001b[0;34m(model, fit_function, fit_inputs, out_labels, batch_size, epochs, verbose, callbacks, val_function, val_inputs, shuffle, callback_metrics, initial_epoch, steps_per_epoch, validation_steps, validation_freq)\u001b[0m\n\u001b[1;32m    202\u001b[0m                     \u001b[0mins_batch\u001b[0m\u001b[0;34m[\u001b[0m\u001b[0mi\u001b[0m\u001b[0;34m]\u001b[0m \u001b[0;34m=\u001b[0m \u001b[0mins_batch\u001b[0m\u001b[0;34m[\u001b[0m\u001b[0mi\u001b[0m\u001b[0;34m]\u001b[0m\u001b[0;34m.\u001b[0m\u001b[0mtoarray\u001b[0m\u001b[0;34m(\u001b[0m\u001b[0;34m)\u001b[0m\u001b[0;34m\u001b[0m\u001b[0;34m\u001b[0m\u001b[0m\n\u001b[1;32m    203\u001b[0m \u001b[0;34m\u001b[0m\u001b[0m\n\u001b[0;32m--> 204\u001b[0;31m                 \u001b[0mouts\u001b[0m \u001b[0;34m=\u001b[0m \u001b[0mfit_function\u001b[0m\u001b[0;34m(\u001b[0m\u001b[0mins_batch\u001b[0m\u001b[0;34m)\u001b[0m\u001b[0;34m\u001b[0m\u001b[0;34m\u001b[0m\u001b[0m\n\u001b[0m\u001b[1;32m    205\u001b[0m                 \u001b[0mouts\u001b[0m \u001b[0;34m=\u001b[0m \u001b[0mto_list\u001b[0m\u001b[0;34m(\u001b[0m\u001b[0mouts\u001b[0m\u001b[0;34m)\u001b[0m\u001b[0;34m\u001b[0m\u001b[0;34m\u001b[0m\u001b[0m\n\u001b[1;32m    206\u001b[0m                 \u001b[0;32mfor\u001b[0m \u001b[0ml\u001b[0m\u001b[0;34m,\u001b[0m \u001b[0mo\u001b[0m \u001b[0;32min\u001b[0m \u001b[0mzip\u001b[0m\u001b[0;34m(\u001b[0m\u001b[0mout_labels\u001b[0m\u001b[0;34m,\u001b[0m \u001b[0mouts\u001b[0m\u001b[0;34m)\u001b[0m\u001b[0;34m:\u001b[0m\u001b[0;34m\u001b[0m\u001b[0;34m\u001b[0m\u001b[0m\n",
      "\u001b[0;32m~/.Envs/pfbot/lib/python3.6/site-packages/keras/backend/tensorflow_backend.py\u001b[0m in \u001b[0;36m__call__\u001b[0;34m(self, inputs)\u001b[0m\n\u001b[1;32m   2977\u001b[0m                     \u001b[0;32mreturn\u001b[0m \u001b[0mself\u001b[0m\u001b[0;34m.\u001b[0m\u001b[0m_legacy_call\u001b[0m\u001b[0;34m(\u001b[0m\u001b[0minputs\u001b[0m\u001b[0;34m)\u001b[0m\u001b[0;34m\u001b[0m\u001b[0;34m\u001b[0m\u001b[0m\n\u001b[1;32m   2978\u001b[0m \u001b[0;34m\u001b[0m\u001b[0m\n\u001b[0;32m-> 2979\u001b[0;31m             \u001b[0;32mreturn\u001b[0m \u001b[0mself\u001b[0m\u001b[0;34m.\u001b[0m\u001b[0m_call\u001b[0m\u001b[0;34m(\u001b[0m\u001b[0minputs\u001b[0m\u001b[0;34m)\u001b[0m\u001b[0;34m\u001b[0m\u001b[0;34m\u001b[0m\u001b[0m\n\u001b[0m\u001b[1;32m   2980\u001b[0m         \u001b[0;32melse\u001b[0m\u001b[0;34m:\u001b[0m\u001b[0;34m\u001b[0m\u001b[0;34m\u001b[0m\u001b[0m\n\u001b[1;32m   2981\u001b[0m             \u001b[0;32mif\u001b[0m \u001b[0mpy_any\u001b[0m\u001b[0;34m(\u001b[0m\u001b[0mis_tensor\u001b[0m\u001b[0;34m(\u001b[0m\u001b[0mx\u001b[0m\u001b[0;34m)\u001b[0m \u001b[0;32mfor\u001b[0m \u001b[0mx\u001b[0m \u001b[0;32min\u001b[0m \u001b[0minputs\u001b[0m\u001b[0;34m)\u001b[0m\u001b[0;34m:\u001b[0m\u001b[0;34m\u001b[0m\u001b[0;34m\u001b[0m\u001b[0m\n",
      "\u001b[0;32m~/.Envs/pfbot/lib/python3.6/site-packages/keras/backend/tensorflow_backend.py\u001b[0m in \u001b[0;36m_call\u001b[0;34m(self, inputs)\u001b[0m\n\u001b[1;32m   2935\u001b[0m             \u001b[0mfetched\u001b[0m \u001b[0;34m=\u001b[0m \u001b[0mself\u001b[0m\u001b[0;34m.\u001b[0m\u001b[0m_callable_fn\u001b[0m\u001b[0;34m(\u001b[0m\u001b[0;34m*\u001b[0m\u001b[0marray_vals\u001b[0m\u001b[0;34m,\u001b[0m \u001b[0mrun_metadata\u001b[0m\u001b[0;34m=\u001b[0m\u001b[0mself\u001b[0m\u001b[0;34m.\u001b[0m\u001b[0mrun_metadata\u001b[0m\u001b[0;34m)\u001b[0m\u001b[0;34m\u001b[0m\u001b[0;34m\u001b[0m\u001b[0m\n\u001b[1;32m   2936\u001b[0m         \u001b[0;32melse\u001b[0m\u001b[0;34m:\u001b[0m\u001b[0;34m\u001b[0m\u001b[0;34m\u001b[0m\u001b[0m\n\u001b[0;32m-> 2937\u001b[0;31m             \u001b[0mfetched\u001b[0m \u001b[0;34m=\u001b[0m \u001b[0mself\u001b[0m\u001b[0;34m.\u001b[0m\u001b[0m_callable_fn\u001b[0m\u001b[0;34m(\u001b[0m\u001b[0;34m*\u001b[0m\u001b[0marray_vals\u001b[0m\u001b[0;34m)\u001b[0m\u001b[0;34m\u001b[0m\u001b[0;34m\u001b[0m\u001b[0m\n\u001b[0m\u001b[1;32m   2938\u001b[0m         \u001b[0;32mreturn\u001b[0m \u001b[0mfetched\u001b[0m\u001b[0;34m[\u001b[0m\u001b[0;34m:\u001b[0m\u001b[0mlen\u001b[0m\u001b[0;34m(\u001b[0m\u001b[0mself\u001b[0m\u001b[0;34m.\u001b[0m\u001b[0moutputs\u001b[0m\u001b[0;34m)\u001b[0m\u001b[0;34m]\u001b[0m\u001b[0;34m\u001b[0m\u001b[0;34m\u001b[0m\u001b[0m\n\u001b[1;32m   2939\u001b[0m \u001b[0;34m\u001b[0m\u001b[0m\n",
      "\u001b[0;32m~/.Envs/pfbot/lib/python3.6/site-packages/tensorflow_core/python/client/session.py\u001b[0m in \u001b[0;36m__call__\u001b[0;34m(self, *args, **kwargs)\u001b[0m\n\u001b[1;32m   1470\u001b[0m         ret = tf_session.TF_SessionRunCallable(self._session._session,\n\u001b[1;32m   1471\u001b[0m                                                \u001b[0mself\u001b[0m\u001b[0;34m.\u001b[0m\u001b[0m_handle\u001b[0m\u001b[0;34m,\u001b[0m \u001b[0margs\u001b[0m\u001b[0;34m,\u001b[0m\u001b[0;34m\u001b[0m\u001b[0;34m\u001b[0m\u001b[0m\n\u001b[0;32m-> 1472\u001b[0;31m                                                run_metadata_ptr)\n\u001b[0m\u001b[1;32m   1473\u001b[0m         \u001b[0;32mif\u001b[0m \u001b[0mrun_metadata\u001b[0m\u001b[0;34m:\u001b[0m\u001b[0;34m\u001b[0m\u001b[0;34m\u001b[0m\u001b[0m\n\u001b[1;32m   1474\u001b[0m           \u001b[0mproto_data\u001b[0m \u001b[0;34m=\u001b[0m \u001b[0mtf_session\u001b[0m\u001b[0;34m.\u001b[0m\u001b[0mTF_GetBuffer\u001b[0m\u001b[0;34m(\u001b[0m\u001b[0mrun_metadata_ptr\u001b[0m\u001b[0;34m)\u001b[0m\u001b[0;34m\u001b[0m\u001b[0;34m\u001b[0m\u001b[0m\n",
      "\u001b[0;31mUnknownError\u001b[0m: 2 root error(s) found.\n  (0) Unknown: Fail to find the dnn implementation.\n\t [[{{node cu_dnnlstm_1/CudnnRNN}}]]\n\t [[metrics/acc/Mean/_143]]\n  (1) Unknown: Fail to find the dnn implementation.\n\t [[{{node cu_dnnlstm_1/CudnnRNN}}]]\n0 successful operations.\n0 derived errors ignored."
     ]
    }
   ],
   "source": [
    "# compile model\n",
    "model.compile(loss='categorical_crossentropy', optimizer='adam', metrics=['accuracy'])\n",
    "#metrics=['categorical_accuracy']\n",
    "# fit model\n",
    "#history = model.fit(X, y, batch_size=128, epochs=100)\n",
    "#history = model.fit(X, y, batch_size=32, epochs=50)\n",
    "history = model.fit(X, y, batch_size=8, epochs=50)"
   ]
  },
  {
   "cell_type": "code",
   "execution_count": 33,
   "metadata": {
    "colab": {
     "base_uri": "https://localhost:8080/",
     "height": 390
    },
    "colab_type": "code",
    "id": "FSu68S65V-3-",
    "outputId": "6fffa332-7d2f-4a8e-d90a-4970c23b2eea"
   },
   "outputs": [
    {
     "data": {
      "image/png": "[encoded data removed]",
      "text/plain": [
       "<Figure size 432x432 with 1 Axes>"
      ]
     },
     "metadata": {
      "needs_background": "light"
     },
     "output_type": "display_data"
    }
   ],
   "source": [
    "# plot training accuracy/loss chart\n",
    "NN_Plt_Training(history)"
   ]
  },
  {
   "cell_type": "code",
   "execution_count": 35,
   "metadata": {
    "colab": {},
    "colab_type": "code",
    "id": "h8UEsUpbnvdE"
   },
   "outputs": [],
   "source": [
    "# save the model to file\n",
    "model.save('model/pathfinder_token_w2v_model_100_epoch.h5')\n",
    "# save the history\n",
    "with open('model/pathfinder_token_w2v_model_100_epoch_history.pkl', 'wb') as f:\n",
    "    pickle.dump(history, f)  \n",
    "# save the tokenizer\n",
    "dump(tokenizer, open('model/pathfinder_token_tokenizer.pkl', 'wb'))"
   ]
  },
  {
   "cell_type": "code",
   "execution_count": 0,
   "metadata": {
    "colab": {},
    "colab_type": "code",
    "id": "pslBEhSYSyGH"
   },
   "outputs": [],
   "source": []
  },
  {
   "cell_type": "code",
   "execution_count": 27,
   "metadata": {
    "colab": {},
    "colab_type": "code",
    "id": "U2D1PMbKFqO8"
   },
   "outputs": [],
   "source": [
    "from random import randint\n",
    "from keras.models import load_model\n",
    "from keras.preprocessing.sequence import pad_sequences"
   ]
  },
  {
   "cell_type": "code",
   "execution_count": 28,
   "metadata": {
    "colab": {},
    "colab_type": "code",
    "id": "vYwfxTM551Ct"
   },
   "outputs": [],
   "source": [
    "# load doc into memory\n",
    "def load_doc(filename):\n",
    "    # open the file as read only\n",
    "    file = open(filename, 'r', encoding=\"utf8\")\n",
    "    # read all text\n",
    "    # read all text\n",
    "    text = file.read()\n",
    "    # close the file\n",
    "    file.close()\n",
    "    return text"
   ]
  },
  {
   "cell_type": "code",
   "execution_count": 29,
   "metadata": {
    "colab": {},
    "colab_type": "code",
    "id": "QAOO8GR_hIN1"
   },
   "outputs": [],
   "source": [
    "def sample_word(preds, temperature=1.0):\n",
    "    if temperature <= 0:\n",
    "        return np.argmax(preds)\n",
    "    preds = np.asarray(preds).astype('float64')\n",
    "    preds = np.log(preds) / temperature\n",
    "    exp_preds = np.exp(preds)\n",
    "    preds = exp_preds / np.sum(exp_preds)\n",
    "    probas = np.random.multinomial(1, preds, 1)\n",
    "    return np.argmax(probas)"
   ]
  },
  {
   "cell_type": "code",
   "execution_count": 30,
   "metadata": {
    "colab": {},
    "colab_type": "code",
    "id": "Fy1WC2CAwcUJ"
   },
   "outputs": [],
   "source": [
    "# generate a sequence from a language model\n",
    "def generate_seq(model, tokenizer, seq_length, seed_text, n_words, temperature=0):\n",
    "    result = list()\n",
    "    in_text = seed_text\n",
    "    # generate a fixed number of words\n",
    "    for _ in range(n_words):\n",
    "        # encode the text as integer\n",
    "        #   [0] coz shape is (num_lines, num_tokens_per_line)\n",
    "        #   and there is only one line right now\n",
    "        #   also num_tokens is not a const, hence trunc will be required\n",
    "        encoded = tokenizer.texts_to_sequences([in_text])[0]\n",
    "        # truncate sequences to a fixed lenght\n",
    "        encoded = pad_sequences([encoded], maxlen=seq_length, truncating='pre')\n",
    "        # predict probabilities for each word\n",
    "        #yhat = model.predict_classes(encoded, verbose=0)\n",
    "        yhat = sample_word(model.predict(encoded,verbose=0)[-1], temperature)\n",
    "        # map predicted word index to word\n",
    "        out_word = ''\n",
    "        for word, index in tokenizer.word_index.items():\n",
    "            if index == yhat:\n",
    "                out_word = word\n",
    "                break\n",
    "        # append to input\n",
    "        in_text += ' ' + out_word\n",
    "        result.append(out_word)\n",
    "    return ' '.join(result)"
   ]
  },
  {
   "cell_type": "code",
   "execution_count": 31,
   "metadata": {
    "colab": {},
    "colab_type": "code",
    "id": "knvw5qPvUj48"
   },
   "outputs": [],
   "source": [
    "# load cleaned text sequences\n",
    "in_filename = 'data/pathfinder_token_sequences.txt'\n",
    "doc = load_doc(in_filename)\n",
    "lines = doc.split('\\n')\n",
    "seq_length = len(lines[0].split()) - 1"
   ]
  },
  {
   "cell_type": "code",
   "execution_count": 26,
   "metadata": {
    "colab": {
     "base_uri": "https://localhost:8080/",
     "height": 122
    },
    "colab_type": "code",
    "id": "ANNaUjCh6mr7",
    "outputId": "840bbe93-8168-4667-8b63-2b0aa8a67e63"
   },
   "outputs": [
    {
     "name": "stderr",
     "output_type": "stream",
     "text": [
      "WARNING: Logging before flag parsing goes to stderr.\n",
      "W1013 18:11:26.298218 140691208886080 deprecation_wrapper.py:119] From /home/ringoshin/anaconda3/envs/tensorflow-gpu-nlp/lib/python3.7/site-packages/keras/backend/tensorflow_backend.py:517: The name tf.placeholder is deprecated. Please use tf.compat.v1.placeholder instead.\n",
      "\n",
      "W1013 18:11:26.302481 140691208886080 deprecation_wrapper.py:119] From /home/ringoshin/anaconda3/envs/tensorflow-gpu-nlp/lib/python3.7/site-packages/keras/backend/tensorflow_backend.py:4138: The name tf.random_uniform is deprecated. Please use tf.random.uniform instead.\n",
      "\n",
      "W1013 18:11:26.993060 140691208886080 deprecation_wrapper.py:119] From /home/ringoshin/anaconda3/envs/tensorflow-gpu-nlp/lib/python3.7/site-packages/keras/backend/tensorflow_backend.py:131: The name tf.get_default_graph is deprecated. Please use tf.compat.v1.get_default_graph instead.\n",
      "\n",
      "W1013 18:11:26.994733 140691208886080 deprecation_wrapper.py:119] From /home/ringoshin/anaconda3/envs/tensorflow-gpu-nlp/lib/python3.7/site-packages/keras/backend/tensorflow_backend.py:133: The name tf.placeholder_with_default is deprecated. Please use tf.compat.v1.placeholder_with_default instead.\n",
      "\n",
      "W1013 18:11:27.000294 140691208886080 deprecation.py:506] From /home/ringoshin/anaconda3/envs/tensorflow-gpu-nlp/lib/python3.7/site-packages/keras/backend/tensorflow_backend.py:3445: calling dropout (from tensorflow.python.ops.nn_ops) with keep_prob is deprecated and will be removed in a future version.\n",
      "Instructions for updating:\n",
      "Please use `rate` instead of `keep_prob`. Rate should be set to `rate = 1 - keep_prob`.\n",
      "W1013 18:11:27.160094 140691208886080 deprecation_wrapper.py:119] From /home/ringoshin/anaconda3/envs/tensorflow-gpu-nlp/lib/python3.7/site-packages/keras/backend/tensorflow_backend.py:174: The name tf.get_default_session is deprecated. Please use tf.compat.v1.get_default_session instead.\n",
      "\n",
      "W1013 18:11:28.669398 140691208886080 deprecation_wrapper.py:119] From /home/ringoshin/anaconda3/envs/tensorflow-gpu-nlp/lib/python3.7/site-packages/keras/optimizers.py:790: The name tf.train.Optimizer is deprecated. Please use tf.compat.v1.train.Optimizer instead.\n",
      "\n",
      "W1013 18:11:28.736222 140691208886080 deprecation.py:323] From /home/ringoshin/anaconda3/envs/tensorflow-gpu-nlp/lib/python3.7/site-packages/tensorflow/python/ops/math_grad.py:1250: add_dispatch_support.<locals>.wrapper (from tensorflow.python.ops.array_ops) is deprecated and will be removed in a future version.\n",
      "Instructions for updating:\n",
      "Use tf.where in 2.0, which has the same broadcast rule as np.where\n"
     ]
    }
   ],
   "source": [
    "# load the model\n",
    "#model = load_model('pathfinder_token_model_300_epoch.h5')\n",
    "#model = load_model('pathfinder_token_model_250_epoch.h5')\n",
    "#model = load_model('pathfinder_token_model_150_epoch.h5')\n",
    "#model = load_model('pathfinder_token_model_200_epoch.h5')\n",
    "model = load_model('model/pathfinder_token_w2v_model_100_epoch.h5')\n"
   ]
  },
  {
   "cell_type": "code",
   "execution_count": 48,
   "metadata": {
    "colab": {},
    "colab_type": "code",
    "id": "f9un1hyW6mvx"
   },
   "outputs": [],
   "source": [
    "# load the tokenizer\n",
    "tokenizer = pickle.load(open('model/pathfinder_token_tokenizer.pkl', 'rb'))"
   ]
  },
  {
   "cell_type": "code",
   "execution_count": 32,
   "metadata": {
    "colab": {
     "base_uri": "https://localhost:8080/",
     "height": 122
    },
    "colab_type": "code",
    "id": "NtwyuGmxhJyq",
    "outputId": "ed7611d8-e9d0-453b-db1a-d4f869ae0deb"
   },
   "outputs": [
    {
     "data": {
      "text/plain": [
       "['the giant black widow spider is a tough cr poisonous spider the marsh dwelling lizardfolk can be dangerous enemies or cautiously the flesh eating minotaur is a tough solo opponent for higher level characters or the deadly boss of a tribe of orcs or goblins the wererat is a sneaky shapeshifter',\n",
       " 'giant black widow spider is a tough cr poisonous spider the marsh dwelling lizardfolk can be dangerous enemies or cautiously the flesh eating minotaur is a tough solo opponent for higher level characters or the deadly boss of a tribe of orcs or goblins the wererat is a sneaky shapeshifter relying',\n",
       " 'black widow spider is a tough cr poisonous spider the marsh dwelling lizardfolk can be dangerous enemies or cautiously the flesh eating minotaur is a tough solo opponent for higher level characters or the deadly boss of a tribe of orcs or goblins the wererat is a sneaky shapeshifter relying on',\n",
       " 'widow spider is a tough cr poisonous spider the marsh dwelling lizardfolk can be dangerous enemies or cautiously the flesh eating minotaur is a tough solo opponent for higher level characters or the deadly boss of a tribe of orcs or goblins the wererat is a sneaky shapeshifter relying on stealth',\n",
       " 'spider is a tough cr poisonous spider the marsh dwelling lizardfolk can be dangerous enemies or cautiously the flesh eating minotaur is a tough solo opponent for higher level characters or the deadly boss of a tribe of orcs or goblins the wererat is a sneaky shapeshifter relying on stealth and']"
      ]
     },
     "execution_count": 32,
     "metadata": {},
     "output_type": "execute_result"
    }
   ],
   "source": [
    "len(lines)\n",
    "lines[:5]"
   ]
  },
  {
   "cell_type": "code",
   "execution_count": 46,
   "metadata": {
    "colab": {
     "base_uri": "https://localhost:8080/",
     "height": 102
    },
    "colab_type": "code",
    "id": "YVfp-3Ff6muC",
    "outputId": "1426fcf3-f9f4-4335-c0c3-d21eeab24118"
   },
   "outputs": [
    {
     "name": "stdout",
     "output_type": "stream",
     "text": [
      "their thick webs to slow and capture foes before cocooning and devouring them\n",
      "lizardfolk are proud and powerful reptilian predators that live in swamps\n",
      "marshes and coasts they reject civilization and prefer simple tribal life in\n",
      "their own lands they are known to eat their dead enemies and allies whenever a\n",
      "\n"
     ]
    }
   ],
   "source": [
    "# select a seed text\n",
    "seed_text = lines[randint(0,len(lines))]\n",
    "print(textwrap.fill('%s' % (seed_text), 80) + '\\n')"
   ]
  },
  {
   "cell_type": "code",
   "execution_count": 34,
   "metadata": {
    "colab": {},
    "colab_type": "code",
    "id": "G9HbTEMwXB3r"
   },
   "outputs": [],
   "source": [
    "seed_text='monk who lives in the abbey'"
   ]
  },
  {
   "cell_type": "code",
   "execution_count": 47,
   "metadata": {
    "colab": {
     "base_uri": "https://localhost:8080/",
     "height": 119
    },
    "colab_type": "code",
    "id": "FYIfsm0BVMON",
    "outputId": "900ff38c-1157-4322-9467-16a08ad3966f"
   },
   "outputs": [
    {
     "name": "stderr",
     "output_type": "stream",
     "text": [
      "/home/ringoshin/.Envs/pfbot/lib/python3.6/site-packages/ipykernel_launcher.py:5: RuntimeWarning: divide by zero encountered in log\n",
      "  \"\"\"\n"
     ]
    },
    {
     "name": "stdout",
     "output_type": "stream",
     "text": [
      "giant black widow spider bites a foe that creature must make a fortitude saving\n",
      "throw as if hork on the stealth sailor points of the demos can make its own\n",
      "preparations that area but all below needs to be discrete alive to see them in\n",
      "other sensitive tauranor ended the\n"
     ]
    }
   ],
   "source": [
    "# generate new text\n",
    "generated = generate_seq(model, tokenizer, seq_length, seed_text, 50, 1.5)\n",
    "print(textwrap.fill('%s' % (generated), 80))"
   ]
  },
  {
   "cell_type": "code",
   "execution_count": 50,
   "metadata": {
    "colab": {},
    "colab_type": "code",
    "id": "QuhSv6uoDEy8"
   },
   "outputs": [],
   "source": [
    "special_gen=\"\"\"few weeks ago and have not yet returned the three missing monks are piotr oja\n",
    "ollie lenstraand tibaldo russo brother joachim informs the pcs there is a cave\n",
    "that has been used for shelter in the mountains along the route to galduria and\n",
    "describes how the pcs can locate it as the pcs travel further north they can see\n",
    "and feel approach small patches of snow linger in shaded areas the grasses are a\n",
    "dull\"\"\""
   ]
  },
  {
   "cell_type": "code",
   "execution_count": 51,
   "metadata": {
    "colab": {
     "base_uri": "https://localhost:8080/",
     "height": 119
    },
    "colab_type": "code",
    "id": "7CXG9UoFCZlj",
    "outputId": "7a1d7f07-c269-4b9a-af6f-8dcdd112a18a"
   },
   "outputs": [
    {
     "name": "stdout",
     "output_type": "stream",
     "text": [
      "few weeks ago and have not yet returned the three missing monks are piotr oja\n",
      "ollie lenstraand tibaldo russo brother joachim informs the pcs there is a cave\n",
      "that has been used for shelter in the mountains along the route to galduria and\n",
      "describes how the pcs can locate it as the pcs travel further north they can see\n",
      "and feel approach small patches of snow linger in shaded areas the grasses are a\n",
      "dull\n"
     ]
    }
   ],
   "source": [
    "generated = special_gen\n",
    "print(textwrap.fill('%s' % (generated), 80))"
   ]
  },
  {
   "cell_type": "code",
   "execution_count": 0,
   "metadata": {
    "colab": {},
    "colab_type": "code",
    "id": "aJxONZMPzoQt"
   },
   "outputs": [],
   "source": []
  },
  {
   "cell_type": "code",
   "execution_count": 52,
   "metadata": {
    "colab": {
     "base_uri": "https://localhost:8080/",
     "height": 241
    },
    "colab_type": "code",
    "id": "Smj_dEKbrfLH",
    "outputId": "449d89f6-363c-49e2-aa83-082acbdf83ed"
   },
   "outputs": [
    {
     "name": "stdout",
     "output_type": "stream",
     "text": [
      "Collecting en_core_web_lg==2.2.0\n",
      "\u001b[?25l  Downloading https://github.com/explosion/spacy-models/releases/download/en_core_web_lg-2.2.0/en_core_web_lg-2.2.0.tar.gz (827.9MB)\n",
      "\u001b[K     |████████████████████████████████| 827.9MB 4.4MB/s eta 0:00:011     |████▋                           | 119.2MB 15.9MB/s eta 0:00:45     |██████████████████████▌         | 583.1MB 12.9MB/s eta 0:00:20��████████████████████▋  | 765.6MB 3.5MB/s eta 0:00:188.7MB 411kB/s eta 0:00:47\n",
      "\u001b[?25hRequirement already satisfied: spacy>=2.2.0 in /home/ringoshin/.Envs/pfbot/lib/python3.6/site-packages (from en_core_web_lg==2.2.0) (2.2.1)\n",
      "Requirement already satisfied: thinc<7.2.0,>=7.1.1 in /home/ringoshin/.Envs/pfbot/lib/python3.6/site-packages (from spacy>=2.2.0->en_core_web_lg==2.2.0) (7.1.1)\n",
      "Requirement already satisfied: numpy>=1.15.0 in /home/ringoshin/.Envs/pfbot/lib/python3.6/site-packages (from spacy>=2.2.0->en_core_web_lg==2.2.0) (1.17.2)\n",
      "Requirement already satisfied: blis<0.5.0,>=0.4.0 in /home/ringoshin/.Envs/pfbot/lib/python3.6/site-packages (from spacy>=2.2.0->en_core_web_lg==2.2.0) (0.4.1)\n",
      "Requirement already satisfied: plac<1.0.0,>=0.9.6 in /home/ringoshin/.Envs/pfbot/lib/python3.6/site-packages (from spacy>=2.2.0->en_core_web_lg==2.2.0) (0.9.6)\n",
      "Requirement already satisfied: wasabi<1.1.0,>=0.2.0 in /home/ringoshin/.Envs/pfbot/lib/python3.6/site-packages (from spacy>=2.2.0->en_core_web_lg==2.2.0) (0.2.2)\n",
      "Requirement already satisfied: preshed<3.1.0,>=3.0.2 in /home/ringoshin/.Envs/pfbot/lib/python3.6/site-packages (from spacy>=2.2.0->en_core_web_lg==2.2.0) (3.0.2)\n",
      "Requirement already satisfied: srsly<1.1.0,>=0.1.0 in /home/ringoshin/.Envs/pfbot/lib/python3.6/site-packages (from spacy>=2.2.0->en_core_web_lg==2.2.0) (0.1.0)\n",
      "Requirement already satisfied: murmurhash<1.1.0,>=0.28.0 in /home/ringoshin/.Envs/pfbot/lib/python3.6/site-packages (from spacy>=2.2.0->en_core_web_lg==2.2.0) (1.0.2)\n",
      "Requirement already satisfied: cymem<2.1.0,>=2.0.2 in /home/ringoshin/.Envs/pfbot/lib/python3.6/site-packages (from spacy>=2.2.0->en_core_web_lg==2.2.0) (2.0.2)\n",
      "Requirement already satisfied: requests<3.0.0,>=2.13.0 in /home/ringoshin/.Envs/pfbot/lib/python3.6/site-packages (from spacy>=2.2.0->en_core_web_lg==2.2.0) (2.22.0)\n",
      "Requirement already satisfied: tqdm<5.0.0,>=4.10.0 in /home/ringoshin/.Envs/pfbot/lib/python3.6/site-packages (from thinc<7.2.0,>=7.1.1->spacy>=2.2.0->en_core_web_lg==2.2.0) (4.36.1)\n",
      "Requirement already satisfied: urllib3!=1.25.0,!=1.25.1,<1.26,>=1.21.1 in /home/ringoshin/.Envs/pfbot/lib/python3.6/site-packages (from requests<3.0.0,>=2.13.0->spacy>=2.2.0->en_core_web_lg==2.2.0) (1.25.6)\n",
      "Requirement already satisfied: chardet<3.1.0,>=3.0.2 in /home/ringoshin/.Envs/pfbot/lib/python3.6/site-packages (from requests<3.0.0,>=2.13.0->spacy>=2.2.0->en_core_web_lg==2.2.0) (3.0.4)\n",
      "Requirement already satisfied: idna<2.9,>=2.5 in /home/ringoshin/.Envs/pfbot/lib/python3.6/site-packages (from requests<3.0.0,>=2.13.0->spacy>=2.2.0->en_core_web_lg==2.2.0) (2.8)\n",
      "Requirement already satisfied: certifi>=2017.4.17 in /home/ringoshin/.Envs/pfbot/lib/python3.6/site-packages (from requests<3.0.0,>=2.13.0->spacy>=2.2.0->en_core_web_lg==2.2.0) (2019.9.11)\n",
      "Building wheels for collected packages: en-core-web-lg\n",
      "  Building wheel for en-core-web-lg (setup.py) ... \u001b[?25ldone\n",
      "\u001b[?25h  Created wheel for en-core-web-lg: filename=en_core_web_lg-2.2.0-cp36-none-any.whl size=829187831 sha256=3eb00e7d1388e1f5c916f404869c57edebd6d4f6378d8e0b2e8a56cee09cdf8b\n",
      "  Stored in directory: /tmp/pip-ephem-wheel-cache-7aghsh1f/wheels/9f/3c/d6/3ade7ed8195030f4d7f299cf73d856a84d7b3effd5890133fb\n",
      "Successfully built en-core-web-lg\n",
      "Installing collected packages: en-core-web-lg\n",
      "Successfully installed en-core-web-lg-2.2.0\n",
      "\u001b[33mWARNING: You are using pip version 19.3; however, version 19.3.1 is available.\n",
      "You should consider upgrading via the 'pip install --upgrade pip' command.\u001b[0m\n",
      "\u001b[38;5;2m✔ Download and installation successful\u001b[0m\n",
      "You can now load the model via spacy.load('en_core_web_lg')\n"
     ]
    }
   ],
   "source": [
    "#!python -m spacy download en_core_web_lg"
   ]
  },
  {
   "cell_type": "code",
   "execution_count": 53,
   "metadata": {
    "colab": {},
    "colab_type": "code",
    "id": "sbzO2lDfn_1B"
   },
   "outputs": [],
   "source": [
    "import spacy\n",
    "from spacy import displacy\n",
    "from collections import Counter\n",
    "#import en_core_web_sm\n",
    "#nlp = en_core_web_sm.load()\n",
    "import en_core_web_lg\n",
    "nlp = en_core_web_lg.load()"
   ]
  },
  {
   "cell_type": "code",
   "execution_count": 54,
   "metadata": {
    "colab": {
     "base_uri": "https://localhost:8080/",
     "height": 158
    },
    "colab_type": "code",
    "id": "s9RQr5Nzn_23",
    "outputId": "69044d0c-4d3f-419e-f8d2-11e39cf844b2"
   },
   "outputs": [
    {
     "name": "stdout",
     "output_type": "stream",
     "text": [
      "[]\n"
     ]
    },
    {
     "name": "stderr",
     "output_type": "stream",
     "text": [
      "/usr/lib/python3.6/runpy.py:193: UserWarning: [W006] No entities to visualize found in Doc object. If this is surprising to you, make sure the Doc was processed using a model that supports named entity recognition, and check the `doc.ents` property manually if necessary.\n",
      "  \"__main__\", mod_spec)\n"
     ]
    },
    {
     "data": {
      "text/html": [
       "<div class=\"entities\" style=\"line-height: 2.5; direction: ltr\">be hidden there apex business is lost or once in this room for initiative its journey the ship gets underway shortly afterward and left is killed it is a central encounter for more later spell darkvision so you can silver slow normally should have to see quiet from setting tauranor</div>"
      ],
      "text/plain": [
       "<IPython.core.display.HTML object>"
      ]
     },
     "metadata": {},
     "output_type": "display_data"
    }
   ],
   "source": [
    "sentence_nlp = nlp(generated)\n",
    "\n",
    "# print named entities in article\n",
    "print([(word, word.ent_type_) for word in sentence_nlp if word.ent_type_])\n",
    "\n",
    "# visualize named entities\n",
    "displacy.render(sentence_nlp, style='ent', jupyter=True)"
   ]
  },
  {
   "cell_type": "code",
   "execution_count": 55,
   "metadata": {
    "colab": {
     "base_uri": "https://localhost:8080/",
     "height": 221
    },
    "colab_type": "code",
    "id": "_sniDYrM4iPw",
    "outputId": "09e9a643-e36a-4e63-ae7c-1b0027d93c48"
   },
   "outputs": [
    {
     "name": "stdout",
     "output_type": "stream",
     "text": [
      "('apex', 'NOUN', 'apex')\n",
      "('business', 'NOUN', 'business')\n",
      "('room', 'NOUN', 'room')\n",
      "('initiative', 'NOUN', 'initiative')\n",
      "('journey', 'NOUN', 'journey')\n",
      "('ship', 'NOUN', 'ship')\n",
      "('encounter', 'NOUN', 'encounter')\n",
      "('spell', 'NOUN', 'spell')\n",
      "('darkvision', 'NOUN', 'darkvision')\n",
      "('silver', 'NOUN', 'silver')\n",
      "('tauranor', 'NOUN', 'tauranor')\n"
     ]
    }
   ],
   "source": [
    "#[(x.orth_,x.pos_, x.lemma_) for x in [y \n",
    "#                                      for y\n",
    "#                                      in nlp(generated)\n",
    "#                                      if (not y.is_stop and y.pos_ != 'PUNCT') or y.pos_ == 'NUM']]\n",
    "noun_list = []\n",
    "for token in nlp(generated):\n",
    "#    if (not token.is_stop and token.pos_ != 'PUNCT') or token.pos_ == 'NUM':\n",
    "    if (token.pos_ == 'NOUN'):\n",
    "        noun_list.append(token)\n",
    "        print((token.orth_,token.pos_, token.lemma_))"
   ]
  },
  {
   "cell_type": "code",
   "execution_count": 56,
   "metadata": {
    "colab": {
     "base_uri": "https://localhost:8080/",
     "height": 102
    },
    "colab_type": "code",
    "id": "BIicC96BOfYf",
    "outputId": "db4ef928-56e0-4429-cf3d-8df1da04aedd"
   },
   "outputs": [
    {
     "name": "stdout",
     "output_type": "stream",
     "text": [
      "cave shelter 0.3689129\n",
      "cave mountains 0.5231152\n",
      "shelter mountains 0.3393006\n",
      "mountains snow 0.5963584\n",
      "cave brother 0.22205521\n"
     ]
    }
   ],
   "source": [
    "#print([(i, noun) for i, noun in enumerate(noun_list)])\n",
    "#print(doc[7], doc[8], doc[7].similarity(doc[8]))\n",
    "test_doc = nlp('cave shelter mountains snow brother')\n",
    "print(test_doc[0], test_doc[1], test_doc[0].similarity(test_doc[1]))\n",
    "print(test_doc[0], test_doc[2], test_doc[0].similarity(test_doc[2]))\n",
    "print(test_doc[1], test_doc[2], test_doc[1].similarity(test_doc[2]))\n",
    "print(test_doc[2], test_doc[3], test_doc[2].similarity(test_doc[3]))\n",
    "print(test_doc[0], test_doc[4], test_doc[0].similarity(test_doc[4]))"
   ]
  },
  {
   "cell_type": "code",
   "execution_count": 57,
   "metadata": {
    "colab": {
     "base_uri": "https://localhost:8080/",
     "height": 34
    },
    "colab_type": "code",
    "id": "4giM1v9soTUp",
    "outputId": "493ccdbe-9e58-4c6d-89a5-7a949233d08e"
   },
   "outputs": [
    {
     "name": "stdout",
     "output_type": "stream",
     "text": [
      "0.20518590843756673\n"
     ]
    }
   ],
   "source": [
    "input_doc = nlp('wishsong abbey').similarity(nlp(lines[140]))\n",
    "print(input_doc)"
   ]
  },
  {
   "cell_type": "code",
   "execution_count": 58,
   "metadata": {
    "colab": {
     "base_uri": "https://localhost:8080/",
     "height": 54
    },
    "colab_type": "code",
    "id": "w8rupTQQp2pK",
    "outputId": "155121d9-6989-43c4-a6a7-88d4e3659f79"
   },
   "outputs": [
    {
     "data": {
      "text/plain": [
       "'monsters and the missing dwarves fought here when the pcs enter this area draw it on the map and read the following to them the rusty mine cart rails crisscross the floor in this area leading west north east and back south to the entrance dwarven boot prints are visible all'"
      ]
     },
     "execution_count": 58,
     "metadata": {},
     "output_type": "execute_result"
    }
   ],
   "source": [
    "lines[140]"
   ]
  },
  {
   "cell_type": "code",
   "execution_count": 59,
   "metadata": {
    "colab": {},
    "colab_type": "code",
    "id": "mxeUIHYmO_bA"
   },
   "outputs": [],
   "source": [
    "vocab_dict = word_model.wv.vocab"
   ]
  },
  {
   "cell_type": "code",
   "execution_count": 60,
   "metadata": {
    "colab": {},
    "colab_type": "code",
    "id": "GogUvMQ8zwR8"
   },
   "outputs": [],
   "source": [
    "vocab = [k for k in vocab_dict.keys()]"
   ]
  },
  {
   "cell_type": "code",
   "execution_count": 61,
   "metadata": {
    "colab": {
     "base_uri": "https://localhost:8080/",
     "height": 34
    },
    "colab_type": "code",
    "id": "8TWGOGZ2zwQT",
    "outputId": "0e564427-b0e6-4401-fc94-dbefcd7cd427"
   },
   "outputs": [
    {
     "data": {
      "text/plain": [
       "2925"
      ]
     },
     "execution_count": 61,
     "metadata": {},
     "output_type": "execute_result"
    }
   ],
   "source": [
    "len(vocab)"
   ]
  },
  {
   "cell_type": "code",
   "execution_count": 0,
   "metadata": {
    "colab": {
     "base_uri": "https://localhost:8080/",
     "height": 88
    },
    "colab_type": "code",
    "id": "QkGLfyiP0_5M",
    "outputId": "2b931bfe-51fc-4648-be82-58e18e7b9123"
   },
   "outputs": [
    {
     "name": "stdout",
     "output_type": "stream",
     "text": [
      "[==================================================] 100.0% 376.1/376.1MB downloaded\n"
     ]
    },
    {
     "name": "stderr",
     "output_type": "stream",
     "text": [
      "/usr/local/lib/python3.6/dist-packages/smart_open/smart_open_lib.py:398: UserWarning: This function is deprecated, use smart_open.open instead. See the migration notes for details: https://github.com/RaRe-Technologies/smart_open/blob/master/README.rst#migrating-to-the-new-open-function\n",
      "  'See the migration notes for details: %s' % _MIGRATION_NOTES_URL\n"
     ]
    }
   ],
   "source": [
    "import gensim.downloader as api\n",
    "wv_glove = api.load(\"glove-wiki-gigaword-300\")"
   ]
  },
  {
   "cell_type": "code",
   "execution_count": 0,
   "metadata": {
    "colab": {},
    "colab_type": "code",
    "id": "u2wzh-tU0_8W"
   },
   "outputs": [],
   "source": [
    "for word in ['gold', 'goblin', 'magic', 'priest', 'mine']:\n",
    "    most_similar = ', '.join('%s (%.2f)' % (similar, dist) for similar, dist in wv_glove.most_similar(word)[:8])\n",
    "    print('  %s -> %s' % (word, most_similar))"
   ]
  },
  {
   "cell_type": "code",
   "execution_count": 0,
   "metadata": {
    "colab": {},
    "colab_type": "code",
    "id": "Eo5qskU61AA0"
   },
   "outputs": [],
   "source": [
    "for word in ['zimandi', 'goblin', 'magic', 'priest', 'mine']:\n",
    "    most_similar = ', '.join('%s (%.2f)' % (similar, dist) for similar, dist in word_model.most_similar(word)[:8])\n",
    "    print('  %s -> %s' % (word, most_similar))"
   ]
  },
  {
   "cell_type": "code",
   "execution_count": 0,
   "metadata": {
    "colab": {
     "base_uri": "https://localhost:8080/",
     "height": 71
    },
    "colab_type": "code",
    "id": "NCjdjcZa4syp",
    "outputId": "e2a0a5d6-5dce-4ebd-e6fc-23eb2083180c"
   },
   "outputs": [
    {
     "name": "stderr",
     "output_type": "stream",
     "text": [
      "/usr/local/lib/python3.6/dist-packages/ipykernel_launcher.py:5: DeprecationWarning: Call to deprecated `wv` (Attribute will be removed in 4.0.0, use self instead).\n",
      "  \"\"\"\n"
     ]
    }
   ],
   "source": [
    "not_found_list, name_list, oov_list = [], [], []\n",
    "skip_words = ['darkvision', 'bracers', 'dungeoneering', 'ungracefully', 'lycanthropic', 'starknife' ]\n",
    "for word,i in word_model.wv.vocab.items():\n",
    "    try:\n",
    "        embedding_vector = wv_glove.wv[word] \n",
    "    except:\n",
    "        not_found_list.append(word)\n",
    "        if word not in skip_words:\n",
    "            name_list.append(word)\n",
    "        else:\n",
    "            oov_list.append(word)\n",
    "        #print(word, 'not found')"
   ]
  },
  {
   "cell_type": "code",
   "execution_count": 0,
   "metadata": {
    "colab": {
     "base_uri": "https://localhost:8080/",
     "height": 1000
    },
    "colab_type": "code",
    "id": "Jvnq11in0r7j",
    "outputId": "568c4ebe-6b30-4b4f-93a7-ae6639bc5e5a"
   },
   "outputs": [
    {
     "data": {
      "text/plain": [
       "['wererat',\n",
       " 'grald',\n",
       " 'mapand',\n",
       " 'wererats',\n",
       " 'erastil',\n",
       " 'eberius',\n",
       " 'tauranor',\n",
       " 'aroden',\n",
       " 'azlanti',\n",
       " 'golarion',\n",
       " 'varisian',\n",
       " 'varisia',\n",
       " 'thassilonian',\n",
       " 'runelord',\n",
       " 'rockwhelp',\n",
       " 'lurkwood',\n",
       " 'xanderghul',\n",
       " 'heidmarch',\n",
       " 'thassilon',\n",
       " 'runelords',\n",
       " 'riddleport',\n",
       " 'yarg',\n",
       " 'hork',\n",
       " 'shalesmash',\n",
       " 'galduria',\n",
       " 'amelon',\n",
       " 'birm',\n",
       " 'hazelindra',\n",
       " 'acadamae',\n",
       " 'montrovale',\n",
       " 'korvosa',\n",
       " 'academae',\n",
       " 'gorbic',\n",
       " 'korvosan',\n",
       " 'zamola',\n",
       " 'duso',\n",
       " 'galino',\n",
       " 'magnimar',\n",
       " 'tibaldo',\n",
       " 'lenstraand',\n",
       " 'aldemar',\n",
       " 'jargie',\n",
       " 'elliana',\n",
       " 'sarenrae',\n",
       " 'neergah',\n",
       " 'versade',\n",
       " 'savasha',\n",
       " 'magnimarian',\n",
       " 'deverin',\n",
       " 'irespan',\n",
       " 'dockway',\n",
       " 'nindrik',\n",
       " 'gradon',\n",
       " 'scarnetti',\n",
       " 'cheiskaia',\n",
       " 'nirodin',\n",
       " 'zimandi',\n",
       " 'kaddren',\n",
       " 'tauk',\n",
       " 'grapnel',\n",
       " 'farthough',\n",
       " 'zorakov',\n",
       " 'kantaro',\n",
       " 'korvut',\n",
       " 'zanthus',\n",
       " 'brinestump',\n",
       " 'kavoos',\n",
       " 'belor']"
      ]
     },
     "execution_count": 83,
     "metadata": {
      "tags": []
     },
     "output_type": "execute_result"
    }
   ],
   "source": [
    "name_list"
   ]
  },
  {
   "cell_type": "code",
   "execution_count": 0,
   "metadata": {
    "colab": {},
    "colab_type": "code",
    "id": "s_WJbZRlTPiX"
   },
   "outputs": [],
   "source": []
  },
  {
   "cell_type": "code",
   "execution_count": 0,
   "metadata": {
    "colab": {
     "base_uri": "https://localhost:8080/",
     "height": 323
    },
    "colab_type": "code",
    "id": "eWsMWgJ4Abh2",
    "outputId": "8de1c5ba-7088-4fd4-c6fa-efacc167a7af"
   },
   "outputs": [
    {
     "name": "stdout",
     "output_type": "stream",
     "text": [
      "the three missing monks | monks | dobj | returned\n",
      "oja\n",
      "ollie lenstraand tibaldo | tibaldo | ROOT | tibaldo\n",
      "russo brother joachim | joachim | nsubj | informs\n",
      "the pcs | pcs | dobj | informs\n",
      "a cave | cave | attr | is\n",
      "shelter | shelter | pobj | for\n",
      "the mountains | mountains | pobj | in\n",
      "the route | route | pobj | along\n",
      "galduria | galduria | pobj | to\n",
      "the pcs | pcs | nsubj | locate\n",
      "it | it | dobj | locate\n",
      "pcs | pcs | nsubj | travel\n",
      "they | they | nsubj | see\n",
      "small patches | patches | nsubj | linger\n",
      "snow | snow | pobj | of\n",
      "shaded areas | areas | pobj | in\n",
      "the grasses | grasses | nsubj | are\n"
     ]
    }
   ],
   "source": [
    "doc = nlp(generated)\n",
    "for chunk in doc.noun_chunks:\n",
    "    print(\"{} | {} | {} | {}\".format(chunk.text, chunk.root.text, chunk.root.dep_,\n",
    "            chunk.root.head.text))"
   ]
  },
  {
   "cell_type": "code",
   "execution_count": 0,
   "metadata": {
    "colab": {
     "base_uri": "https://localhost:8080/",
     "height": 51
    },
    "colab_type": "code",
    "id": "aax02VAYAc4V",
    "outputId": "b661516b-5cf9-4ed9-fba3-323d6061258a"
   },
   "outputs": [
    {
     "name": "stdout",
     "output_type": "stream",
     "text": [
      "Before []\n",
      "After [('FB', 0, 2, 'ORG')]\n"
     ]
    }
   ],
   "source": [
    "import spacy\n",
    "from spacy.tokens import Span\n",
    "\n",
    "nlp = spacy.load(\"en_core_web_sm\")\n",
    "doc = nlp(u\"FB is hiring a new Vice President of global policy\")\n",
    "ents = [(e.text, e.start_char, e.end_char, e.label_) for e in doc.ents]\n",
    "print('Before', ents)\n",
    "# the model didn't recognise \"FB\" as an entity :(\n",
    "\n",
    "MOG = doc.vocab.strings[u\"MOG\"]  # get hash value of entity label\n",
    "ORG = doc.vocab.strings[u\"ORG\"]  # get hash value of entity label\n",
    "fb_ent = Span(doc, 0, 1, label=ORG) # create a Span for the new entity\n",
    "doc.ents = list(doc.ents) + [fb_ent]\n",
    "\n",
    "ents = [(e.text, e.start_char, e.end_char, e.label_) for e in doc.ents]\n",
    "print('After', ents)\n",
    "# [(u'FB', 0, 2, 'MOG')]"
   ]
  },
  {
   "cell_type": "code",
   "execution_count": 0,
   "metadata": {
    "colab": {
     "base_uri": "https://localhost:8080/",
     "height": 34
    },
    "colab_type": "code",
    "id": "3Bvlvo2SlVzY",
    "outputId": "b3900b1b-96d9-4cf6-b16a-98cc6988fc07"
   },
   "outputs": [
    {
     "data": {
      "text/plain": [
       "(1030335124240825175, 383)"
      ]
     },
     "execution_count": 47,
     "metadata": {
      "tags": []
     },
     "output_type": "execute_result"
    }
   ],
   "source": [
    "(MOG, ORG)"
   ]
  },
  {
   "cell_type": "code",
   "execution_count": 0,
   "metadata": {
    "colab": {
     "base_uri": "https://localhost:8080/",
     "height": 52
    },
    "colab_type": "code",
    "id": "kHDI_Ky7Ac86",
    "outputId": "fda66998-9e25-4651-b56d-42dc59e05d90"
   },
   "outputs": [
    {
     "data": {
      "text/html": [
       "<div class=\"entities\" style=\"line-height: 2.5; direction: ltr\">\n",
       "<mark class=\"entity\" style=\"background: #7aecec; padding: 0.45em 0.6em; margin: 0 0.25em; line-height: 1; border-radius: 0.35em; box-decoration-break: clone; -webkit-box-decoration-break: clone\">\n",
       "    FB\n",
       "    <span style=\"font-size: 0.8em; font-weight: bold; line-height: 1; border-radius: 0.35em; text-transform: uppercase; vertical-align: middle; margin-left: 0.5rem\">ORG</span>\n",
       "</mark>\n",
       " is hiring a new Vice President of global policy</div>"
      ],
      "text/plain": [
       "<IPython.core.display.HTML object>"
      ]
     },
     "metadata": {
      "tags": []
     },
     "output_type": "display_data"
    }
   ],
   "source": [
    "displacy.render(doc, style='ent', jupyter=True)"
   ]
  },
  {
   "cell_type": "code",
   "execution_count": 0,
   "metadata": {
    "colab": {},
    "colab_type": "code",
    "id": "7jDc0VZeAc7a"
   },
   "outputs": [],
   "source": []
  },
  {
   "cell_type": "code",
   "execution_count": 0,
   "metadata": {
    "colab": {},
    "colab_type": "code",
    "id": "-OPp1g4Nh-oh"
   },
   "outputs": [],
   "source": [
    "import matplotlib.pyplot as plt\n",
    "\n",
    "from sklearn.decomposition import TruncatedSVD\n",
    "from sklearn.feature_extraction.text import TfidfVectorizer\n",
    "from sklearn.feature_extraction.text import HashingVectorizer\n",
    "from sklearn.feature_extraction.text import TfidfTransformer\n",
    "from sklearn.pipeline import make_pipeline\n",
    "from sklearn.preprocessing import Normalizer\n",
    "from sklearn import metrics\n",
    "\n",
    "from sklearn.cluster import KMeans, MiniBatchKMeans\n",
    "\n",
    "import sys\n",
    "from time import time\n",
    "\n",
    "import numpy as np"
   ]
  },
  {
   "cell_type": "code",
   "execution_count": 0,
   "metadata": {
    "colab": {},
    "colab_type": "code",
    "id": "i4xufEQSh-1m"
   },
   "outputs": [],
   "source": [
    "n_clusters = 300\n",
    "n_components = 300  # Preprocess documents with latent semantic analysis, 0 means not using LSA.\n",
    "n_features=vocab_size+1    # Maximum number of features (dimensions) to extract from text\n",
    "\n",
    "minibatch=True     # Use minibatch vs ordinary k-means algorithm\n",
    "use_idf=True       # Enable Inverse Document Frequency feature weighting\n",
    "use_hashing=False  # Use a hashing feature vectorizer\"\n",
    "verbose=False      # Print progress reports inside k-means algorithm"
   ]
  },
  {
   "cell_type": "code",
   "execution_count": 0,
   "metadata": {
    "colab": {
     "base_uri": "https://localhost:8080/",
     "height": 153
    },
    "colab_type": "code",
    "id": "TqCDy6D1h-7T",
    "outputId": "6557fb8d-659f-404a-b4c2-ee78043c639c"
   },
   "outputs": [
    {
     "name": "stdout",
     "output_type": "stream",
     "text": [
      "Extracting features from the training dataset using a sparse vectorizer\n",
      "done in 0.395989s\n",
      "n_samples: 13046, n_features: 2695\n",
      "\n",
      "Performing dimensionality reduction using LSA\n",
      "done in 3.075784s\n",
      "Explained variance of the SVD step: 87%\n",
      "\n"
     ]
    }
   ],
   "source": [
    "print(\"Extracting features from the training dataset using a sparse vectorizer\")\n",
    "t0 = time()\n",
    "if use_hashing:\n",
    "    if use_idf:\n",
    "        # Perform an IDF normalization on the output of HashingVectorizer\n",
    "        hasher = HashingVectorizer(n_features=n_features,\n",
    "                                   stop_words='english', \n",
    "                                   # non_negative=True,\n",
    "                                   norm=None, binary=False)\n",
    "        vectorizer = make_pipeline(hasher, TfidfTransformer())\n",
    "    else:\n",
    "        vectorizer = HashingVectorizer(n_features=n_features,\n",
    "                                       stop_words='english',\n",
    "                                       # non_negative=False, \n",
    "                                       norm='l2',\n",
    "                                       binary=False)\n",
    "else:\n",
    "    vectorizer = TfidfVectorizer(max_df=1.0, max_features=n_features,\n",
    "                                 min_df=1, stop_words='english',\n",
    "                                 use_idf=use_idf)\n",
    "X = vectorizer.fit_transform(lines)\n",
    "\n",
    "print(\"done in %fs\" % (time() - t0))\n",
    "print(\"n_samples: %d, n_features: %d\" % X.shape)\n",
    "print()\n",
    "\n",
    "if n_components:\n",
    "    print(\"Performing dimensionality reduction using LSA\")\n",
    "    t0 = time()\n",
    "    # Vectorizer results are normalized, which makes KMeans behave as\n",
    "    # spherical k-means for better results. Since LSA/SVD results are\n",
    "    # not normalized, we have to redo the normalization.\n",
    "    svd = TruncatedSVD(n_components)\n",
    "    normalizer = Normalizer(copy=False)\n",
    "    lsa = make_pipeline(svd, normalizer)\n",
    "\n",
    "    X = lsa.fit_transform(X)\n",
    "\n",
    "    print(\"done in %fs\" % (time() - t0))\n",
    "\n",
    "    explained_variance = svd.explained_variance_ratio_.sum()\n",
    "    print(\"Explained variance of the SVD step: {}%\".format(\n",
    "        int(explained_variance * 100)))\n",
    "\n",
    "    print()"
   ]
  },
  {
   "cell_type": "code",
   "execution_count": 0,
   "metadata": {
    "colab": {
     "base_uri": "https://localhost:8080/",
     "height": 1000
    },
    "colab_type": "code",
    "id": "HmPJnii0lF3d",
    "outputId": "00911956-27b2-4a10-d66f-5a412dfbe77c"
   },
   "outputs": [
    {
     "data": {
      "text/plain": [
       "array([0.0032464 , 0.01107117, 0.01028093, 0.00942792, 0.00832555,\n",
       "       0.00813238, 0.00790249, 0.00763405, 0.00758528, 0.00730429,\n",
       "       0.00718659, 0.0070021 , 0.00667041, 0.0065344 , 0.00643486,\n",
       "       0.00635928, 0.00612863, 0.00601874, 0.00598221, 0.00584826,\n",
       "       0.00577443, 0.00570543, 0.0056314 , 0.00558886, 0.00550061,\n",
       "       0.00547608, 0.00539681, 0.00535817, 0.00527654, 0.00521335,\n",
       "       0.00516126, 0.00506738, 0.00502929, 0.00496283, 0.00494132,\n",
       "       0.00487899, 0.00483955, 0.00480248, 0.004764  , 0.0047417 ,\n",
       "       0.00466875, 0.00464345, 0.00462921, 0.00460841, 0.00454388,\n",
       "       0.00451306, 0.00449327, 0.00448734, 0.00442228, 0.00441111,\n",
       "       0.00433001, 0.00431588, 0.00430321, 0.00427256, 0.00425866,\n",
       "       0.00423261, 0.004201  , 0.00415912, 0.0041197 , 0.00410485,\n",
       "       0.00406614, 0.00404558, 0.00403571, 0.00398393, 0.00396482,\n",
       "       0.00396137, 0.00391653, 0.00391202, 0.00389419, 0.00388173,\n",
       "       0.0038626 , 0.0038509 , 0.00382029, 0.00380402, 0.00377605,\n",
       "       0.0037473 , 0.00373752, 0.00369696, 0.00368984, 0.00367376,\n",
       "       0.00366089, 0.00364671, 0.003622  , 0.00358891, 0.00356518,\n",
       "       0.003561  , 0.00354512, 0.00352254, 0.00349753, 0.00349037,\n",
       "       0.00347866, 0.00343944, 0.00342917, 0.00342067, 0.00340573,\n",
       "       0.00338957, 0.00337528, 0.00332769, 0.00330385, 0.00329259,\n",
       "       0.00327259, 0.00325929, 0.00324996, 0.00323562, 0.00319096,\n",
       "       0.00317952, 0.00316349, 0.00314483, 0.00313755, 0.00312731,\n",
       "       0.00311236, 0.00309792, 0.00309137, 0.00308585, 0.00305845,\n",
       "       0.00304533, 0.00303023, 0.00302223, 0.00300631, 0.0029925 ,\n",
       "       0.00297381, 0.00294824, 0.00293182, 0.00292143, 0.00289416,\n",
       "       0.00288536, 0.00286386, 0.00285859, 0.00284918, 0.00284224,\n",
       "       0.00283345, 0.00280245, 0.00279094, 0.00277639, 0.00276683,\n",
       "       0.00276169, 0.00273844, 0.00272221, 0.00270071, 0.00267177,\n",
       "       0.00265062, 0.00264898, 0.00262278, 0.00261408, 0.00261077,\n",
       "       0.00259508, 0.00258031, 0.00257557, 0.00257133, 0.00254594,\n",
       "       0.00254289, 0.00253144, 0.00251688, 0.00249222, 0.0024878 ,\n",
       "       0.00247402, 0.00244846, 0.00243212, 0.00241003, 0.00239817,\n",
       "       0.00238981, 0.00238816, 0.00237239, 0.00235466, 0.0023384 ,\n",
       "       0.00233489, 0.00230479, 0.00229516, 0.00228537, 0.00228033,\n",
       "       0.00226038, 0.0022436 , 0.00223858, 0.00222211, 0.00221016,\n",
       "       0.00220519, 0.00219379, 0.00215538, 0.00214999, 0.0021361 ,\n",
       "       0.00212128, 0.00211121, 0.00210329, 0.0020954 , 0.00208289,\n",
       "       0.00207364, 0.00204623, 0.00203355, 0.00201947, 0.00200576,\n",
       "       0.00199748, 0.00198563, 0.00196786, 0.00196373, 0.0019413 ,\n",
       "       0.00193278, 0.00192141, 0.00190454, 0.00190174, 0.00189471,\n",
       "       0.00189067, 0.00187317, 0.00185524, 0.00185292, 0.0018308 ,\n",
       "       0.00181832, 0.00180296, 0.00179634, 0.00178802, 0.00178411,\n",
       "       0.00175655, 0.00174638, 0.00174005, 0.00173293, 0.00171011,\n",
       "       0.00170652, 0.00169074, 0.00168111, 0.00166958, 0.00165461,\n",
       "       0.00164977, 0.00164434, 0.00163402, 0.00161585, 0.00158974,\n",
       "       0.00158336, 0.00156553, 0.00156232, 0.00155603, 0.00153929,\n",
       "       0.00152678, 0.0015099 , 0.00150075, 0.00149022, 0.00148176,\n",
       "       0.00147871, 0.00145522, 0.00144738, 0.00143811, 0.00141599,\n",
       "       0.00141352, 0.00140415, 0.00139392, 0.00138535, 0.00137189,\n",
       "       0.00136576, 0.00135862, 0.00134266, 0.00132699, 0.00132109,\n",
       "       0.00130974, 0.00130019, 0.0012835 , 0.00127143, 0.00126314,\n",
       "       0.00125008, 0.00123838, 0.00123375, 0.00122393, 0.00121934,\n",
       "       0.00121142, 0.00120218, 0.00119249, 0.00118726, 0.00116445,\n",
       "       0.00115456, 0.00114177, 0.00113062, 0.00111754, 0.00111145,\n",
       "       0.00110164, 0.00109279, 0.00107941, 0.00107609, 0.0010611 ,\n",
       "       0.00105329, 0.00104793, 0.00103774, 0.00102657, 0.00101497,\n",
       "       0.00101266, 0.00099939, 0.00099462, 0.00098133, 0.00097337,\n",
       "       0.00095294, 0.0009418 , 0.0009326 , 0.00092151, 0.00091441,\n",
       "       0.00088531, 0.00087422, 0.00087303, 0.00085935, 0.00084944,\n",
       "       0.00084658, 0.00082611, 0.00082429, 0.00081317, 0.00078985])"
      ]
     },
     "execution_count": 96,
     "metadata": {
      "tags": []
     },
     "output_type": "execute_result"
    }
   ],
   "source": [
    "svd.explained_variance_ratio_"
   ]
  },
  {
   "cell_type": "code",
   "execution_count": 0,
   "metadata": {
    "colab": {},
    "colab_type": "code",
    "id": "qQYLFSPNh_GE"
   },
   "outputs": [],
   "source": [
    "def display_topics(model, feature_names, no_top_words, topic_names=None):\n",
    "    for ix, topic in enumerate(model.components_):\n",
    "        if not topic_names or not topic_names[ix]:\n",
    "            print(\"\\nTopic \", ix)\n",
    "        else:\n",
    "            print(\"\\nTopic: '\",topic_names[ix],\"'\")\n",
    "        print(\", \".join([feature_names[i]\n",
    "                        for i in topic.argsort()[:-no_top_words - 1:-1]]))\n",
    "        print(\", \".join([\"{:.3f}\".format(topic[i])\n",
    "                        for i in topic.argsort()[:-no_top_words - 1:-1]]))"
   ]
  },
  {
   "cell_type": "code",
   "execution_count": 0,
   "metadata": {
    "colab": {
     "base_uri": "https://localhost:8080/",
     "height": 1000
    },
    "colab_type": "code",
    "id": "XcTtcsbCh_LF",
    "outputId": "9e9a2211-f365-4818-9681-6c1f4be4f5e6"
   },
   "outputs": [
    {
     "name": "stdout",
     "output_type": "stream",
     "text": [
      "\n",
      "Topic  0\n",
      "pcs, pc, check, area, dc, round, make, surprised, perception, surprise, elemental, spider, combat, captain, sandpoint\n",
      "0.334, 0.196, 0.196, 0.192, 0.179, 0.132, 0.126, 0.125, 0.117, 0.111, 0.111, 0.104, 0.100, 0.096, 0.087\n",
      "\n",
      "Topic  1\n",
      "surprised, round, surprise, combat, elemental, action, spider, hork, initiative, standard, actions, normal, yarg, mother, act\n",
      "0.416, 0.379, 0.372, 0.241, 0.184, 0.170, 0.166, 0.112, 0.091, 0.088, 0.085, 0.070, 0.065, 0.064, 0.052\n",
      "\n",
      "Topic  2\n",
      "area, prints, enter, north, tunnel, dwarves, draw, dwarf, rails, cart, east, sinkhole, boot, ground, pc\n",
      "0.369, 0.156, 0.123, 0.122, 0.114, 0.111, 0.110, 0.102, 0.102, 0.102, 0.097, 0.093, 0.090, 0.088, 0.084\n",
      "\n",
      "Topic  3\n",
      "check, dc, pc, successful, knowledge, damage, spell, character, save, perception, make, envoy, scepter, climb, device\n",
      "0.276, 0.276, 0.204, 0.130, 0.118, 0.116, 0.107, 0.096, 0.093, 0.091, 0.090, 0.084, 0.068, 0.064, 0.062\n",
      "\n",
      "Topic  4\n",
      "damage, spell, ring, bonus, use, points, action, creature, armor, save, silver, charges, class, standard, penalty\n",
      "0.218, 0.173, 0.153, 0.153, 0.142, 0.133, 0.124, 0.117, 0.117, 0.110, 0.104, 0.104, 0.103, 0.098, 0.098\n",
      "\n",
      "Topic  5\n",
      "candle, undead, night, town, flame, knowledge, galduria, successful, surprised, heidmarch, venture, blood, graveyard, sheila, cemetery\n",
      "0.284, 0.200, 0.199, 0.122, 0.108, 0.103, 0.102, 0.098, 0.095, 0.094, 0.092, 0.090, 0.084, 0.081, 0.074\n",
      "\n",
      "Topic  6\n",
      "venture, heidmarch, captain, montrovale, sheila, hork, mimic, codex, classroom, attack, cheh, damage, professor, ruins, book\n",
      "0.190, 0.183, 0.156, 0.149, 0.141, 0.139, 0.121, 0.119, 0.099, 0.094, 0.093, 0.088, 0.084, 0.082, 0.082\n",
      "\n",
      "Topic  7\n",
      "silva, captain, demos, pc, questions, sunrise, damage, exposure, box, beginner, isles, follows, sarenrae, element, recurring\n",
      "0.189, 0.171, 0.153, 0.136, 0.124, 0.089, 0.084, 0.082, 0.081, 0.081, 0.080, 0.080, 0.079, 0.079, 0.079\n",
      "\n",
      "Topic  8\n",
      "hork, yarg, attack, ruins, candle, combat, goblin, raiders, morale, pcs, death, explore, medallion, fights, fight\n",
      "0.390, 0.217, 0.152, 0.133, 0.126, 0.118, 0.116, 0.114, 0.113, 0.111, 0.074, 0.074, 0.074, 0.073, 0.068\n",
      "\n",
      "Topic  9\n",
      "scepter, bloody, knuckles, fake, crosier, throne, stone, columns, rune, true, gold, far, relic, medallion, eberius\n",
      "0.200, 0.119, 0.118, 0.117, 0.113, 0.103, 0.090, 0.089, 0.087, 0.085, 0.082, 0.082, 0.081, 0.080, 0.078\n",
      "\n",
      "Topic  10\n",
      "sandpoint, galduria, pc, duso, prints, monks, mena, town, galino, heidmarch, higher, gets, gp, venture, ago\n",
      "0.195, 0.193, 0.158, 0.140, 0.133, 0.121, 0.111, 0.101, 0.098, 0.096, 0.096, 0.090, 0.090, 0.086, 0.084\n",
      "\n",
      "Topic  11\n",
      "versade, nazari, savasha, ball, deverin, mayor, guests, ruby, day, doppelganger, house, masquerade, elemental, room, angel\n",
      "0.316, 0.177, 0.161, 0.141, 0.136, 0.117, 0.102, 0.102, 0.102, 0.094, 0.094, 0.089, 0.088, 0.083, 0.082\n",
      "\n",
      "Topic  12\n",
      "gp, gold, dwarf, hit, alive, worth, durn, grald, area, unconscious, elemental, montrovale, knowledge, using, monster\n",
      "0.152, 0.113, 0.105, 0.101, 0.101, 0.097, 0.096, 0.094, 0.093, 0.093, 0.089, 0.088, 0.087, 0.085, 0.079\n",
      "\n",
      "Topic  13\n",
      "shabana, chest, treasure, aldemar, island, green, hag, buried, hork, save, character, woman, small, young, climb\n",
      "0.287, 0.158, 0.119, 0.113, 0.108, 0.093, 0.088, 0.088, 0.085, 0.084, 0.083, 0.082, 0.081, 0.081, 0.080\n",
      "\n",
      "Topic  14\n",
      "hork, galduria, demos, monks, yarg, silva, small, captain, duso, named, safe, masks, day, sunrise, sea\n",
      "0.198, 0.151, 0.125, 0.110, 0.110, 0.107, 0.099, 0.099, 0.098, 0.095, 0.088, 0.084, 0.084, 0.079, 0.079\n",
      "\n",
      "Topic  15\n",
      "climb, character, sinkhole, scepter, dc, feet, jump, fake, xp, checks, throne, pcs, save, monsters, make\n",
      "0.195, 0.150, 0.120, 0.117, 0.112, 0.107, 0.105, 0.092, 0.085, 0.080, 0.074, 0.074, 0.074, 0.073, 0.071\n",
      "\n",
      "Topic  16\n",
      "hork, silver, gp, das, weapons, yarg, aquarium, tankard, yordan, night, adventure, coins, present, feet, kavoos\n",
      "0.193, 0.188, 0.159, 0.132, 0.117, 0.104, 0.102, 0.084, 0.079, 0.075, 0.073, 0.070, 0.065, 0.061, 0.061\n",
      "\n",
      "Topic  17\n",
      "climb, room, light, xp, monsters, sinkhole, cavern, gp, ring, check, gold, encounter, silva, total, encounters\n",
      "0.164, 0.132, 0.119, 0.105, 0.096, 0.094, 0.088, 0.085, 0.075, 0.072, 0.070, 0.070, 0.067, 0.066, 0.066\n",
      "\n",
      "Topic  18\n",
      "feet, shabana, sinkhole, climb, action, monsters, xp, lost, prints, knuckles, bloody, pcs, bonus, trap, day\n",
      "0.169, 0.159, 0.121, 0.121, 0.101, 0.100, 0.099, 0.094, 0.093, 0.088, 0.088, 0.084, 0.081, 0.079, 0.079\n",
      "\n",
      "Topic  19\n",
      "aquarium, tankard, bloody, knuckles, drink, sandpoint, attempt, pc, eberius, coins, room, coin, winner, bar, points\n",
      "0.197, 0.189, 0.129, 0.129, 0.126, 0.109, 0.106, 0.102, 0.098, 0.095, 0.092, 0.091, 0.085, 0.085, 0.085\n",
      "\n",
      "Topic  20\n",
      "gold, gp, candle, cavern, coins, worth, duso, ring, outfit, way, ruins, tankard, flame, save, montrovale\n",
      "0.149, 0.128, 0.125, 0.096, 0.093, 0.091, 0.081, 0.074, 0.074, 0.074, 0.073, 0.073, 0.072, 0.071, 0.068\n",
      "\n",
      "Topic  21\n",
      "town, spider, small, light, cavern, perception, fight, action, attack, result, stealth, wounds, character, successful, check\n",
      "0.130, 0.128, 0.114, 0.104, 0.098, 0.097, 0.096, 0.093, 0.085, 0.079, 0.074, 0.069, 0.069, 0.068, 0.068\n",
      "\n",
      "Topic  22\n",
      "safe, trap, walkway, long, forest, envoy, open, great, pcs, medallion, spider, gets, covered, action, path\n",
      "0.123, 0.102, 0.099, 0.096, 0.095, 0.087, 0.084, 0.083, 0.083, 0.081, 0.080, 0.074, 0.072, 0.072, 0.071\n",
      "\n",
      "Topic  23\n",
      "area, tankard, aquarium, dc, drink, action, grald, manage, talk, large, bar, standard, envoy, slime, coin\n",
      "0.176, 0.166, 0.162, 0.114, 0.105, 0.099, 0.078, 0.078, 0.077, 0.076, 0.068, 0.068, 0.068, 0.068, 0.067\n",
      "\n",
      "Topic  24\n",
      "area, gold, monster, want, grald, large, open, safe, save, room, using, knows, character, saving, book\n",
      "0.167, 0.130, 0.117, 0.107, 0.091, 0.087, 0.086, 0.085, 0.085, 0.076, 0.075, 0.074, 0.070, 0.070, 0.070\n",
      "\n",
      "Topic  25\n",
      "room, mayor, sandpoint, deverin, way, years, spider, save, character, das, lord, silver, ago, kendra, montrovale\n",
      "0.156, 0.133, 0.132, 0.120, 0.102, 0.099, 0.096, 0.093, 0.089, 0.088, 0.087, 0.075, 0.074, 0.073, 0.066\n",
      "\n",
      "Topic  26\n",
      "safe, following, read, trap, device, deverin, secure, disable, mayor, wearing, character, dwarf, save, tunnel, word\n",
      "0.232, 0.132, 0.121, 0.116, 0.102, 0.098, 0.097, 0.094, 0.084, 0.083, 0.083, 0.082, 0.080, 0.069, 0.066\n",
      "\n",
      "Topic  27\n",
      "silver, das, weapons, knuckles, bloody, spider, relic, enter, ruins, eberius, floor, trap, chamber, smithy, chest\n",
      "0.123, 0.122, 0.120, 0.097, 0.096, 0.092, 0.089, 0.085, 0.078, 0.074, 0.071, 0.069, 0.068, 0.068, 0.065\n",
      "\n",
      "Topic  28\n",
      "map, door, treasure, monsters, knowledge, shala, xp, duso, time, encounter, attempts, enter, chest, kavoos, korvosa\n",
      "0.129, 0.127, 0.116, 0.101, 0.089, 0.083, 0.080, 0.076, 0.075, 0.071, 0.071, 0.071, 0.069, 0.069, 0.067\n",
      "\n",
      "Topic  29\n",
      "like, dwarf, squares, foot, minotaur, room, questions, looks, attack, grald, unconscious, dark, run, points, free\n",
      "0.117, 0.115, 0.112, 0.103, 0.103, 0.098, 0.096, 0.076, 0.073, 0.072, 0.072, 0.068, 0.068, 0.066, 0.063\n",
      "\n",
      "Topic  30\n",
      "pcs, cavern, xp, candle, spider, deverin, word, different, mask, masks, monsters, notice, approach, mayor, perception\n",
      "0.132, 0.109, 0.105, 0.094, 0.094, 0.092, 0.090, 0.089, 0.087, 0.086, 0.085, 0.080, 0.076, 0.075, 0.075\n",
      "\n",
      "Topic  31\n",
      "aldemar, island, like, broken, feet, quickly, named, candle, makes, squares, make, tunnel, shipwrecked, beautiful, area\n",
      "0.135, 0.128, 0.093, 0.087, 0.084, 0.083, 0.080, 0.079, 0.078, 0.078, 0.076, 0.073, 0.070, 0.070, 0.069\n",
      "\n",
      "Topic  32\n",
      "deverin, mayor, spells, years, outside, monster, elemental, lord, time, evil, aroden, rest, kendra, cart, rails\n",
      "0.109, 0.098, 0.094, 0.092, 0.090, 0.079, 0.076, 0.075, 0.073, 0.073, 0.072, 0.070, 0.068, 0.068, 0.068\n",
      "\n",
      "Topic  33\n",
      "envoy, pc, montrovale, small, squares, creature, runelord, stat, night, creatures, cheh, minotaur, block, prepare, air\n",
      "0.114, 0.113, 0.102, 0.095, 0.091, 0.087, 0.085, 0.079, 0.078, 0.077, 0.075, 0.073, 0.070, 0.066, 0.065\n",
      "\n",
      "Topic  34\n",
      "feet, envoy, walkway, foot, headband, great, attack, knowledge, command, platform, montrovale, come, throws, bonus, saving\n",
      "0.127, 0.100, 0.093, 0.091, 0.088, 0.083, 0.081, 0.081, 0.080, 0.074, 0.073, 0.072, 0.070, 0.070, 0.067\n",
      "\n",
      "Topic  35\n",
      "character, time, climb, broken, day, treasure, area, second, wall, pc, bonus, pit, contact, column, night\n",
      "0.144, 0.131, 0.116, 0.096, 0.093, 0.083, 0.076, 0.072, 0.070, 0.070, 0.070, 0.070, 0.067, 0.067, 0.066\n",
      "\n",
      "Topic  36\n",
      "point, cavern, round, use, ball, sandpoint, charges, area, savasha, contact, damage, versade, points, subtract, icy\n",
      "0.112, 0.111, 0.101, 0.101, 0.097, 0.091, 0.090, 0.089, 0.084, 0.076, 0.076, 0.075, 0.073, 0.070, 0.068\n",
      "\n",
      "Topic  37\n",
      "cavern, elemental, town, icy, set, forest, litter, make, armor, sandpoint, notice, western, work, nights, walkway\n",
      "0.164, 0.155, 0.110, 0.102, 0.090, 0.087, 0.081, 0.081, 0.081, 0.079, 0.078, 0.070, 0.070, 0.068, 0.067\n",
      "\n",
      "Topic  38\n",
      "table, open, envoy, light, points, map, questions, sending, academae, small, gp, spider, great, pc, rolls\n",
      "0.107, 0.086, 0.079, 0.076, 0.072, 0.070, 0.070, 0.069, 0.067, 0.067, 0.066, 0.066, 0.064, 0.064, 0.064\n",
      "\n",
      "Topic  39\n",
      "door, area, near, farmhouse, charges, cat, shala, kavoos, break, galduria, attacking, face, attempts, professor, nearby\n",
      "0.112, 0.100, 0.084, 0.082, 0.081, 0.079, 0.077, 0.075, 0.074, 0.071, 0.068, 0.066, 0.065, 0.065, 0.064\n",
      "\n",
      "Topic  40\n",
      "stone, charges, night, attack, knowledge, forest, underway, columns, montrovale, isle, scuttle, desna, spider, treasure, walkway\n",
      "0.113, 0.100, 0.091, 0.091, 0.091, 0.079, 0.074, 0.073, 0.069, 0.067, 0.067, 0.066, 0.066, 0.065, 0.064\n",
      "\n",
      "Topic  41\n",
      "creature, belt, monster, open, treasure, area, safe, point, giant, offer, scuttle, isle, hits, room, following\n",
      "0.128, 0.120, 0.096, 0.094, 0.090, 0.082, 0.081, 0.080, 0.079, 0.079, 0.077, 0.077, 0.076, 0.074, 0.070\n",
      "\n",
      "Topic  42\n",
      "das, chamber, pc, gp, silver, feet, korvosa, granted, ship, fear, high, family, want, covered, sea\n",
      "0.090, 0.088, 0.082, 0.081, 0.078, 0.077, 0.077, 0.075, 0.070, 0.068, 0.067, 0.067, 0.066, 0.066, 0.065\n",
      "\n",
      "Topic  43\n",
      "questions, ring, spider, second, answers, time, gp, aldemar, sailors, covered, gold, ago, check, abbey, best\n",
      "0.135, 0.109, 0.101, 0.087, 0.086, 0.072, 0.072, 0.071, 0.071, 0.061, 0.060, 0.060, 0.059, 0.056, 0.056\n",
      "\n",
      "Topic  44\n",
      "covered, time, ore, icy, gold, needs, dwarf, small, cave, society, aroden, smelt, little, rose, spider\n",
      "0.100, 0.096, 0.090, 0.087, 0.086, 0.084, 0.083, 0.080, 0.076, 0.067, 0.067, 0.065, 0.063, 0.063, 0.060\n",
      "\n",
      "Topic  45\n",
      "knowledge, medallion, far, block, stat, point, venture, shala, kavoos, battle, prepare, humanoid, envoy, floor, time\n",
      "0.129, 0.108, 0.089, 0.087, 0.085, 0.080, 0.079, 0.078, 0.077, 0.075, 0.073, 0.072, 0.070, 0.067, 0.067\n",
      "\n",
      "Topic  46\n",
      "point, night, lies, joins, face, das, day, monks, rocks, ore, friends, relief, word, turn, open\n",
      "0.125, 0.090, 0.085, 0.080, 0.077, 0.072, 0.072, 0.072, 0.070, 0.069, 0.068, 0.068, 0.065, 0.063, 0.062\n",
      "\n",
      "Topic  47\n",
      "lost, classroom, deck, break, durn, rope, dealing, ore, round, abbey, caught, evening, finds, following, actively\n",
      "0.132, 0.099, 0.096, 0.088, 0.084, 0.084, 0.080, 0.079, 0.075, 0.075, 0.075, 0.073, 0.073, 0.073, 0.071\n",
      "\n",
      "Topic  48\n",
      "chamber, action, worth, nearby, secret, standard, knowledge, hold, features, ore, column, relief, thrones, stone, fight\n",
      "0.140, 0.108, 0.102, 0.086, 0.080, 0.080, 0.075, 0.073, 0.073, 0.072, 0.069, 0.069, 0.068, 0.068, 0.067\n",
      "\n",
      "Topic  49\n",
      "feet, chamber, crosier, elemental, retrieve, long, trap, series, order, masks, business, giving, discover, flesh, seek\n",
      "0.120, 0.101, 0.095, 0.090, 0.084, 0.081, 0.077, 0.076, 0.074, 0.074, 0.064, 0.061, 0.061, 0.059, 0.059\n",
      "\n",
      "Topic  50\n",
      "point, galduria, small, break, escape, pcs, spider, makes, silva, room, das, travel, watch, graveyard, joins\n",
      "0.146, 0.093, 0.088, 0.075, 0.072, 0.071, 0.069, 0.067, 0.065, 0.064, 0.064, 0.063, 0.060, 0.060, 0.058\n",
      "\n",
      "Topic  51\n",
      "forest, clearing, walkway, das, scepter, lurkwood, venture, convince, told, making, fake, suspicious, night, fragments, make\n",
      "0.111, 0.092, 0.090, 0.082, 0.075, 0.073, 0.071, 0.071, 0.069, 0.067, 0.066, 0.064, 0.063, 0.062, 0.062\n",
      "\n",
      "Topic  52\n",
      "runelord, sheila, attempts, ready, clearing, comes, run, squares, platform, voice, forest, begin, lurkwood, man, wounds\n",
      "0.096, 0.092, 0.088, 0.084, 0.082, 0.082, 0.079, 0.078, 0.078, 0.077, 0.076, 0.075, 0.074, 0.072, 0.070\n",
      "\n",
      "Topic  53\n",
      "ore, feet, good, runelord, perception, know, pile, farm, smelt, sandpoint, dc, produce, ball, academae, remain\n",
      "0.109, 0.087, 0.076, 0.074, 0.073, 0.069, 0.069, 0.069, 0.068, 0.067, 0.067, 0.066, 0.065, 0.064, 0.063\n",
      "\n",
      "Topic  54\n",
      "elemental, outfit, throne, professor, cavern, journey, notice, attack, making, undead, duso, lost, area, uneventful, society\n",
      "0.113, 0.110, 0.078, 0.077, 0.074, 0.073, 0.071, 0.067, 0.067, 0.067, 0.065, 0.064, 0.063, 0.060, 0.059\n",
      "\n",
      "Topic  55\n",
      "small, need, turn, prints, plaza, orcs, information, foot, inn, goblins, rusty, eyes, outfit, chamber, does\n",
      "0.114, 0.100, 0.088, 0.087, 0.085, 0.077, 0.075, 0.074, 0.073, 0.069, 0.068, 0.068, 0.067, 0.066, 0.066\n",
      "\n",
      "Topic  56\n",
      "headband, aldemar, saving, hold, island, cavern, throws, rope, rolls, knowledge, set, like, table, hand, attack\n",
      "0.113, 0.096, 0.084, 0.080, 0.079, 0.076, 0.075, 0.073, 0.071, 0.068, 0.066, 0.064, 0.063, 0.059, 0.059\n",
      "\n",
      "Topic  57\n",
      "point, envoy, gold, head, character, ago, sheila, candle, high, montrovale, night, assist, defend, prints, hit\n",
      "0.118, 0.099, 0.093, 0.091, 0.082, 0.080, 0.073, 0.073, 0.071, 0.071, 0.070, 0.066, 0.064, 0.063, 0.061\n",
      "\n",
      "Topic  58\n",
      "group, young, knowledge, ago, gets, elemental, kavoos, thugs, relief, prints, attempts, known, montrovale, return, north\n",
      "0.093, 0.092, 0.090, 0.090, 0.080, 0.074, 0.072, 0.071, 0.070, 0.068, 0.066, 0.066, 0.061, 0.059, 0.058\n",
      "\n",
      "Topic  59\n",
      "pavlina, chamber, area, tour, armor, tavern, bonus, squares, galduria, makes, extra, bottle, elemental, wagon, secret\n",
      "0.091, 0.089, 0.083, 0.079, 0.078, 0.076, 0.074, 0.073, 0.072, 0.071, 0.069, 0.066, 0.066, 0.063, 0.058\n",
      "\n",
      "Topic  60\n",
      "desna, treasure, sandpoint, rivalries, spellbook, coast, road, trap, corpse, instructor, trip, windsong, decided, trail, floor\n",
      "0.077, 0.073, 0.072, 0.068, 0.067, 0.066, 0.066, 0.065, 0.063, 0.060, 0.060, 0.057, 0.057, 0.056, 0.056\n",
      "\n",
      "Topic  61\n",
      "crypt, sarcophagus, beacon, black, contents, wagon, candle, drunken, action, went, scene, journey, sigils, platform, ship\n",
      "0.086, 0.081, 0.070, 0.069, 0.069, 0.068, 0.067, 0.064, 0.063, 0.062, 0.058, 0.058, 0.057, 0.056, 0.056\n",
      "\n",
      "Topic  62\n",
      "small, spell, dc, enter, nearby, takes, like, dressed, family, turns, empties, mausoleum, werewolves, wererat, belt\n",
      "0.119, 0.089, 0.080, 0.076, 0.076, 0.068, 0.068, 0.067, 0.066, 0.066, 0.065, 0.063, 0.062, 0.059, 0.059\n",
      "\n",
      "Topic  63\n",
      "face, rose, waterfall, dressed, ball, aroden, headband, group, lost, arrive, scepter, table, deck, nearby, day\n",
      "0.087, 0.080, 0.075, 0.070, 0.069, 0.066, 0.066, 0.064, 0.064, 0.063, 0.062, 0.060, 0.060, 0.060, 0.059\n",
      "\n",
      "Topic  64\n",
      "outfit, journey, monks, head, classroom, table, ring, little, high, feet, disable, retrieve, fight, kendra, hour\n",
      "0.098, 0.082, 0.079, 0.079, 0.078, 0.072, 0.068, 0.067, 0.064, 0.064, 0.061, 0.059, 0.057, 0.056, 0.056\n",
      "\n",
      "Topic  65\n",
      "forest, academae, korvosa, tavern, patch, lurkwood, quickly, points, stand, outside, incident, professor, used, table, trap\n",
      "0.100, 0.088, 0.087, 0.084, 0.077, 0.074, 0.071, 0.069, 0.068, 0.068, 0.067, 0.065, 0.065, 0.059, 0.059\n",
      "\n",
      "Topic  66\n",
      "table, chamber, plaza, point, head, ruins, long, information, small, convince, area, try, watch, lost, man\n",
      "0.107, 0.091, 0.084, 0.077, 0.065, 0.063, 0.063, 0.063, 0.062, 0.061, 0.061, 0.061, 0.060, 0.059, 0.059\n",
      "\n",
      "Topic  67\n",
      "immediately, table, making, codex, professor, joins, chamber, extra, told, lot, going, risk, drunken, false, greater\n",
      "0.083, 0.077, 0.073, 0.070, 0.070, 0.069, 0.069, 0.067, 0.065, 0.064, 0.063, 0.062, 0.059, 0.059, 0.059\n",
      "\n",
      "Topic  68\n",
      "man, headband, brief, monks, surprise, river, giving, runelords, torches, forest, shabana, market, throws, journey, light\n",
      "0.075, 0.072, 0.072, 0.070, 0.068, 0.068, 0.067, 0.066, 0.065, 0.065, 0.065, 0.064, 0.064, 0.063, 0.063\n",
      "\n",
      "Topic  69\n",
      "make, rope, deck, word, points, action, standard, lost, weapon, runelord, spellbook, spells, galduria, command, werewolves\n",
      "0.099, 0.093, 0.086, 0.085, 0.081, 0.071, 0.069, 0.066, 0.065, 0.065, 0.065, 0.063, 0.062, 0.061, 0.060\n",
      "\n",
      "Topic  70\n",
      "wererat, old, patch, swarm, quickly, used, points, rats, wall, treasure, minotaur, stone, tour, celebrate, ring\n",
      "0.129, 0.086, 0.081, 0.080, 0.078, 0.076, 0.075, 0.071, 0.070, 0.070, 0.066, 0.065, 0.063, 0.062, 0.060\n",
      "\n",
      "Topic  71\n",
      "belt, fight, tunnel, masks, different, creature, sandpoint, giant, immediately, walls, threat, mask, select, hit, little\n",
      "0.128, 0.097, 0.078, 0.078, 0.074, 0.072, 0.069, 0.067, 0.066, 0.066, 0.065, 0.064, 0.062, 0.061, 0.060\n",
      "\n",
      "Topic  72\n",
      "chamber, pavlina, left, dc, used, rivalries, stat, swarm, cave, near, immediately, kill, secret, coming, killed\n",
      "0.116, 0.086, 0.084, 0.082, 0.078, 0.076, 0.074, 0.071, 0.071, 0.069, 0.066, 0.064, 0.062, 0.060, 0.060\n",
      "\n",
      "Topic  73\n",
      "recently, rivalries, convince, elemental, dragon, acadamae, hours, illusion, rusty, looks, farm, used, instructor, inn, belt\n",
      "0.108, 0.094, 0.087, 0.079, 0.079, 0.074, 0.074, 0.073, 0.070, 0.070, 0.070, 0.068, 0.068, 0.067, 0.065\n",
      "\n",
      "Topic  74\n",
      "great, stone, feet, charges, envoy, celebrate, bone, monsters, thrones, ranged, rails, cart, ground, powerful, coins\n",
      "0.098, 0.088, 0.084, 0.083, 0.072, 0.069, 0.064, 0.064, 0.064, 0.061, 0.060, 0.060, 0.060, 0.059, 0.059\n",
      "\n",
      "Topic  75\n",
      "pirate, mask, man, fear, tunnel, gp, begins, corner, long, montrovale, pavlina, horde, turns, cave, called\n",
      "0.093, 0.086, 0.083, 0.081, 0.070, 0.069, 0.067, 0.067, 0.066, 0.066, 0.065, 0.065, 0.065, 0.061, 0.061\n",
      "\n",
      "Topic  76\n",
      "feet, small, scepter, return, time, area, outside, outfit, pit, column, stops, rest, ancient, try, falls\n",
      "0.098, 0.084, 0.081, 0.076, 0.073, 0.073, 0.070, 0.070, 0.068, 0.067, 0.066, 0.064, 0.064, 0.063, 0.062\n",
      "\n",
      "Topic  77\n",
      "ring, upward, slope, soot, drunken, lost, blackened, square, movement, durn, spell, went, wererat, year, acrobatics\n",
      "0.109, 0.101, 0.080, 0.080, 0.074, 0.073, 0.071, 0.066, 0.063, 0.063, 0.063, 0.062, 0.061, 0.061, 0.061\n",
      "\n",
      "Topic  78\n",
      "way, work, point, offering, chamber, demos, prints, went, increases, safe, north, fort, group, penalty, room\n",
      "0.110, 0.096, 0.079, 0.074, 0.074, 0.069, 0.068, 0.068, 0.068, 0.066, 0.064, 0.063, 0.062, 0.060, 0.060\n",
      "\n",
      "Topic  79\n",
      "gp, forest, durn, deck, pile, rope, galduria, chamber, second, outfit, caught, living, yordan, clearing, named\n",
      "0.097, 0.094, 0.087, 0.085, 0.078, 0.072, 0.071, 0.070, 0.070, 0.069, 0.065, 0.064, 0.063, 0.062, 0.057\n",
      "\n",
      "Topic  80\n",
      "sandpoint, attack, home, talk, second, deck, informs, characters, bonus, actively, convince, sunrise, lit, sailor, stealth\n",
      "0.079, 0.079, 0.079, 0.078, 0.077, 0.076, 0.074, 0.070, 0.069, 0.066, 0.065, 0.065, 0.064, 0.062, 0.061\n",
      "\n",
      "Topic  81\n",
      "false, flame, guests, durn, ore, ship, decided, common, flesh, montrovale, escape, broken, needs, twilight, points\n",
      "0.084, 0.078, 0.078, 0.074, 0.068, 0.068, 0.067, 0.065, 0.064, 0.063, 0.062, 0.060, 0.060, 0.055, 0.055\n",
      "\n",
      "Topic  82\n",
      "mask, flesh, word, safe, treasure, end, taking, damage, coins, tells, encounter, setting, lords, ladies, nearly\n",
      "0.085, 0.073, 0.073, 0.072, 0.069, 0.068, 0.068, 0.067, 0.067, 0.063, 0.063, 0.063, 0.059, 0.059, 0.058\n",
      "\n",
      "Topic  83\n",
      "floor, local, lies, quickly, classroom, wagon, rubble, drunken, spider, went, ship, attack, discovered, covered, rocks\n",
      "0.094, 0.087, 0.081, 0.076, 0.075, 0.072, 0.067, 0.066, 0.060, 0.060, 0.057, 0.057, 0.055, 0.054, 0.053\n",
      "\n",
      "Topic  84\n",
      "thrones, begins, slow, damage, extra, prints, carvings, common, underneath, places, mother, secure, table, trying, servant\n",
      "0.090, 0.083, 0.074, 0.072, 0.069, 0.068, 0.068, 0.063, 0.062, 0.062, 0.059, 0.057, 0.056, 0.056, 0.054\n",
      "\n",
      "Topic  85\n",
      "headband, fear, belt, attacks, pirate, evil, make, platform, swarm, horde, crimson, maw, rope, mimic, powers\n",
      "0.127, 0.118, 0.092, 0.085, 0.084, 0.084, 0.083, 0.082, 0.081, 0.079, 0.078, 0.076, 0.075, 0.070, 0.067\n",
      "\n",
      "Topic  86\n",
      "family, nirodin, kaddren, mimic, man, immediately, cloth, cave, pedestal, revive, open, site, easy, smells, ties\n",
      "0.113, 0.091, 0.087, 0.079, 0.076, 0.072, 0.069, 0.061, 0.058, 0.058, 0.058, 0.057, 0.055, 0.055, 0.054\n",
      "\n",
      "Topic  87\n",
      "word, command, covered, allow, life, refuse, wagon, knowledge, change, treasure, actively, runelords, magic, star, stops\n",
      "0.081, 0.081, 0.070, 0.070, 0.066, 0.057, 0.057, 0.056, 0.055, 0.055, 0.054, 0.054, 0.053, 0.053, 0.053\n",
      "\n",
      "Topic  88\n",
      "werewolves, thrones, open, ore, making, help, durn, used, called, carvings, rivalries, recently, flesh, prints, return\n",
      "0.081, 0.076, 0.075, 0.072, 0.072, 0.070, 0.068, 0.067, 0.066, 0.061, 0.058, 0.058, 0.057, 0.057, 0.056\n",
      "\n",
      "Topic  89\n",
      "headband, hold, rowboat, stealth, coins, notice, krzysztof, lost, sandpoint, skill, climb, attack, dwarf, tour, trying\n",
      "0.093, 0.075, 0.074, 0.071, 0.071, 0.070, 0.070, 0.068, 0.065, 0.062, 0.062, 0.061, 0.059, 0.058, 0.056\n",
      "\n",
      "Topic  90\n",
      "covered, ore, pc, family, table, varisian, characters, broken, lurkwood, forest, extra, durn, places, allows, cemetery\n",
      "0.090, 0.087, 0.084, 0.076, 0.074, 0.073, 0.068, 0.068, 0.068, 0.066, 0.066, 0.065, 0.065, 0.062, 0.062\n",
      "\n",
      "Topic  91\n",
      "dies, abbey, rivalries, instructor, feet, encounter, house, safe, begins, run, decided, mena, charges, demands, tour\n",
      "0.084, 0.084, 0.075, 0.068, 0.068, 0.063, 0.059, 0.057, 0.057, 0.057, 0.054, 0.053, 0.052, 0.051, 0.050\n",
      "\n",
      "Topic  92\n",
      "flesh, quickly, corpses, recover, local, goblins, taken, bonus, graveyard, class, stone, engage, scepter, man, residence\n",
      "0.097, 0.072, 0.072, 0.068, 0.065, 0.063, 0.062, 0.060, 0.059, 0.057, 0.055, 0.055, 0.055, 0.053, 0.052\n",
      "\n",
      "Topic  93\n",
      "wererat, ring, galduria, rats, journey, treasure, shala, minotaur, ceiling, check, cast, kiss, montrovale, young, abbey\n",
      "0.120, 0.106, 0.100, 0.081, 0.075, 0.075, 0.071, 0.070, 0.069, 0.064, 0.062, 0.060, 0.059, 0.058, 0.057\n",
      "\n",
      "Topic  94\n",
      "area, varisian, covered, streets, wererat, bottle, knowledge, city, monks, cast, open, falls, draw, rats, save\n",
      "0.084, 0.079, 0.075, 0.067, 0.062, 0.061, 0.060, 0.059, 0.059, 0.057, 0.057, 0.055, 0.054, 0.054, 0.054\n",
      "\n",
      "Topic  95\n",
      "belt, looks, like, headband, strength, powers, potions, table, inside, site, notice, ruins, items, desk, slow\n",
      "0.153, 0.096, 0.087, 0.077, 0.076, 0.072, 0.068, 0.064, 0.063, 0.062, 0.059, 0.057, 0.056, 0.056, 0.056\n",
      "\n",
      "Topic  96\n",
      "stealthy, man, site, goblins, horde, maw, masks, traversing, named, places, immediately, rusty, laughter, talking, gold\n",
      "0.073, 0.073, 0.069, 0.064, 0.064, 0.062, 0.060, 0.059, 0.058, 0.057, 0.057, 0.057, 0.055, 0.054, 0.053\n",
      "\n",
      "Topic  97\n",
      "rope, headband, hold, stat, map, gets, long, ceiling, light, hand, higher, tunnel, free, fond, normal\n",
      "0.108, 0.106, 0.099, 0.087, 0.082, 0.078, 0.068, 0.068, 0.067, 0.061, 0.061, 0.059, 0.059, 0.057, 0.057\n",
      "\n",
      "Topic  98\n",
      "armor, weapons, werewolves, normal, curse, bonus, galduria, smelt, waterfall, class, taking, threat, wide, points, house\n",
      "0.088, 0.083, 0.073, 0.067, 0.066, 0.066, 0.065, 0.063, 0.062, 0.062, 0.061, 0.057, 0.056, 0.056, 0.055\n",
      "\n",
      "Topic  99\n",
      "runelords, flame, face, hiding, run, belt, brief, secure, lycanthropes, cave, threat, das, professor, makes, dangers\n",
      "0.103, 0.073, 0.072, 0.071, 0.065, 0.064, 0.064, 0.062, 0.061, 0.061, 0.061, 0.061, 0.060, 0.058, 0.058\n",
      "\n",
      "Topic  100\n",
      "action, acadamae, cleric, high, books, work, ore, west, crosier, rivalries, standard, north, wounds, stone, good\n",
      "0.076, 0.073, 0.071, 0.069, 0.069, 0.068, 0.067, 0.063, 0.063, 0.060, 0.059, 0.058, 0.056, 0.055, 0.055\n",
      "\n",
      "Topic  101\n",
      "defeat, belt, escape, attempt, creature, dwarf, caused, pass, goblins, cave, skeletons, adhesive, climb, montrovale, servant\n",
      "0.081, 0.081, 0.070, 0.067, 0.067, 0.065, 0.064, 0.060, 0.057, 0.057, 0.057, 0.057, 0.056, 0.054, 0.051\n",
      "\n",
      "Topic  102\n",
      "use, states, old, long, day, near, spiders, family, town, threat, journey, dense, fact, entry, records\n",
      "0.084, 0.081, 0.078, 0.077, 0.076, 0.073, 0.068, 0.061, 0.060, 0.060, 0.059, 0.058, 0.057, 0.056, 0.055\n",
      "\n",
      "Topic  103\n",
      "climb, regarding, attacks, ask, alive, tunnel, following, kaddren, allow, hold, pay, family, robes, coated, gray\n",
      "0.089, 0.074, 0.070, 0.070, 0.066, 0.064, 0.059, 0.059, 0.058, 0.058, 0.057, 0.055, 0.054, 0.054, 0.054\n",
      "\n",
      "Topic  104\n",
      "dressed, hand, direction, savasha, local, point, journey, looks, slow, taking, headband, known, hour, stat, emerges\n",
      "0.085, 0.071, 0.067, 0.066, 0.064, 0.064, 0.063, 0.062, 0.061, 0.061, 0.060, 0.059, 0.058, 0.057, 0.057\n",
      "\n",
      "Topic  105\n",
      "mask, looks, assist, point, surprised, long, soot, explore, gems, gold, barn, pirate, torches, growing, increasingly\n",
      "0.074, 0.073, 0.073, 0.073, 0.072, 0.071, 0.066, 0.065, 0.065, 0.065, 0.063, 0.063, 0.063, 0.060, 0.060\n",
      "\n",
      "Topic  106\n",
      "minions, ghoul, cave, hungry, use, columns, giving, end, surprised, spell, travellers, expression, relaxes, insane, healing\n",
      "0.100, 0.099, 0.084, 0.081, 0.081, 0.072, 0.070, 0.063, 0.060, 0.058, 0.058, 0.057, 0.057, 0.056, 0.056\n",
      "\n",
      "Topic  107\n",
      "yordan, told, way, monks, lies, head, light, problem, evening, does, time, illusion, getting, monastery, start\n",
      "0.086, 0.080, 0.075, 0.072, 0.066, 0.060, 0.059, 0.059, 0.058, 0.058, 0.057, 0.053, 0.052, 0.051, 0.049\n",
      "\n",
      "Topic  108\n",
      "savasha, voice, dwarf, runelord, monsters, azlanti, cemetery, cloth, managed, talk, places, falls, taking, return, run\n",
      "0.079, 0.078, 0.076, 0.068, 0.063, 0.063, 0.062, 0.060, 0.060, 0.060, 0.059, 0.059, 0.057, 0.057, 0.056\n",
      "\n",
      "Topic  109\n",
      "outfit, stone, flame, long, table, follows, werewolves, men, page, rising, near, ring, cavern, treasure, sea\n",
      "0.094, 0.072, 0.072, 0.063, 0.060, 0.060, 0.058, 0.055, 0.055, 0.053, 0.053, 0.053, 0.051, 0.051, 0.051\n",
      "\n",
      "Topic  110\n",
      "acadamae, know, offering, great, werewolves, alive, just, attempt, high, wererat, ready, rivalries, friends, device, fight\n",
      "0.078, 0.068, 0.060, 0.059, 0.059, 0.058, 0.057, 0.056, 0.055, 0.055, 0.052, 0.051, 0.051, 0.050, 0.049\n",
      "\n",
      "Topic  111\n",
      "extra, durn, places, face, monster, mena, attempt, leads, food, points, old, encounter, rest, discover, savasha\n",
      "0.089, 0.085, 0.072, 0.067, 0.067, 0.063, 0.063, 0.062, 0.060, 0.056, 0.056, 0.056, 0.056, 0.054, 0.054\n",
      "\n",
      "Topic  112\n",
      "enter, time, galduria, threat, rocks, charges, efforts, guises, stat, diplomacy, outfit, savasha, pay, block, wants\n",
      "0.076, 0.074, 0.072, 0.072, 0.065, 0.062, 0.058, 0.058, 0.057, 0.057, 0.057, 0.054, 0.053, 0.053, 0.052\n",
      "\n",
      "Topic  113\n",
      "belt, checks, webs, know, half, guises, inside, artist, beggar, craftsman, scholar, soldier, tailor, long, werewolves\n",
      "0.093, 0.093, 0.071, 0.071, 0.069, 0.068, 0.064, 0.063, 0.063, 0.062, 0.062, 0.061, 0.060, 0.059, 0.058\n",
      "\n",
      "Topic  114\n",
      "climb, little, pcs, goblin, needs, dc, ore, evil, floor, away, prepare, swarm, tries, fear, time\n",
      "0.111, 0.089, 0.081, 0.075, 0.069, 0.068, 0.066, 0.062, 0.062, 0.061, 0.060, 0.059, 0.057, 0.056, 0.055\n",
      "\n",
      "Topic  115\n",
      "academy, cave, bonus, led, group, read, eye, armor, stand, twilight, studies, unorthodox, necromancers, outside, classroom\n",
      "0.080, 0.072, 0.069, 0.068, 0.068, 0.065, 0.064, 0.062, 0.060, 0.059, 0.059, 0.058, 0.056, 0.056, 0.055\n",
      "\n",
      "Topic  116\n",
      "know, climb, mimic, windsong, corpse, tribe, winner, turn, spell, werewolf, stealthy, belt, werewolves, gets, scraps\n",
      "0.094, 0.093, 0.077, 0.072, 0.070, 0.069, 0.068, 0.062, 0.061, 0.060, 0.059, 0.058, 0.056, 0.056, 0.055\n",
      "\n",
      "Topic  117\n",
      "ran, prepare, werewolf, headband, mother, relief, know, barn, direction, penalty, showing, expected, durn, underway, time\n",
      "0.084, 0.074, 0.068, 0.067, 0.066, 0.065, 0.064, 0.063, 0.062, 0.060, 0.060, 0.059, 0.059, 0.058, 0.057\n",
      "\n",
      "Topic  118\n",
      "joachim, spell, smithy, relief, business, informs, skill, medallion, known, hidden, foul, tell, investigate, cast, chest\n",
      "0.084, 0.079, 0.075, 0.073, 0.070, 0.069, 0.065, 0.064, 0.064, 0.063, 0.063, 0.062, 0.061, 0.057, 0.056\n",
      "\n",
      "Topic  119\n",
      "spells, bonus, abbey, true, room, cave, enter, know, giving, meal, dwarf, table, skeletons, pass, like\n",
      "0.076, 0.075, 0.069, 0.068, 0.063, 0.063, 0.061, 0.058, 0.057, 0.056, 0.056, 0.055, 0.054, 0.053, 0.053\n",
      "\n",
      "Topic  120\n",
      "open, monsters, stat, south, mask, creatures, humanoid, elegant, leading, emerges, tankard, fight, ship, disappears, map\n",
      "0.083, 0.082, 0.080, 0.069, 0.067, 0.064, 0.062, 0.061, 0.058, 0.057, 0.056, 0.055, 0.055, 0.055, 0.054\n",
      "\n",
      "Topic  121\n",
      "revive, azlanti, perception, tell, day, rouse, monks, mena, weapon, pet, elegant, distress, joachim, zanthus, father\n",
      "0.062, 0.062, 0.062, 0.061, 0.061, 0.059, 0.059, 0.059, 0.059, 0.057, 0.056, 0.056, 0.055, 0.053, 0.053\n",
      "\n",
      "Topic  122\n",
      "dies, attack, form, hour, deverin, set, lord, dwarf, place, ball, left, travelers, blood, immediately, shelter\n",
      "0.087, 0.085, 0.080, 0.076, 0.068, 0.067, 0.067, 0.066, 0.065, 0.062, 0.058, 0.057, 0.057, 0.056, 0.056\n",
      "\n",
      "Topic  123\n",
      "dies, platform, stat, giving, academy, way, winner, columns, cemetery, make, journey, coins, finish, instead, bottle\n",
      "0.084, 0.081, 0.078, 0.076, 0.068, 0.068, 0.067, 0.066, 0.065, 0.064, 0.063, 0.060, 0.056, 0.054, 0.053\n",
      "\n",
      "Topic  124\n",
      "instead, snow, needs, flame, area, small, let, dwarf, puff, smoke, knowledge, gold, dull, leaves, dropped\n",
      "0.090, 0.084, 0.075, 0.074, 0.072, 0.067, 0.065, 0.064, 0.062, 0.061, 0.059, 0.058, 0.057, 0.057, 0.057\n",
      "\n",
      "Topic  125\n",
      "time, knowledge, finds, religion, near, mask, suddenly, smithy, burning, pit, ship, acadamae, noble, broken, compass\n",
      "0.074, 0.072, 0.067, 0.065, 0.063, 0.062, 0.060, 0.060, 0.060, 0.057, 0.056, 0.056, 0.055, 0.054, 0.054\n",
      "\n",
      "Topic  126\n",
      "set, fort, speak, ranged, slope, evening, downtrodden, inhabitants, return, poor, sounds, voice, wailing, town, shuffling\n",
      "0.080, 0.075, 0.074, 0.069, 0.062, 0.061, 0.061, 0.061, 0.060, 0.060, 0.059, 0.058, 0.058, 0.057, 0.056\n",
      "\n",
      "Topic  127\n",
      "werewolves, minions, ghoul, influence, weapon, unveiling, insane, works, versade, walking, time, remains, hidden, allows, start\n",
      "0.073, 0.072, 0.072, 0.069, 0.067, 0.065, 0.064, 0.063, 0.061, 0.058, 0.058, 0.056, 0.054, 0.054, 0.054\n",
      "\n",
      "Topic  128\n",
      "extra, outside, adventurers, thank, nearby, durn, floor, tavern, making, setting, higher, takes, featureless, books, space\n",
      "0.089, 0.087, 0.063, 0.063, 0.062, 0.062, 0.061, 0.061, 0.060, 0.059, 0.057, 0.057, 0.056, 0.055, 0.055\n",
      "\n",
      "Topic  129\n",
      "cold, spellbook, yellow, takes, evil, approach, fear, prepare, information, remove, lord, private, escape, floor, disappointed\n",
      "0.081, 0.075, 0.072, 0.068, 0.067, 0.066, 0.063, 0.061, 0.059, 0.059, 0.058, 0.058, 0.058, 0.057, 0.055\n",
      "\n",
      "Topic  130\n",
      "ring, cleric, making, grald, attempt, quickly, lizardfolk, skeletons, act, azlanti, golden, attack, durn, ranged, rats\n",
      "0.077, 0.075, 0.065, 0.065, 0.065, 0.062, 0.059, 0.059, 0.059, 0.058, 0.057, 0.057, 0.056, 0.055, 0.054\n",
      "\n",
      "Topic  131\n",
      "allow, attempt, recently, leads, salmore, perception, succeed, street, flee, plaza, western, notice, spell, sailors, magical\n",
      "0.075, 0.070, 0.069, 0.065, 0.064, 0.064, 0.061, 0.059, 0.056, 0.055, 0.054, 0.053, 0.051, 0.051, 0.050\n",
      "\n",
      "Topic  132\n",
      "combat, chest, handbook, page, command, flame, word, using, road, set, sarcophagus, kill, spellbook, forest, coast\n",
      "0.079, 0.078, 0.074, 0.073, 0.069, 0.067, 0.065, 0.065, 0.064, 0.064, 0.062, 0.059, 0.057, 0.054, 0.054\n",
      "\n",
      "Topic  133\n",
      "exchange, finds, book, books, ransom, prisoner, situation, tough, relief, form, lay, enjoys, led, arms, personally\n",
      "0.078, 0.070, 0.066, 0.064, 0.063, 0.062, 0.062, 0.062, 0.060, 0.060, 0.058, 0.058, 0.058, 0.057, 0.057\n",
      "\n",
      "Topic  134\n",
      "guises, spell, know, broken, flesh, character, artist, safety, exchange, beggar, south, craftsman, disable, attempts, freshly\n",
      "0.090, 0.090, 0.073, 0.070, 0.070, 0.068, 0.064, 0.064, 0.063, 0.062, 0.061, 0.060, 0.060, 0.057, 0.056\n",
      "\n",
      "Topic  135\n",
      "end, times, lost, fortitude, following, traveling, throne, left, tankard, drink, need, man, higher, raised, result\n",
      "0.094, 0.081, 0.076, 0.068, 0.068, 0.064, 0.064, 0.062, 0.062, 0.060, 0.060, 0.059, 0.059, 0.058, 0.057\n",
      "\n",
      "Topic  136\n",
      "sailor, treasure, waterfall, featureless, failed, ambush, rolls, yellow, races, ready, rounds, hut, flesh, crowd, instead\n",
      "0.099, 0.071, 0.071, 0.071, 0.071, 0.068, 0.067, 0.067, 0.064, 0.064, 0.063, 0.062, 0.059, 0.059, 0.059\n",
      "\n",
      "Topic  137\n",
      "quickly, check, damage, graveyard, wererat, candle, ending, pleased, losing, hearty, reward, higher, apart, offering, result\n",
      "0.086, 0.078, 0.065, 0.064, 0.063, 0.063, 0.061, 0.061, 0.061, 0.060, 0.058, 0.056, 0.055, 0.054, 0.052\n",
      "\n",
      "Topic  138\n",
      "coins, krzysztof, character, months, outfit, moon, finds, spellbook, try, characters, rises, ring, spell, gets, trap\n",
      "0.088, 0.078, 0.074, 0.067, 0.065, 0.065, 0.064, 0.063, 0.062, 0.060, 0.060, 0.059, 0.056, 0.054, 0.054\n",
      "\n",
      "Topic  139\n",
      "belt, throne, featureless, tell, monster, home, deck, cleric, smelt, evil, weapon, gold, stabs, arms, better\n",
      "0.082, 0.076, 0.075, 0.066, 0.063, 0.058, 0.058, 0.057, 0.055, 0.055, 0.053, 0.053, 0.051, 0.051, 0.051\n",
      "\n",
      "Topic  140\n",
      "higher, traveling, goblins, magical, broken, studying, defeat, way, instructor, stole, penalty, blackened, instead, webbing, table\n",
      "0.094, 0.065, 0.064, 0.062, 0.061, 0.061, 0.061, 0.060, 0.060, 0.057, 0.055, 0.055, 0.055, 0.055, 0.054\n",
      "\n",
      "Topic  141\n",
      "result, make, abbey, treasure, points, diplomacy, information, bonus, squares, smoke, area, puff, air, rocks, man\n",
      "0.090, 0.083, 0.079, 0.078, 0.074, 0.069, 0.064, 0.064, 0.064, 0.061, 0.061, 0.061, 0.059, 0.058, 0.057\n",
      "\n",
      "Topic  142\n",
      "character, old, way, left, form, pc, stand, instructor, note, burning, notice, named, trip, kavoos, quick\n",
      "0.107, 0.093, 0.086, 0.077, 0.067, 0.065, 0.064, 0.061, 0.060, 0.059, 0.058, 0.056, 0.055, 0.055, 0.054\n",
      "\n",
      "Topic  143\n",
      "clearing, threat, states, monks, map, silver, entry, moving, records, uncovers, subtract, leave, lords, winner, church\n",
      "0.080, 0.066, 0.061, 0.061, 0.060, 0.060, 0.058, 0.058, 0.057, 0.055, 0.055, 0.055, 0.055, 0.055, 0.054\n",
      "\n",
      "Topic  144\n",
      "close, succeed, far, skill, belt, hear, magnimar, awaiting, injuries, rebuke, channel, wakes, unveiling, adventures, heroic\n",
      "0.069, 0.066, 0.064, 0.061, 0.060, 0.059, 0.059, 0.059, 0.057, 0.057, 0.057, 0.055, 0.054, 0.054, 0.053\n",
      "\n",
      "Topic  145\n",
      "peace, zamola, village, lets, slightly, fake, yellow, clues, save, insane, sits, sigh, battle, relaxes, expecting\n",
      "0.075, 0.069, 0.069, 0.067, 0.066, 0.064, 0.064, 0.063, 0.062, 0.061, 0.061, 0.060, 0.060, 0.058, 0.057\n",
      "\n",
      "Topic  146\n",
      "high, treasure, just, granted, yellow, failed, important, winner, discovered, praises, visit, save, words, ceiling, outfit\n",
      "0.084, 0.084, 0.077, 0.074, 0.066, 0.063, 0.063, 0.062, 0.060, 0.060, 0.059, 0.057, 0.057, 0.056, 0.055\n",
      "\n",
      "Topic  147\n",
      "feet, free, scepter, trap, aquarium, spell, lizardfolk, takes, krzysztof, giving, underway, try, set, webs, new\n",
      "0.076, 0.070, 0.070, 0.068, 0.063, 0.061, 0.061, 0.060, 0.057, 0.057, 0.057, 0.053, 0.052, 0.051, 0.051\n",
      "\n",
      "Topic  148\n",
      "clues, broken, later, arrive, monsters, durn, trap, coin, society, quickly, hanging, group, recover, home, caught\n",
      "0.072, 0.071, 0.070, 0.070, 0.068, 0.067, 0.067, 0.062, 0.062, 0.060, 0.058, 0.057, 0.055, 0.055, 0.053\n",
      "\n",
      "Topic  149\n",
      "stat, salmore, winner, rival, worry, turns, learned, ancient, duplicity, sought, town, lies, true, rocks, close\n",
      "0.081, 0.079, 0.067, 0.064, 0.064, 0.064, 0.064, 0.063, 0.062, 0.061, 0.059, 0.056, 0.055, 0.054, 0.053\n",
      "\n",
      "Topic  150\n",
      "illusion, demands, chest, cave, ready, setting, come, did, runelords, leads, successful, managed, platform, started, glories\n",
      "0.105, 0.078, 0.076, 0.075, 0.074, 0.062, 0.060, 0.059, 0.059, 0.059, 0.059, 0.058, 0.058, 0.057, 0.056\n",
      "\n",
      "Topic  151\n",
      "character, slime, book, missing, discovered, just, choke, viscous, algae, shipmates, puff, galduria, assembled, allow, using\n",
      "0.072, 0.069, 0.069, 0.068, 0.066, 0.064, 0.063, 0.063, 0.063, 0.061, 0.059, 0.058, 0.058, 0.058, 0.058\n",
      "\n",
      "Topic  152\n",
      "guests, pedestal, illusion, heroic, tales, hear, adventures, fascinated, underway, close, unabashedly, squares, magnimar, learn, ladies\n",
      "0.089, 0.083, 0.078, 0.072, 0.070, 0.066, 0.066, 0.065, 0.065, 0.065, 0.063, 0.063, 0.060, 0.058, 0.057\n",
      "\n",
      "Topic  153\n",
      "coin, looking, does, spellbook, toughens, amulet, iron, know, farmers, sandpoint, remove, rocks, value, korvosa, trap\n",
      "0.081, 0.070, 0.069, 0.069, 0.064, 0.064, 0.064, 0.062, 0.062, 0.060, 0.059, 0.059, 0.059, 0.058, 0.058\n",
      "\n",
      "Topic  154\n",
      "belt, goblin, wears, skill, hit, area, stuck, slope, outside, winner, coin, effect, minute, increases, checks\n",
      "0.078, 0.073, 0.071, 0.068, 0.067, 0.064, 0.060, 0.060, 0.058, 0.053, 0.053, 0.053, 0.053, 0.052, 0.052\n",
      "\n",
      "Topic  155\n",
      "days, house, coin, farm, hanging, mask, headband, galduria, living, winner, marked, true, successful, joachim, giving\n",
      "0.082, 0.073, 0.072, 0.071, 0.068, 0.063, 0.063, 0.061, 0.060, 0.059, 0.059, 0.057, 0.056, 0.054, 0.054\n",
      "\n",
      "Topic  156\n",
      "met, sending, belt, plaza, monastery, trap, emerges, coins, winner, important, fight, shallow, lump, nursing, profusely\n",
      "0.083, 0.079, 0.079, 0.073, 0.072, 0.068, 0.065, 0.065, 0.064, 0.063, 0.063, 0.062, 0.060, 0.060, 0.060\n",
      "\n",
      "Topic  157\n",
      "runelords, checks, near, spells, opened, monsters, belt, chest, disguise, attempt, beacon, pimply, goblin, student, taking\n",
      "0.078, 0.073, 0.068, 0.066, 0.065, 0.065, 0.065, 0.064, 0.059, 0.058, 0.058, 0.058, 0.057, 0.057, 0.056\n",
      "\n",
      "Topic  158\n",
      "winner, fort, damage, open, goblin, check, attempting, fond, shipmates, cheered, coins, door, choke, regarding, treasure\n",
      "0.081, 0.075, 0.073, 0.072, 0.062, 0.061, 0.059, 0.056, 0.055, 0.055, 0.055, 0.054, 0.054, 0.053, 0.053\n",
      "\n",
      "Topic  159\n",
      "combat, character, arrive, dwarf, possessions, ancient, hold, waterfall, books, appearance, ambush, attacking, watches, right, acting\n",
      "0.096, 0.074, 0.073, 0.069, 0.067, 0.064, 0.064, 0.062, 0.059, 0.059, 0.059, 0.058, 0.058, 0.058, 0.057\n",
      "\n",
      "Topic  160\n",
      "havoc, eberius, travelers, cave, allowed, korvosa, walls, death, sp, attacked, blood, magic, elemental, handbook, smithy\n",
      "0.067, 0.063, 0.059, 0.058, 0.058, 0.057, 0.056, 0.056, 0.056, 0.056, 0.054, 0.054, 0.054, 0.054, 0.053\n",
      "\n",
      "Topic  161\n",
      "remains, finally, come, treasure, door, damage, confusion, attempt, travel, strongest, embracing, lunges, smithy, cache, outfit\n",
      "0.085, 0.082, 0.081, 0.079, 0.070, 0.068, 0.068, 0.067, 0.067, 0.064, 0.064, 0.063, 0.063, 0.063, 0.062\n",
      "\n",
      "Topic  162\n",
      "way, humanoid, deck, fear, battle, attacked, trying, wish, jump, outfit, prepare, eating, evil, unveiling, dressed\n",
      "0.088, 0.085, 0.071, 0.068, 0.064, 0.061, 0.061, 0.061, 0.060, 0.060, 0.059, 0.055, 0.054, 0.053, 0.052\n",
      "\n",
      "Topic  163\n",
      "battle, uneventful, smelt, ore, best, galduria, area, goblins, tool, high, korvosa, player, treasure, humanoid, face\n",
      "0.084, 0.074, 0.070, 0.069, 0.068, 0.064, 0.063, 0.063, 0.062, 0.062, 0.060, 0.060, 0.059, 0.058, 0.057\n",
      "\n",
      "Topic  164\n",
      "character, finds, question, injuries, states, unconscious, brief, light, body, spends, sent, running, kill, medallion, created\n",
      "0.077, 0.072, 0.070, 0.070, 0.069, 0.067, 0.066, 0.065, 0.063, 0.060, 0.060, 0.059, 0.058, 0.056, 0.056\n",
      "\n",
      "Topic  165\n",
      "break, quickly, wall, granted, walking, room, skill, feet, making, talk, months, form, crowds, servant, dealing\n",
      "0.083, 0.071, 0.066, 0.064, 0.061, 0.061, 0.061, 0.060, 0.059, 0.057, 0.055, 0.054, 0.053, 0.051, 0.051\n",
      "\n",
      "Topic  166\n",
      "ask, waits, dwarf, moving, learn, approach, fear, wounds, korvosa, difficult, regarding, lost, knew, quickly, lead\n",
      "0.085, 0.072, 0.071, 0.071, 0.067, 0.067, 0.063, 0.059, 0.058, 0.058, 0.056, 0.056, 0.055, 0.054, 0.054\n",
      "\n",
      "Topic  167\n",
      "outfit, coins, winner, light, similar, thought, using, rare, lost, currently, gladly, coin, influential, acquired, houses\n",
      "0.094, 0.088, 0.083, 0.073, 0.072, 0.072, 0.071, 0.067, 0.065, 0.065, 0.065, 0.061, 0.060, 0.059, 0.059\n",
      "\n",
      "Topic  168\n",
      "explore, responses, thassilon, tell, sort, dangers, darkvision, candle, expect, farmers, magnimar, regarding, winner, ruins, market\n",
      "0.090, 0.074, 0.073, 0.070, 0.066, 0.066, 0.062, 0.061, 0.061, 0.060, 0.059, 0.058, 0.054, 0.053, 0.053\n",
      "\n",
      "Topic  169\n",
      "squares, character, taking, free, encounters, difficulty, rune, successful, located, floor, year, attack, players, rails, minotaur\n",
      "0.090, 0.072, 0.068, 0.065, 0.061, 0.061, 0.061, 0.061, 0.061, 0.059, 0.059, 0.057, 0.056, 0.055, 0.054\n",
      "\n",
      "Topic  170\n",
      "undead, walls, named, wererat, townsfolk, overdue, saw, direction, player, illusion, barn, lay, galduria, pcs, showing\n",
      "0.085, 0.084, 0.070, 0.066, 0.063, 0.063, 0.063, 0.061, 0.060, 0.060, 0.058, 0.057, 0.055, 0.053, 0.052\n",
      "\n",
      "Topic  171\n",
      "stand, lit, animates, called, encounter, bodies, studying, morale, actively, dead, runelords, hide, earlier, including, space\n",
      "0.094, 0.073, 0.073, 0.072, 0.072, 0.071, 0.070, 0.070, 0.066, 0.066, 0.065, 0.062, 0.062, 0.062, 0.060\n",
      "\n",
      "Topic  172\n",
      "rocks, rope, able, monastery, later, travelers, flesh, winner, day, purse, throw, admiration, saw, situation, valley\n",
      "0.109, 0.081, 0.080, 0.073, 0.069, 0.066, 0.061, 0.060, 0.059, 0.057, 0.055, 0.055, 0.054, 0.053, 0.052\n",
      "\n",
      "Topic  173\n",
      "wererat, damage, pocket, time, power, attack, illusion, best, bone, miss, winner, ore, enter, ran, visits\n",
      "0.071, 0.066, 0.064, 0.062, 0.062, 0.061, 0.060, 0.059, 0.056, 0.054, 0.053, 0.053, 0.051, 0.051, 0.051\n",
      "\n",
      "Topic  174\n",
      "takes, trail, quickly, defeat, werewolves, easy, wooden, deck, outfit, rounds, similar, digging, shovel, dwarf, rocks\n",
      "0.073, 0.069, 0.069, 0.068, 0.068, 0.066, 0.063, 0.062, 0.062, 0.062, 0.062, 0.061, 0.059, 0.058, 0.057\n",
      "\n",
      "Topic  175\n",
      "outfit, ready, runelords, perception, gp, headband, run, pace, brisk, south, level, leading, professor, venture, result\n",
      "0.095, 0.089, 0.083, 0.077, 0.072, 0.070, 0.070, 0.064, 0.063, 0.062, 0.060, 0.059, 0.059, 0.059, 0.058\n",
      "\n",
      "Topic  176\n",
      "site, target, knew, tool, freshly, diplomacy, monster, situation, outfit, leave, summon, difficult, near, character, pick\n",
      "0.075, 0.061, 0.060, 0.059, 0.059, 0.058, 0.057, 0.056, 0.053, 0.053, 0.053, 0.052, 0.052, 0.052, 0.051\n",
      "\n",
      "Topic  177\n",
      "good, runelords, action, encounter, times, grows, unlimited, free, district, lift, ambush, dwarven, influence, easy, knew\n",
      "0.075, 0.073, 0.069, 0.068, 0.062, 0.059, 0.059, 0.058, 0.058, 0.057, 0.056, 0.055, 0.055, 0.054, 0.053\n",
      "\n",
      "Topic  178\n",
      "raiders, ceiling, wooden, aware, way, draw, notice, mask, hide, sarenrae, district, walking, shouts, green, face\n",
      "0.071, 0.068, 0.062, 0.061, 0.058, 0.058, 0.055, 0.055, 0.054, 0.054, 0.053, 0.053, 0.052, 0.051, 0.050\n",
      "\n",
      "Topic  179\n",
      "krzysztof, stat, treasure, long, named, book, magical, gp, wererat, upset, encounter, nazari, unconscious, dc, floor\n",
      "0.082, 0.078, 0.076, 0.074, 0.064, 0.061, 0.061, 0.060, 0.058, 0.056, 0.056, 0.056, 0.056, 0.055, 0.053\n",
      "\n",
      "Topic  180\n",
      "glass, fortune, save, days, inhabitants, downtrodden, deck, poor, heard, sounds, galino, aquarium, pcs, wrecks, wailing\n",
      "0.073, 0.067, 0.065, 0.065, 0.064, 0.064, 0.064, 0.064, 0.064, 0.063, 0.063, 0.063, 0.062, 0.062, 0.062\n",
      "\n",
      "Topic  181\n",
      "mask, mother, spider, little, subtract, poor, similar, right, swarm, relief, wererat, points, contents, shovel, sounds\n",
      "0.075, 0.068, 0.067, 0.064, 0.063, 0.061, 0.059, 0.057, 0.057, 0.056, 0.055, 0.055, 0.054, 0.054, 0.053\n",
      "\n",
      "Topic  182\n",
      "monastery, worth, galino, looking, takes, thought, safe, gems, escort, codex, stand, met, allow, halfway, resupply\n",
      "0.113, 0.072, 0.069, 0.065, 0.064, 0.062, 0.061, 0.061, 0.060, 0.059, 0.059, 0.058, 0.057, 0.057, 0.055\n",
      "\n",
      "Topic  183\n",
      "afterward, sailing, close, danger, notice, larger, brother, isle, shipwrecked, scuttle, share, uneventful, visit, weeks, quarters\n",
      "0.080, 0.078, 0.078, 0.076, 0.075, 0.069, 0.069, 0.069, 0.067, 0.067, 0.067, 0.066, 0.062, 0.062, 0.062\n",
      "\n",
      "Topic  184\n",
      "rocks, action, fake, left, daylight, invisible, farm, results, unconscious, recover, area, focusing, man, knows, runelords\n",
      "0.082, 0.064, 0.062, 0.061, 0.060, 0.057, 0.056, 0.056, 0.055, 0.055, 0.054, 0.053, 0.053, 0.051, 0.050\n",
      "\n",
      "Topic  185\n",
      "thassilonian, death, walking, likely, shortly, edge, fort, undead, direction, close, headband, alive, raiders, sailing, years\n",
      "0.081, 0.069, 0.061, 0.060, 0.057, 0.057, 0.057, 0.056, 0.056, 0.055, 0.055, 0.054, 0.053, 0.052, 0.052\n",
      "\n",
      "Topic  186\n",
      "area, kiss, presence, graveyard, corner, jump, leave, pay, tell, insane, asks, emanating, quickly, table, shelter\n",
      "0.085, 0.073, 0.073, 0.066, 0.065, 0.059, 0.058, 0.057, 0.056, 0.055, 0.055, 0.055, 0.053, 0.053, 0.053\n",
      "\n",
      "Topic  187\n",
      "praise, outfit, named, gp, eberius, difficulty, rope, image, indifferent, azlanti, savasha, traversing, shipwrecked, farm, business\n",
      "0.078, 0.071, 0.071, 0.067, 0.066, 0.066, 0.065, 0.064, 0.063, 0.061, 0.059, 0.057, 0.055, 0.054, 0.054\n",
      "\n",
      "Topic  188\n",
      "common, ruins, responses, regarding, prospectors, mask, arcane, thassilon, remains, origin, veracity, unconfirmed, aroden, tell, graveyard\n",
      "0.079, 0.073, 0.070, 0.069, 0.067, 0.065, 0.064, 0.063, 0.063, 0.061, 0.061, 0.061, 0.060, 0.059, 0.058\n",
      "\n",
      "Topic  189\n",
      "dwarves, rises, jump, monsters, elemental, ask, past, obstacle, deeper, east, moon, community, indicate, figure, daylight\n",
      "0.079, 0.073, 0.072, 0.071, 0.071, 0.071, 0.068, 0.067, 0.066, 0.064, 0.063, 0.061, 0.059, 0.058, 0.058\n",
      "\n",
      "Topic  190\n",
      "surprised, mask, continues, north, scepter, trip, attempt, undead, clearing, direction, coin, sits, approaching, shopping, forest\n",
      "0.087, 0.075, 0.065, 0.065, 0.063, 0.061, 0.060, 0.060, 0.058, 0.058, 0.057, 0.056, 0.055, 0.054, 0.053\n",
      "\n",
      "Topic  191\n",
      "able, hand, spiders, floor, collapsed, friend, given, surprise, lycanthropes, slow, suffers, ire, dwarf, diplomacy, minute\n",
      "0.082, 0.070, 0.066, 0.065, 0.064, 0.060, 0.056, 0.055, 0.055, 0.054, 0.054, 0.054, 0.053, 0.052, 0.052\n",
      "\n",
      "Topic  192\n",
      "team, features, deep, center, pit, goblins, left, little, band, rounds, winner, leading, surface, outfit, flush\n",
      "0.075, 0.072, 0.071, 0.068, 0.063, 0.059, 0.057, 0.057, 0.055, 0.055, 0.055, 0.054, 0.053, 0.053, 0.052\n",
      "\n",
      "Topic  193\n",
      "character, rubble, versade, hiding, stone, great, faint, prints, nearby, convinced, words, trickery, seriously, magic, succeeds\n",
      "0.081, 0.075, 0.074, 0.072, 0.071, 0.070, 0.065, 0.065, 0.064, 0.062, 0.062, 0.061, 0.060, 0.059, 0.058\n",
      "\n",
      "Topic  194\n",
      "fake, ground, use, stand, high, carvings, corner, features, continues, savasha, left, monk, deep, past, monster\n",
      "0.095, 0.081, 0.081, 0.076, 0.071, 0.065, 0.063, 0.061, 0.059, 0.057, 0.057, 0.057, 0.056, 0.055, 0.055\n",
      "\n",
      "Topic  195\n",
      "sinkhole, marked, belt, round, damage, years, dwarf, hand, initiative, dwarven, gap, men, image, wears, rubble\n",
      "0.075, 0.072, 0.070, 0.064, 0.064, 0.062, 0.061, 0.061, 0.061, 0.060, 0.059, 0.059, 0.058, 0.056, 0.054\n",
      "\n",
      "Topic  196\n",
      "torches, winner, wolf, mother, cache, cast, recover, kavoos, fight, rides, act, mask, light, hailed, tailor\n",
      "0.070, 0.069, 0.067, 0.060, 0.059, 0.059, 0.058, 0.057, 0.056, 0.055, 0.055, 0.055, 0.054, 0.054, 0.054\n",
      "\n",
      "Topic  197\n",
      "maw, horde, escape, rounds, crimson, lives, rune, repel, heal, mena, want, difficult, outfit, rusty, claimed\n",
      "0.084, 0.077, 0.069, 0.068, 0.068, 0.067, 0.064, 0.062, 0.060, 0.059, 0.058, 0.055, 0.054, 0.054, 0.053\n",
      "\n",
      "Topic  198\n",
      "gang, sarcophagus, area, slow, bloody, knuckles, mother, columns, thieves, werewolves, statues, gets, threatens, party, ground\n",
      "0.082, 0.079, 0.073, 0.071, 0.068, 0.067, 0.066, 0.065, 0.065, 0.064, 0.064, 0.061, 0.058, 0.056, 0.055\n",
      "\n",
      "Topic  199\n",
      "dirt, wooden, opens, flee, table, clearing, minute, using, asks, finds, aboard, hiding, elemental, things, turn\n",
      "0.089, 0.087, 0.081, 0.076, 0.075, 0.074, 0.069, 0.067, 0.059, 0.059, 0.057, 0.056, 0.054, 0.053, 0.053\n",
      "\n",
      "Topic  200\n",
      "rare, books, squares, sarcophagus, awards, thassilonian, grants, combat, containing, spends, like, lies, tells, points, check\n",
      "0.078, 0.074, 0.071, 0.070, 0.069, 0.067, 0.064, 0.064, 0.063, 0.062, 0.061, 0.060, 0.058, 0.058, 0.056\n",
      "\n",
      "Topic  201\n",
      "books, return, lost, men, takes, wolf, rides, view, skill, havoc, mount, wears, wooden, rivalries, ranged\n",
      "0.086, 0.083, 0.075, 0.074, 0.071, 0.066, 0.066, 0.065, 0.064, 0.063, 0.062, 0.060, 0.058, 0.056, 0.055\n",
      "\n",
      "Topic  202\n",
      "farmhouse, moon, rises, night, lycanthropes, arcane, make, hard, short, arrive, pcs, tavern, notice, offering, mena\n",
      "0.081, 0.077, 0.072, 0.060, 0.059, 0.056, 0.055, 0.053, 0.052, 0.052, 0.052, 0.052, 0.051, 0.051, 0.050\n",
      "\n",
      "Topic  203\n",
      "lick, content, bored, somebody, leave, gathered, view, codex, bloody, thieves, knuckles, shalesmash, wolf, attempt, gang\n",
      "0.081, 0.080, 0.079, 0.079, 0.070, 0.068, 0.066, 0.066, 0.065, 0.064, 0.064, 0.064, 0.062, 0.060, 0.060\n",
      "\n",
      "Topic  204\n",
      "book, deck, hit, galino, area, quick, view, ship, unless, looking, unlimited, power, iron, consider, silver\n",
      "0.081, 0.071, 0.069, 0.063, 0.059, 0.059, 0.057, 0.056, 0.056, 0.056, 0.055, 0.055, 0.055, 0.055, 0.055\n",
      "\n",
      "Topic  205\n",
      "character, day, level, high, command, encounter, pcs, spiders, mask, activate, monsters, strike, god, platform, erastil\n",
      "0.101, 0.082, 0.075, 0.072, 0.071, 0.069, 0.069, 0.065, 0.062, 0.061, 0.060, 0.060, 0.059, 0.059, 0.059\n",
      "\n",
      "Topic  206\n",
      "discover, ships, wrecks, pit, hand, scavenging, played, fortune, days, image, particularly, treasures, collected, gamblers, lived\n",
      "0.099, 0.075, 0.066, 0.066, 0.066, 0.064, 0.062, 0.060, 0.060, 0.059, 0.059, 0.058, 0.058, 0.057, 0.056\n",
      "\n",
      "Topic  207\n",
      "visible, character, joins, believe, combat, tour, dies, east, needs, feet, bite, leading, stealth, bottle, games\n",
      "0.079, 0.067, 0.063, 0.061, 0.061, 0.061, 0.061, 0.059, 0.055, 0.054, 0.053, 0.053, 0.052, 0.051, 0.051\n",
      "\n",
      "Topic  208\n",
      "west, wears, traps, bear, present, walls, lifted, characters, hides, finds, turn, exist, hand, gaps, scholars\n",
      "0.070, 0.066, 0.063, 0.063, 0.061, 0.061, 0.061, 0.060, 0.060, 0.059, 0.058, 0.058, 0.058, 0.057, 0.057\n",
      "\n",
      "Topic  209\n",
      "farmhouse, farm, pavlina, time, tunnel, encounter, zanthus, prints, father, face, hillside, xp, tools, rusted, straight\n",
      "0.086, 0.082, 0.074, 0.071, 0.068, 0.068, 0.065, 0.065, 0.063, 0.061, 0.061, 0.060, 0.060, 0.059, 0.059\n",
      "\n",
      "Topic  210\n",
      "stand, ring, professor, stat, allow, deck, convince, went, effect, pale, thugs, decide, normal, bearing, make\n",
      "0.077, 0.071, 0.069, 0.068, 0.065, 0.064, 0.064, 0.062, 0.060, 0.059, 0.058, 0.058, 0.056, 0.056, 0.055\n",
      "\n",
      "Topic  211\n",
      "examine, humanoid, cache, explore, ceremonial, candle, monsters, sneaky, shapeshifter, boss, relying, farm, deadly, smelt, tunnels\n",
      "0.067, 0.064, 0.064, 0.063, 0.062, 0.061, 0.059, 0.059, 0.058, 0.057, 0.057, 0.057, 0.057, 0.057, 0.056\n",
      "\n",
      "Topic  212\n",
      "hinterlands, southern, coast, successful, mother, deverin, urgency, thassilonian, quick, arm, hours, explain, smithy, marsh, situation\n",
      "0.070, 0.070, 0.068, 0.067, 0.064, 0.061, 0.059, 0.058, 0.058, 0.056, 0.055, 0.055, 0.055, 0.054, 0.053\n",
      "\n",
      "Topic  213\n",
      "levitate, unlimited, miss, masquerade, destroyed, curse, ammunition, bottle, lift, raiders, mask, night, professor, power, bonus\n",
      "0.074, 0.073, 0.072, 0.066, 0.065, 0.064, 0.062, 0.062, 0.060, 0.058, 0.056, 0.056, 0.055, 0.055, 0.053\n",
      "\n",
      "Topic  214\n",
      "sarcophagus, fight, convince, potions, know, knowledge, columns, high, day, close, questions, headband, tells, support, wounds\n",
      "0.086, 0.075, 0.074, 0.072, 0.071, 0.067, 0.064, 0.062, 0.061, 0.061, 0.060, 0.060, 0.058, 0.056, 0.053\n",
      "\n",
      "Topic  215\n",
      "character, day, offended, offer, prayer, west, upset, mountains, lead, make, sarenrae, likely, ambush, good, center\n",
      "0.078, 0.077, 0.076, 0.075, 0.073, 0.070, 0.070, 0.065, 0.064, 0.063, 0.061, 0.060, 0.060, 0.060, 0.059\n",
      "\n",
      "Topic  216\n",
      "tunnel, tour, table, smoke, puff, mother, medallion, minds, setting, business, near, ground, attend, let, puts\n",
      "0.076, 0.075, 0.074, 0.072, 0.070, 0.067, 0.064, 0.060, 0.060, 0.060, 0.060, 0.059, 0.058, 0.058, 0.057\n",
      "\n",
      "Topic  217\n",
      "codex, light, books, steal, walking, know, potions, attempts, pull, rocks, krzysztof, difficult, hiding, hanging, tribe\n",
      "0.082, 0.081, 0.069, 0.069, 0.065, 0.064, 0.063, 0.063, 0.061, 0.061, 0.059, 0.058, 0.057, 0.057, 0.056\n",
      "\n",
      "Topic  218\n",
      "bustle, hustle, ready, crowds, night, accustomed, spiders, folks, smells, farming, slope, rural, act, spices, recently\n",
      "0.115, 0.108, 0.085, 0.079, 0.078, 0.075, 0.072, 0.071, 0.065, 0.064, 0.064, 0.063, 0.062, 0.062, 0.061\n",
      "\n",
      "Topic  219\n",
      "codex, headband, convince, sarcophagus, medallion, religion, gets, ready, brief, raiders, tour, attempting, pcs, shuttered, located\n",
      "0.101, 0.089, 0.078, 0.067, 0.065, 0.063, 0.059, 0.056, 0.055, 0.055, 0.054, 0.053, 0.051, 0.051, 0.051\n",
      "\n",
      "Topic  220\n",
      "went, ring, belt, outfit, mena, subtract, examine, answers, dwarves, house, guests, minotaur, wearing, boss, deadly\n",
      "0.103, 0.091, 0.085, 0.079, 0.076, 0.075, 0.072, 0.070, 0.067, 0.065, 0.063, 0.063, 0.062, 0.057, 0.056\n",
      "\n",
      "Topic  221\n",
      "north, codex, drunken, continues, learn, spellbook, contact, travel, undead, slope, tried, raiders, morning, visit, map\n",
      "0.087, 0.078, 0.077, 0.071, 0.071, 0.068, 0.067, 0.065, 0.064, 0.063, 0.058, 0.056, 0.054, 0.054, 0.051\n",
      "\n",
      "Topic  222\n",
      "ground, crisscross, floor, east, ring, dirt, leading, entrance, years, rusty, scorched, boot, mask, close, explore\n",
      "0.087, 0.080, 0.079, 0.075, 0.074, 0.073, 0.072, 0.072, 0.067, 0.065, 0.064, 0.059, 0.058, 0.057, 0.057\n",
      "\n",
      "Topic  223\n",
      "lair, raiders, pavlina, farmhouse, deck, character, east, lurk, hide, space, thugs, rises, better, swarm, pile\n",
      "0.085, 0.081, 0.075, 0.068, 0.067, 0.067, 0.059, 0.058, 0.058, 0.058, 0.055, 0.055, 0.054, 0.054, 0.053\n",
      "\n",
      "Topic  224\n",
      "spiders, standard, mini, unless, dungeon, xp, dangerous, way, tougher, carries, fight, deverin, venture, contact, risk\n",
      "0.074, 0.071, 0.070, 0.069, 0.069, 0.067, 0.067, 0.060, 0.057, 0.054, 0.054, 0.054, 0.052, 0.051, 0.050\n",
      "\n",
      "Topic  225\n",
      "problem, abbey, farmhouse, elemental, walking, plaza, begins, north, speaking, low, remains, demos, guess, monsters, rose\n",
      "0.082, 0.079, 0.074, 0.073, 0.072, 0.072, 0.069, 0.062, 0.061, 0.060, 0.056, 0.056, 0.055, 0.055, 0.054\n",
      "\n",
      "Topic  226\n",
      "deck, questions, opened, collapsed, showing, terrain, walking, suspicious, count, aboard, map, deeper, slow, combat, share\n",
      "0.096, 0.074, 0.067, 0.066, 0.061, 0.059, 0.059, 0.059, 0.059, 0.058, 0.057, 0.057, 0.055, 0.054, 0.054\n",
      "\n",
      "Topic  227\n",
      "light, pale, using, tool, slope, storms, worth, northward, short, examines, map, dark, potions, met, close\n",
      "0.095, 0.086, 0.069, 0.067, 0.065, 0.065, 0.064, 0.063, 0.063, 0.063, 0.062, 0.062, 0.061, 0.058, 0.057\n",
      "\n",
      "Topic  228\n",
      "adventure, regarding, underway, outfit, make, hagfish, kiss, allowed, ceiling, rune, beam, carve, shouts, streets, fragments\n",
      "0.086, 0.074, 0.069, 0.069, 0.067, 0.065, 0.061, 0.059, 0.058, 0.058, 0.058, 0.057, 0.056, 0.053, 0.051\n",
      "\n",
      "Topic  229\n",
      "lair, outpost, chunk, ring, add, professor, brother, examines, location, table, trail, went, hut, dirty, faint\n",
      "0.085, 0.076, 0.070, 0.068, 0.066, 0.066, 0.066, 0.063, 0.059, 0.058, 0.055, 0.055, 0.055, 0.055, 0.054\n",
      "\n",
      "Topic  230\n",
      "stat, equipment, potions, smelt, response, monster, covered, krzysztof, grass, grows, surrounded, belongs, arrive, know, rivalries\n",
      "0.086, 0.075, 0.074, 0.073, 0.069, 0.068, 0.057, 0.057, 0.055, 0.055, 0.055, 0.053, 0.052, 0.052, 0.051\n",
      "\n",
      "Topic  231\n",
      "potions, important, framed, evil, sit, west, falls, hour, culture, boot, featureless, wood, tells, protection, convince\n",
      "0.072, 0.062, 0.061, 0.060, 0.060, 0.059, 0.058, 0.057, 0.056, 0.056, 0.055, 0.054, 0.054, 0.054, 0.054\n",
      "\n",
      "Topic  232\n",
      "mena, pirate, overdue, immediately, approaches, total, codex, defeat, coin, erastil, deck, tunnels, lighting, actually, aquarium\n",
      "0.084, 0.064, 0.062, 0.060, 0.059, 0.058, 0.057, 0.057, 0.054, 0.054, 0.053, 0.051, 0.050, 0.049, 0.049\n",
      "\n",
      "Topic  233\n",
      "ranged, mausoleum, stops, runelords, wererat, publicly, display, featureless, walkway, miss, falls, krzysztof, roll, steel, calling\n",
      "0.092, 0.064, 0.063, 0.062, 0.059, 0.058, 0.058, 0.058, 0.057, 0.054, 0.053, 0.051, 0.051, 0.051, 0.050\n",
      "\n",
      "Topic  234\n",
      "tell, minotaur, northward, golden, lost, collapsed, needs, drink, mask, werewolves, start, rocks, travelers, safety, taken\n",
      "0.074, 0.072, 0.072, 0.066, 0.064, 0.063, 0.063, 0.062, 0.061, 0.061, 0.060, 0.059, 0.057, 0.057, 0.057\n",
      "\n",
      "Topic  235\n",
      "little, discovered, like, crimson, unless, begins, golden, struck, mini, monster, god, dungeon, gold, marble, pedestal\n",
      "0.082, 0.074, 0.072, 0.071, 0.069, 0.066, 0.065, 0.065, 0.064, 0.064, 0.063, 0.063, 0.062, 0.060, 0.057\n",
      "\n",
      "Topic  236\n",
      "combat, high, walls, state, make, icy, works, return, haphazard, drip, eat, rounds, potions, jagged, difficult\n",
      "0.086, 0.081, 0.070, 0.062, 0.055, 0.055, 0.054, 0.054, 0.054, 0.054, 0.053, 0.052, 0.051, 0.051, 0.051\n",
      "\n",
      "Topic  237\n",
      "god, undead, erastil, minotaur, outfit, fort, squares, activate, corner, strike, smelt, true, use, gain, level\n",
      "0.102, 0.091, 0.083, 0.075, 0.071, 0.069, 0.069, 0.068, 0.065, 0.063, 0.063, 0.062, 0.060, 0.058, 0.057\n",
      "\n",
      "Topic  238\n",
      "adventurer, headband, character, known, accompany, true, feet, knows, richly, furniture, appointed, tunnel, increasingly, rugs, exquisite\n",
      "0.079, 0.071, 0.070, 0.065, 0.063, 0.062, 0.062, 0.061, 0.060, 0.060, 0.060, 0.060, 0.060, 0.059, 0.058\n",
      "\n",
      "Topic  239\n",
      "mena, character, gap, characters, eat, succeed, looks, charges, named, marked, collapsed, free, square, near, round\n",
      "0.085, 0.074, 0.068, 0.066, 0.065, 0.065, 0.064, 0.064, 0.063, 0.061, 0.061, 0.060, 0.060, 0.057, 0.057\n",
      "\n",
      "Topic  240\n",
      "guardians, regarding, rockwhelp, mausoleum, busy, raiders, depths, relic, quickly, imposed, investigate, hazelindra, hag, green, situation\n",
      "0.080, 0.071, 0.067, 0.066, 0.065, 0.064, 0.064, 0.062, 0.061, 0.059, 0.058, 0.057, 0.057, 0.056, 0.056\n",
      "\n",
      "Topic  241\n",
      "runelords, montrovale, raiders, instead, use, near, attack, command, debris, mausoleum, chisel, mining, makes, potions, noise\n",
      "0.087, 0.076, 0.062, 0.058, 0.057, 0.056, 0.054, 0.054, 0.053, 0.052, 0.051, 0.050, 0.050, 0.050, 0.049\n",
      "\n",
      "Topic  242\n",
      "search, ask, initiative, winner, winded, easily, sparkles, high, hasty, bloodshot, continues, regarding, headband, minotaur, dwarven\n",
      "0.079, 0.078, 0.068, 0.065, 0.063, 0.061, 0.061, 0.059, 0.059, 0.058, 0.056, 0.056, 0.055, 0.054, 0.053\n",
      "\n",
      "Topic  243\n",
      "headband, ruins, azlanti, allow, codex, leave, target, paraphrase, kendra, coins, nazari, bone, regarding, man, slope\n",
      "0.102, 0.075, 0.062, 0.061, 0.061, 0.061, 0.059, 0.059, 0.058, 0.058, 0.057, 0.057, 0.055, 0.055, 0.053\n",
      "\n",
      "Topic  244\n",
      "bone, areas, cave, creature, grass, surrounded, considered, direction, mountains, farm, checks, puff, smoke, debris, covered\n",
      "0.098, 0.075, 0.072, 0.071, 0.070, 0.066, 0.064, 0.064, 0.061, 0.061, 0.061, 0.060, 0.060, 0.058, 0.056\n",
      "\n",
      "Topic  245\n",
      "development, eat, squares, skill, violent, defeated, angry, mazes, square, charges, minotaurs, north, books, mimic, confuse\n",
      "0.067, 0.067, 0.066, 0.065, 0.064, 0.063, 0.063, 0.063, 0.063, 0.062, 0.062, 0.059, 0.058, 0.057, 0.056\n",
      "\n",
      "Topic  246\n",
      "combat, mask, start, gap, ground, mother, item, marked, map, undead, rubble, religion, deck, saving, knowledge\n",
      "0.101, 0.100, 0.086, 0.085, 0.079, 0.070, 0.069, 0.067, 0.066, 0.063, 0.061, 0.061, 0.060, 0.056, 0.056\n",
      "\n",
      "Topic  247\n",
      "bone, mena, spiders, tell, making, friend, shoot, ago, add, mausoleum, fails, head, white, ring, webbing\n",
      "0.081, 0.079, 0.078, 0.073, 0.072, 0.068, 0.067, 0.066, 0.062, 0.061, 0.061, 0.058, 0.057, 0.057, 0.057\n",
      "\n",
      "Topic  248\n",
      "friends, break, dressed, begins, dwarf, just, bottle, questions, lectern, near, extra, gp, roll, underway, eating\n",
      "0.087, 0.077, 0.075, 0.069, 0.069, 0.065, 0.063, 0.058, 0.056, 0.056, 0.056, 0.055, 0.054, 0.053, 0.052\n",
      "\n",
      "Topic  249\n",
      "trail, pull, elemental, hanging, attacked, hut, friends, succeeding, aquarium, masquerade, cast, informs, prying, merely, attack\n",
      "0.079, 0.065, 0.063, 0.063, 0.062, 0.059, 0.057, 0.056, 0.055, 0.055, 0.054, 0.054, 0.052, 0.052, 0.052\n",
      "\n",
      "Topic  250\n",
      "local, farm, ambushes, southern, hinterlands, risk, farmhouse, place, smithy, remains, course, upset, figure, companion, urgency\n",
      "0.074, 0.074, 0.066, 0.064, 0.063, 0.063, 0.063, 0.062, 0.061, 0.059, 0.058, 0.058, 0.056, 0.056, 0.055\n",
      "\n",
      "Topic  251\n",
      "falls, pit, mena, aroden, leading, holy, ago, chunk, means, taking, ring, throne, glowing, desna, walkway\n",
      "0.084, 0.080, 0.072, 0.068, 0.066, 0.064, 0.062, 0.059, 0.056, 0.056, 0.056, 0.055, 0.053, 0.053, 0.051\n",
      "\n",
      "Topic  252\n",
      "raiders, rubble, fall, stat, smelt, time, block, remind, knows, accompany, recover, challenging, target, pounds, having\n",
      "0.103, 0.085, 0.078, 0.077, 0.074, 0.072, 0.070, 0.069, 0.068, 0.064, 0.064, 0.063, 0.060, 0.058, 0.055\n",
      "\n",
      "Topic  253\n",
      "clues, rowboat, mines, gold, preparations, runs, sailors, form, stabs, fought, head, goblins, finds, darkvision, missing\n",
      "0.087, 0.073, 0.071, 0.071, 0.070, 0.069, 0.066, 0.065, 0.064, 0.063, 0.063, 0.063, 0.062, 0.059, 0.058\n",
      "\n",
      "Topic  254\n",
      "guises, attempt, look, guards, offering, socialize, servants, dancing, academae, fashion, overheard, azlanti, pcs, mask, old\n",
      "0.069, 0.068, 0.067, 0.067, 0.065, 0.065, 0.064, 0.064, 0.063, 0.063, 0.062, 0.060, 0.058, 0.057, 0.055\n",
      "\n",
      "Topic  255\n",
      "raiders, image, distance, direction, learn, penalty, player, mimic, spells, named, wander, thassilonian, grows, countryside, feet\n",
      "0.110, 0.076, 0.060, 0.059, 0.059, 0.057, 0.056, 0.056, 0.053, 0.052, 0.052, 0.051, 0.050, 0.050, 0.050\n",
      "\n",
      "Topic  256\n",
      "friends, defeated, minor, deal, rope, item, makes, religion, development, medallion, ground, hearty, reward, save, bright\n",
      "0.065, 0.064, 0.064, 0.062, 0.060, 0.060, 0.059, 0.059, 0.055, 0.054, 0.053, 0.053, 0.052, 0.052, 0.052\n",
      "\n",
      "Topic  257\n",
      "tell, snatch, undead, grumbles, tauranor, rest, finally, initiative, slope, remains, gang, eberius, gems, versade, monsters\n",
      "0.076, 0.076, 0.075, 0.070, 0.069, 0.066, 0.065, 0.065, 0.063, 0.062, 0.062, 0.060, 0.060, 0.058, 0.057\n",
      "\n",
      "Topic  258\n",
      "passing, called, night, pick, raiders, suspicious, ships, farmhouse, winner, silver, wrecks, rising, paying, dies, thanks\n",
      "0.074, 0.068, 0.066, 0.063, 0.059, 0.058, 0.057, 0.057, 0.056, 0.054, 0.053, 0.052, 0.052, 0.051, 0.051\n",
      "\n",
      "Topic  259\n",
      "try, draw, attacked, monster, hit, versade, near, extra, prospectors, turns, eastward, cave, north, enter, invisible\n",
      "0.078, 0.078, 0.077, 0.071, 0.069, 0.066, 0.065, 0.064, 0.064, 0.064, 0.063, 0.060, 0.060, 0.058, 0.057\n",
      "\n",
      "Topic  260\n",
      "square, makes, pcs, spiders, happened, various, alchemist, outfit, penalty, price, remain, jewelry, hiding, asked, deep\n",
      "0.077, 0.075, 0.075, 0.070, 0.068, 0.066, 0.062, 0.060, 0.056, 0.055, 0.055, 0.053, 0.051, 0.051, 0.051\n",
      "\n",
      "Topic  261\n",
      "threat, minor, tour, cat, mausoleum, believe, inquire, learn, talk, late, confront, permeates, menace, difficult, venturing\n",
      "0.075, 0.074, 0.073, 0.066, 0.066, 0.063, 0.063, 0.062, 0.058, 0.057, 0.057, 0.057, 0.056, 0.055, 0.055\n",
      "\n",
      "Topic  262\n",
      "use, contact, attack, prints, convince, dwarf, characters, torches, indicate, covered, tauranor, actively, hazelindra, knowledge, northward\n",
      "0.091, 0.073, 0.072, 0.071, 0.068, 0.067, 0.065, 0.064, 0.064, 0.063, 0.060, 0.060, 0.058, 0.058, 0.057\n",
      "\n",
      "Topic  263\n",
      "medallion, plaza, northern, order, spells, initiative, penalty, given, total, present, xp, mines, covered, setting, safe\n",
      "0.073, 0.066, 0.066, 0.063, 0.062, 0.062, 0.061, 0.060, 0.058, 0.058, 0.057, 0.056, 0.054, 0.053, 0.053\n",
      "\n",
      "Topic  264\n",
      "stop, investigate, wish, pacifism, smithy, quickly, easily, tried, indicate, vow, continue, told, northward, killed, tunnel\n",
      "0.077, 0.075, 0.074, 0.070, 0.069, 0.068, 0.068, 0.067, 0.066, 0.064, 0.061, 0.060, 0.059, 0.059, 0.058\n",
      "\n",
      "Topic  265\n",
      "tells, learn, hut, survives, races, arrive, gain, work, sort, past, plaza, passage, trying, thassilon, money\n",
      "0.080, 0.076, 0.065, 0.059, 0.058, 0.058, 0.057, 0.056, 0.054, 0.053, 0.053, 0.053, 0.053, 0.052, 0.051\n",
      "\n",
      "Topic  266\n",
      "wall, quickly, sailors, group, search, prints, eat, watches, lairs, torches, eggs, tool, visit, asks, offer\n",
      "0.077, 0.073, 0.072, 0.069, 0.067, 0.066, 0.064, 0.063, 0.063, 0.062, 0.061, 0.061, 0.060, 0.058, 0.057\n",
      "\n",
      "Topic  267\n",
      "tell, decide, eat, lairs, little, rocks, healing, south, monastery, named, time, blocks, equipment, darkvision, surprised\n",
      "0.072, 0.071, 0.062, 0.060, 0.060, 0.060, 0.059, 0.057, 0.056, 0.055, 0.055, 0.053, 0.053, 0.053, 0.052\n",
      "\n",
      "Topic  268\n",
      "succeed, safety, opposed, carry, traversing, features, shape, combat, terrible, created, accompanying, left, reveals, dwarven, outfit\n",
      "0.085, 0.080, 0.073, 0.070, 0.064, 0.062, 0.060, 0.060, 0.060, 0.059, 0.058, 0.057, 0.056, 0.056, 0.055\n",
      "\n",
      "Topic  269\n",
      "gain, raiders, bone, pcs, price, rats, throws, rubble, saving, vision, past, sailors, magnimar, hand, attacks\n",
      "0.085, 0.080, 0.073, 0.068, 0.062, 0.062, 0.061, 0.061, 0.060, 0.059, 0.059, 0.056, 0.056, 0.056, 0.055\n",
      "\n",
      "Topic  270\n",
      "tunnel, easily, search, near, stand, turns, trying, come, hazelindra, years, dead, continues, scepter, rouse, points\n",
      "0.092, 0.081, 0.065, 0.062, 0.062, 0.060, 0.059, 0.059, 0.058, 0.058, 0.057, 0.057, 0.056, 0.055, 0.053\n",
      "\n",
      "Topic  271\n",
      "deck, revive, device, books, approach, sent, appear, tunnel, paraphrase, succeed, adventure, extra, hides, holy, tore\n",
      "0.087, 0.083, 0.079, 0.078, 0.075, 0.074, 0.070, 0.065, 0.061, 0.061, 0.060, 0.059, 0.059, 0.056, 0.056\n",
      "\n",
      "Topic  272\n",
      "price, agreed, discover, plaza, handbook, acadamae, threat, decide, action, opposed, convince, target, connection, drunken, evil\n",
      "0.095, 0.075, 0.070, 0.068, 0.068, 0.065, 0.064, 0.062, 0.061, 0.060, 0.058, 0.057, 0.057, 0.056, 0.056\n",
      "\n",
      "Topic  273\n",
      "lurkwood, action, prints, start, initiative, deliver, decide, expresses, gratitude, act, opposed, healed, think, checks, continues\n",
      "0.085, 0.078, 0.074, 0.069, 0.065, 0.064, 0.063, 0.061, 0.058, 0.056, 0.056, 0.054, 0.054, 0.053, 0.053\n",
      "\n",
      "Topic  274\n",
      "books, revive, xanderghul, saving, academae, regarding, throws, days, bone, magic, point, attempts, gathered, contact, chunk\n",
      "0.103, 0.068, 0.060, 0.060, 0.059, 0.056, 0.056, 0.056, 0.055, 0.055, 0.054, 0.053, 0.053, 0.051, 0.050\n",
      "\n",
      "Topic  275\n",
      "walkway, tunnel, island, extra, finish, head, falls, responses, starting, healing, religious, comes, admiration, shipwrecked, striking\n",
      "0.081, 0.074, 0.067, 0.066, 0.064, 0.062, 0.061, 0.060, 0.059, 0.059, 0.059, 0.057, 0.056, 0.055, 0.055\n",
      "\n",
      "Topic  276\n",
      "item, walkway, center, striking, revive, structure, common, valuable, makes, including, ring, rumors, attack, opportunity, answer\n",
      "0.089, 0.075, 0.074, 0.067, 0.067, 0.067, 0.065, 0.062, 0.060, 0.060, 0.055, 0.055, 0.054, 0.053, 0.053\n",
      "\n",
      "Topic  277\n",
      "living, bonus, dungeon, mini, hiding, gold, actually, taken, miner, withdraws, lighting, adventurer, succeed, tell, hold\n",
      "0.071, 0.067, 0.066, 0.065, 0.065, 0.064, 0.064, 0.063, 0.063, 0.061, 0.060, 0.060, 0.059, 0.058, 0.057\n",
      "\n",
      "Topic  278\n",
      "appear, book, skill, cargo, set, torches, deck, fall, face, howl, opens, looks, level, fake, xanderghul\n",
      "0.087, 0.082, 0.070, 0.068, 0.067, 0.067, 0.067, 0.066, 0.065, 0.065, 0.063, 0.063, 0.061, 0.060, 0.060\n",
      "\n",
      "Topic  279\n",
      "climbing, smooth, book, need, add, jumping, foot, fall, encounter, saves, walk, rescuing, makes, make, normal\n",
      "0.080, 0.078, 0.074, 0.074, 0.066, 0.065, 0.064, 0.064, 0.062, 0.062, 0.061, 0.060, 0.060, 0.058, 0.058\n",
      "\n",
      "Topic  280\n",
      "snatch, request, dark, face, mausoleum, leads, seek, hit, medallion, eberius, points, path, healing, recently, arm\n",
      "0.069, 0.066, 0.060, 0.060, 0.059, 0.057, 0.057, 0.056, 0.054, 0.053, 0.053, 0.051, 0.051, 0.049, 0.049\n",
      "\n",
      "Topic  281\n",
      "called, farm, outfit, prior, deck, aquarium, return, present, turn, krzysztof, ear, discover, calendar, magnimarian, beginning\n",
      "0.074, 0.072, 0.070, 0.069, 0.066, 0.062, 0.061, 0.056, 0.056, 0.055, 0.053, 0.053, 0.053, 0.053, 0.052\n",
      "\n",
      "Topic  282\n",
      "rolls, dungeon, mini, miner, begins, sickened, happened, wide, adventurer, alchemist, lair, space, asked, hits, webbing\n",
      "0.086, 0.081, 0.079, 0.075, 0.074, 0.065, 0.064, 0.063, 0.061, 0.060, 0.059, 0.059, 0.056, 0.056, 0.055\n",
      "\n",
      "Topic  283\n",
      "invisible, variety, styles, surround, guards, use, discover, dwarf, lose, force, pretending, balance, smithy, field, puff\n",
      "0.088, 0.074, 0.074, 0.072, 0.072, 0.071, 0.068, 0.066, 0.063, 0.062, 0.062, 0.062, 0.059, 0.059, 0.058\n",
      "\n",
      "Topic  284\n",
      "engage, wolf, ranged, subtract, making, touch, web, shoot, current, humanoid, sleep, earth, intestines, medallion, nibbling\n",
      "0.080, 0.073, 0.073, 0.071, 0.070, 0.070, 0.069, 0.068, 0.065, 0.061, 0.061, 0.059, 0.057, 0.057, 0.057\n",
      "\n",
      "Topic  285\n",
      "dozen, read, figure, day, wolf, silver, ewe, remember, fat, companion, sickened, light, runs, stabs, examine\n",
      "0.080, 0.078, 0.075, 0.070, 0.070, 0.065, 0.062, 0.062, 0.062, 0.060, 0.060, 0.059, 0.059, 0.058, 0.058\n",
      "\n",
      "Topic  286\n",
      "start, farm, humanoid, time, outside, stay, quickly, cave, request, nearly, continues, worth, attack, current, plans\n",
      "0.093, 0.080, 0.079, 0.066, 0.065, 0.062, 0.062, 0.062, 0.061, 0.060, 0.059, 0.059, 0.057, 0.057, 0.055\n",
      "\n",
      "Topic  287\n",
      "hope, genuine, hostage, successfully, reveals, view, discover, seek, rod, hold, mithral, past, smithy, xanderghul, worth\n",
      "0.114, 0.104, 0.103, 0.075, 0.068, 0.064, 0.060, 0.059, 0.059, 0.058, 0.058, 0.058, 0.057, 0.057, 0.056\n",
      "\n",
      "Topic  288\n",
      "examine, decide, farmhouse, opposed, attacking, hide, aware, pillars, smithy, tunnels, shifts, initiative, carry, asked, eastward\n",
      "0.085, 0.084, 0.081, 0.072, 0.072, 0.068, 0.068, 0.066, 0.066, 0.065, 0.063, 0.062, 0.062, 0.062, 0.061\n",
      "\n",
      "Topic  289\n",
      "attack, happens, normally, skill, tries, elemental, price, lead, close, ac, save, day, shallow, away, weeks\n",
      "0.089, 0.082, 0.082, 0.073, 0.070, 0.066, 0.065, 0.064, 0.063, 0.062, 0.062, 0.058, 0.056, 0.056, 0.055\n",
      "\n",
      "Topic  290\n",
      "awaiting, evening, making, close, lives, brother, gold, like, initially, just, order, smooth, travel, climbing, ranged\n",
      "0.076, 0.075, 0.068, 0.067, 0.064, 0.063, 0.062, 0.061, 0.061, 0.059, 0.059, 0.057, 0.057, 0.057, 0.057\n",
      "\n",
      "Topic  291\n",
      "convince, tour, rumors, largely, drunken, plaza, forward, shuttered, strange, bluff, hearing, buried, making, silva, constant\n",
      "0.068, 0.066, 0.063, 0.063, 0.061, 0.060, 0.060, 0.060, 0.059, 0.059, 0.059, 0.059, 0.058, 0.058, 0.058\n",
      "\n",
      "Topic  292\n",
      "humanoid, challenging, normal, remind, having, hard, creatures, towns, surprise, finds, repeating, instead, earth, help, initiative\n",
      "0.110, 0.089, 0.081, 0.078, 0.076, 0.075, 0.075, 0.064, 0.063, 0.063, 0.063, 0.062, 0.062, 0.061, 0.060\n",
      "\n",
      "Topic  293\n",
      "rolls, longsword, rusty, near, belt, contacted, arrivals, new, pale, arcana, ranged, nature, sets, true, penalty\n",
      "0.088, 0.074, 0.073, 0.073, 0.068, 0.065, 0.065, 0.065, 0.062, 0.061, 0.061, 0.059, 0.059, 0.058, 0.058\n",
      "\n",
      "Topic  294\n",
      "direction, order, collapsed, large, time, feet, brother, columns, glitters, whispers, ghouls, sailor, starting, patch, flee\n",
      "0.071, 0.070, 0.066, 0.065, 0.065, 0.063, 0.061, 0.061, 0.060, 0.060, 0.060, 0.058, 0.057, 0.056, 0.056\n",
      "\n",
      "Topic  295\n",
      "sailors, ranged, space, treasure, locate, successful, dc, walls, end, describes, subtract, spends, sailor, chest, haphazard\n",
      "0.099, 0.092, 0.071, 0.071, 0.064, 0.063, 0.063, 0.061, 0.061, 0.061, 0.060, 0.060, 0.059, 0.059, 0.058\n",
      "\n",
      "Topic  296\n",
      "defeated, goblins, pillars, development, prior, smithy, reckless, tour, exposure, outskirts, sets, mark, scorch, running, hork\n",
      "0.084, 0.077, 0.070, 0.068, 0.061, 0.060, 0.059, 0.059, 0.058, 0.057, 0.057, 0.057, 0.056, 0.056, 0.056\n",
      "\n",
      "Topic  297\n",
      "bonus, raiders, skull, high, gain, throws, hasty, winded, saving, edge, surface, discover, fort, busy, close\n",
      "0.080, 0.072, 0.067, 0.066, 0.063, 0.063, 0.062, 0.062, 0.059, 0.057, 0.055, 0.055, 0.054, 0.054, 0.054\n",
      "\n",
      "Topic  298\n",
      "night, state, important, pale, skill, north, roll, gem, woman, elemental, moving, return, shala, inquiries, distress\n",
      "0.077, 0.077, 0.073, 0.072, 0.070, 0.066, 0.065, 0.063, 0.062, 0.060, 0.058, 0.057, 0.056, 0.055, 0.054\n",
      "\n",
      "Topic  299\n",
      "penalty, belt, candle, squares, rolls, weapons, holy, climb, brother, pc, word, ranged, southwest, longsword, command\n",
      "0.080, 0.079, 0.073, 0.071, 0.069, 0.065, 0.064, 0.064, 0.062, 0.058, 0.057, 0.057, 0.055, 0.055, 0.055\n"
     ]
    }
   ],
   "source": [
    "display_topics(svd, vectorizer.get_feature_names(), 15)"
   ]
  },
  {
   "cell_type": "code",
   "execution_count": 0,
   "metadata": {
    "colab": {},
    "colab_type": "code",
    "id": "dEH7w5rCKGCw"
   },
   "outputs": [],
   "source": []
  },
  {
   "cell_type": "code",
   "execution_count": 0,
   "metadata": {
    "colab": {
     "base_uri": "https://localhost:8080/",
     "height": 1000
    },
    "colab_type": "code",
    "id": "ENFQ4zv2h_By",
    "outputId": "174548f8-c044-42b8-d312-7bc89e29c8ca"
   },
   "outputs": [
    {
     "name": "stdout",
     "output_type": "stream",
     "text": [
      "Clustering sparse data with MiniBatchKMeans(batch_size=1000, compute_labels=True, init='k-means++',\n",
      "                init_size=1000, max_iter=100, max_no_improvement=10,\n",
      "                n_clusters=300, n_init=3, random_state=None,\n",
      "                reassignment_ratio=0.01, tol=0.0, verbose=False)\n",
      "done in 2.160s\n",
      "\n",
      "Silhouette Coefficient: 0.435\n",
      "\n",
      "Top terms per cluster:\n",
      "Cluster 0: smelling faintly macabre miscreants haze sigils discovered dumped blood strange contents drunken performing black candle\n",
      "Cluster 1: barn saw shows ran dinner werewolf direction expected comfortable showing allow prepare pcs sure yordan\n",
      "Cluster 2: knuckles bloody purchased roving hunt having wanderers muttering moments disappears absalom team painful information band\n",
      "Cluster 3: knowledge religion candle pcs minor arcana flame deal defeated successful learn development item section extinguished\n",
      "Cluster 4: fight mini dungeon unless brother encounter unconscious durn nearby confident heal hit form points draw\n",
      "Cluster 5: prints area east pc went mother dwarves spider swarm lair retreated boot gets higher searching\n",
      "Cluster 6: penalty fort creature save widow giant saves poison black increases hour additional bitten spider foe\n",
      "Cluster 7: potions book drawer desk cache professor montrovale fake pcs small finds attacks items cheh successful\n",
      "Cluster 8: demos element recurring beginner box silva elliana meant captain played kiss isles order appearing questions\n",
      "Cluster 9: hork round surprise yarg combat mount rides beginning wolf participate shalesmash view brazenly strides does\n",
      "Cluster 10: wayfinder presents speaks crowded suddenly approaches pathfinders street softly compass contacts visits magical departs city\n",
      "Cluster 11: downtrodden inhabitants sounds wailing shuffling movements poor heard bluff information trickery emanating successful night air\n",
      "Cluster 12: surprised surprise round action initiative spider actions standard skip roll normal including order act mother\n",
      "Cluster 13: joachim monks lenstraand ollie russo oja piotr brother tibaldo informs galduria returned missing traveled route\n",
      "Cluster 14: versade house nazari alabaster displaying extravagant wealth huge influence district unveiling thrown annual masquerade angel\n",
      "Cluster 15: platform edifice elevated walkway runes wide decorated flicker stone various encompasses foot strange center south\n",
      "Cluster 16: spell ring cast rats expending stored allowing standard action level hold wizard dire staff braided\n",
      "Cluster 17: farmhouse attacking shala kavoos returned stands attempts watching sees door break barn road rushes near\n",
      "Cluster 18: table women seated tricorne gesturing coat common men hat wears cheers demeanor clearly support singling\n",
      "Cluster 19: salmore mimic classroom cheh captive subdue dispatched book quick warned private sought duplicity prepare retrieve\n",
      "Cluster 20: town plaza small disturbances banks closest lake ember trading widening western forms encountering street travelers\n",
      "Cluster 21: soldier tailor scholar throne craftsman beggar artist guises beneath wrapped containing scene showing cache ceremonial\n",
      "Cluster 22: spells origin veracity unconfirmed thousands godhood investigation apprentice arcane penned rose diviners remains worth organization\n",
      "Cluster 23: answers questions mena lays parchment folded sample withdraws likely reaches pocket table best ability located\n",
      "Cluster 24: land farthough savagely fearfully mauled albeit animals hiding lycanthropes farmer farm sufficient motivation run living\n",
      "Cluster 25: shabana kissing embracing cheeks repeatedly strongest lunges woman young looking rescue did men finally likely\n",
      "Cluster 26: regarding questions recruitment possible gained ask allow ruins pathfinder curiosity piqued society heidmarch explore sheila\n",
      "Cluster 27: saw shut created easy prospectors sinkhole encounter tunnels dwarven earthquake area left examine ago years\n",
      "Cluster 28: climb tunnel slick ascends narrowing sharply clever veering ungracefully tumbles easier rope nonlethal widens icy\n",
      "Cluster 29: aldemar bought szabo scoundrel ship location rescued krzysztof scuttle isle showing passing called local collected\n",
      "Cluster 30: point invite meals crew games dice meal watch morning card joins join makes sunrise central\n",
      "Cluster 31: slow surprise round surprised characters terrain count webs spider difficult handbook sticky page mother walking\n",
      "Cluster 32: lost night problem chickens kantaro questions dozen hogs week fat yordan ewe gustavo half cattle\n",
      "Cluster 33: chest shabana platinum wand jewelry web vampiric return touch various leaves hag coins worth defeating\n",
      "Cluster 34: cave ghoul minions frigid mountain discovering galino travellers unsuspecting monastery feed pass monks shelter towns\n",
      "Cluster 35: door dc adventurers buildings imposing hardness hp classroom academic locked disable academae device incident wooden\n",
      "Cluster 36: lies face polished female crumpled mahogany colored elderly smock summoning human perches lectern circle papers\n",
      "Cluster 37: command word sheila badge cloak wears change tells academae know spellbook turn gives question given\n",
      "Cluster 38: versade houses influential calling plum acquired rare savasha house ruby sized similar opportunity gladly display\n",
      "Cluster 39: room engaged socializing loud way plays overheard dancing corner piece rugs appointed just servants richly\n",
      "Cluster 40: throne left shepherd fake trove fisherman hunter texts hides monk thief farmer scene showing carved\n",
      "Cluster 41: figure arm rises weapons companion wolf moon ambush hours silver try months adventure farming table\n",
      "Cluster 42: letting fallen rivals perceive weakness lowdown risk times assistance offered hard business recently contact giving\n",
      "Cluster 43: pc envoy check satisfy bluff greatness suffers embellishment ire diplomacy needs fails shaken assists add\n",
      "Cluster 44: night peasant disappeared singing inquire heard learn drunken suspicious missing question thugs graveyard change ask\n",
      "Cluster 45: overnight slopes hazards environmental upward caves expose visible roof icy tunnel little safe layers blackened\n",
      "Cluster 46: old tools rusted hillside straight extending fragments timbers supported natural cart prints rails recent boot\n",
      "Cluster 47: higher gets pc dozen burned prints dead finds blackened mark scorch sized spots hand searching\n",
      "Cluster 48: flesh muscle entirely stripped organs lie groaning terribly corpses wounded residence moderate taken slushy man\n",
      "Cluster 49: undead uprising visiting rumors varisian investigate venturing question shreds player sheila sent townsfolk late heidmarch\n",
      "Cluster 50: granted high rod mithral possesses leaf aware jog contact memory gems foot covered hierarchy crosier\n",
      "Cluster 51: causing transform lycanthropy bite wounded curse person savage carries beast weapons kill soldiers run sent\n",
      "Cluster 52: clearing forest walkway striking structure fragments past eastern white comes lurkwood view stand stone remains\n",
      "Cluster 53: durn rock ore got ran pile caught living attacked golden monster north players brother know\n",
      "Cluster 54: unconscious hit points examining alive spends injuries currently raise action standard prospector grald struck dwarf\n",
      "Cluster 55: subtract damage points charges use protected energy resist handbook longsword page appears total spell disease\n",
      "Cluster 56: begins servant bags heidmarch venture digging whispers low coin money captain voice speaking immediately says\n",
      "Cluster 57: base shipwreck freshwater clear landing beach debris brackish waterfall cove switchback empties cliff isle scuttle\n",
      "Cluster 58: cavern icy chunks litter portion rubble drip western ambush ghouls ground coming faint set stealthily\n",
      "Cluster 59: trap relieve survive ailing bypass complex retrieve involving mercenaries fledgling collapsing business contact crosier order\n",
      "Cluster 60: throws bonus saving hold undead skull gain worn rolls color smoke hand style gives puff\n",
      "Cluster 61: spiders xp tougher capture foes cocooning dangerous devouring giant larger awards webs slow add proud\n",
      "Cluster 62: area minute checks orange vial liquid rolls duration sp healing stuck webs potion dwarves went\n",
      "Cluster 63: town nights villagers fade upset thinking sandpoint let incident distance countryside ago outskirts urging tour\n",
      "Cluster 64: conversation aromas brandishing exotic mysterious spices dance compass brief venture smells air glance bustle market\n",
      "Cluster 65: gp yordan kavoos collect sheriff belor hemlock overjoyed able shala later bounty promised paying tend\n",
      "Cluster 66: rivalries instructor acadamae consequences lethal escalate faithful worshipper intense linna rife increasing friction academic universities\n",
      "Cluster 67: bridge towering enormous hundreds irespan harbor landmarks enters kendra water ancient ties dockway ruins feet\n",
      "Cluster 68: information mission complete promise seriously provide convinced speak need suspiciously thugs takes trickery approaching guard\n",
      "Cluster 69: deck second napping depart caught actively reach sunrise ready check informs beginning silva evening pc\n",
      "Cluster 70: featureless relief throne faces document throat holds signing knife picking king speaking thief right crowd\n",
      "Cluster 71: area large north knows tunnel alchemist grald pit happened lives broken wall collapsed spiders monster\n",
      "Cluster 72: farm arrive rises step closer remain moon hours grows short pcs daylight weather pavlina inviting\n",
      "Cluster 73: footpath accessible foggy foothills mile narrow dense surrounding half west situation cemetery connection travel town\n",
      "Cluster 74: attire gates fancy sails bazaar blond massive acquired welcome lit revelers angel shopping silk reminding\n",
      "Cluster 75: recklessness raids successfully trespassers countless claimed despite led tribe defend rune win medallion considered envoy\n",
      "Cluster 76: treasure races survives hut site easy ambush pick suspects encounter immediately buried trail mentioned map\n",
      "Cluster 77: shabana mainly lots laughs talking wealthy moderately welcome eye neergah krzysztof afraid cold family contact\n",
      "Cluster 78: classroom inquiries distress state moving acadamae discover pet korvosa crying mimic sheila rouse dispatched nearby\n",
      "Cluster 79: carvings relief aroden thrones depict aspect caches check identify revealing note scholars religious underneath does\n",
      "Cluster 80: humanoid stat block repeating charm prepare earth person works instead creatures start wizard outsider spell\n",
      "Cluster 81: outfit gp elemental exchanges families wreaks spend wish havoc important accompanying deverin jewelry questions likely\n",
      "Cluster 82: arms stabs runs lay refuse situation rowboat cargo ransom exchange attempting prisoner home escape danger\n",
      "Cluster 83: kaddren family mingle encourage roleplay parents nirodin lords unabashedly ladies fascinated zimandi tales heroic hear\n",
      "Cluster 84: hole exposing prying merely bypassed contents visible trap book break appears wall secure set determine\n",
      "Cluster 85: ring time lift unlimited boots pounds times levitate wear silver gives handbook action day bonus\n",
      "Cluster 86: mask wearing dance socialize written word party tradition seek social notice distance requires explains randomly\n",
      "Cluster 87: heidmarch told modest fairly needed venture price let discrete thought captain society codex cautious know\n",
      "Cluster 88: worth rocks gp gold ore pure nuggets turquoise raw dig smelted usable gems needs produce\n",
      "Cluster 89: cloth gasps stunned silence cornice shocked gathered shouts reveal pedestal succeeding pulls guards guests savasha\n",
      "Cluster 90: safe pimply student dons childhood disguise hat departs opened players taking nickname friends young burned\n",
      "Cluster 91: sinkhole feet jump indicate obstacle tried near area easily past dwarves west boot prints climb\n",
      "Cluster 92: medallion anybody fights bearing thought morale rune given death runelords stand hork thassilonian subjects wearing\n",
      "Cluster 93: corpse snow mix brownish slush fabric red snakes scraps juts eastern jagged lies soot trail\n",
      "Cluster 94: questions appear answers cargo best hurt lips likely puts minds ask silva captain paraphrase allow\n",
      "Cluster 95: smelt ore equipment gold belongs pound permission pounds collecting taking stealing mayor usable decide sandpoint\n",
      "Cluster 96: ending pleased hearty hazelindra reward threat thank meal offering candle apart townsfolk losing efforts allowing\n",
      "Cluster 97: mausoleum candle beacon flickering following crypt necropolis night cold leads approach emanating center shines mist\n",
      "Cluster 98: ended wreaking zombies experimental control necromancers havoc losing countryside city surrounding led studies largely group\n",
      "Cluster 99: deverin lord kendra ball mayor attend niece deteriorating simple health hobart asked requested parties place\n",
      "Cluster 100: scepter bloody knuckles thieves enters threatens gang fake band columns rune pc hostage far party\n",
      "Cluster 101: lairs eat swarm lay mother needs eggs cave spiders managed kill little spider prospectors chance\n",
      "Cluster 102: minotaurs angry twice violent breath mazes fond confuse lizardfolk str prey normal hold long free\n",
      "Cluster 103: regarding breakfast pathfinder extended dragon exclaims sit inn eating drinks rusty piqued offer curiosity tavern\n",
      "Cluster 104: man haired overdressed owner capacity talking jargie popular laughter wanders raucous bar comes nearly draws\n",
      "Cluster 105: monsters xp connection earthquake inhabited opened fly deeper earn experience underground past area adding sinkhole\n",
      "Cluster 106: montrovale dungeoneering substance powdery identifies gray powder coated dried bruising robes ribs underground adhesive trauma\n",
      "Cluster 107: chamber secret enter crypts memorials maintained ill indicated estate descend mausoleum pass stairway door coming\n",
      "Cluster 108: shadows skeletons dampness darkness churned enshrouded swathes smells freshly earth air movement leaving appearance lurk\n",
      "Cluster 109: silva climbs tooth things tauk badly relics demands aboard going turn thassilonian darkvision pirates fight\n",
      "Cluster 110: medallion helped evade possessing remarks retrieving guardians elaborates ruins newly praises receives ruin exploring ancient\n",
      "Cluster 111: folks accustomed brisk pace crowds bustle hustle devoid walking streets looking ready sandpoint arrive boundary\n",
      "Cluster 112: illusion glories declare programmed dormant pride convince trigger started xanderghul demands admiration getting runelord wonderful\n",
      "Cluster 113: envoy medallion flash disappearing wake disappearance nods smiles appeases emblazoned replaced image xanderghul seven successfully\n",
      "Cluster 114: shabana heads wades wreck shallow river trail opens faint clearing possessions afraid hut disappointed point\n",
      "Cluster 115: far spider bloodless hatched carcasses mass crusty rabbits fox floor eggs footprints webbed corner collapse\n",
      "Cluster 116: dwarf durn unconscious lead lying footprints stable leads clothes area sets male set alive face\n",
      "Cluster 117: fight ac tries throws saving attacked grald goblin battle knows away use help run confident\n",
      "Cluster 118: slope climb upward treacherous angle ice icy acrobatics increases attempting continues dc checks movement square\n",
      "Cluster 119: safe books aberrant manipulate seeing wanted difficult focusing attention knew apex cat shelves mimic howl\n",
      "Cluster 120: aquarium tankard slime secretes mouth jawless circular impossible slaps drink glass norah inside making groan\n",
      "Cluster 121: surprise monster remind having challenging retreat hard level rest encounter outside elemental round time recover\n",
      "Cluster 122: nazari elemental activates versade flee discovered steal summon wreaks gem trying party doppelganger havoc families\n",
      "Cluster 123: montrovale coherent consciousness extremely fragile brings barely maximum moves healed bookshelf healing assist starts yowl\n",
      "Cluster 124: zanthus father silver happy lend starknife gp explain urgency chapel masterwork das sandpoint mentions weapon\n",
      "Cluster 125: climb dc takes feet jumping smooth climbing jump running handbook page start check pit sinkhole\n",
      "Cluster 126: maw horde crimson repel pirates attacked ship captains want relics coast journey sea lives day\n",
      "Cluster 127: platform rug tall pedestal room sits beautiful marble middle golden center wooden raised foot black\n",
      "Cluster 128: belt hits save mighty constitution leather creature powers strength damage asleep sleep giant make spell\n",
      "Cluster 129: wagon gunny sacks seemingly random unconsciousness beating roughed stealing possessions vulnerable stopped dumped items consumed\n",
      "Cluster 130: ship wrecked thunder determined belong valuables foul aldemar patched knew burying longboat leave island chest\n",
      "Cluster 131: treasure sandpoint return splitting resulting sell smugly satisfied promised sets coins performance krzysztof rowboat relieved\n",
      "Cluster 132: sailing afterward share danger scuttle isle close shortly ship larger underway offer gets mess uneventful\n",
      "Cluster 133: pirate months gulf increasingly talk dangerous ball travel masquerade varisian crafty gang pull come managed\n",
      "Cluster 134: silver das present weapons gp longer intended forging timeline request weeks new dagger adventure service\n",
      "Cluster 135: joachim monks stop pacifism monk told vow investigate wish traveled tell named taken mena abbey\n",
      "Cluster 136: island aldemar shabana shipwrecked lived nursed scavenging small hag health named wrecks truth green claimed\n",
      "Cluster 137: falls stops column save character descent rapid failing glowing means pit suddenly reflex falling taking\n",
      "Cluster 138: makea specific nobles positively noble influence indifferent start better diplomacy socialize result friendly attempts evening\n",
      "Cluster 139: graces curate sole priest temple village birm amelon appeared center desna missing assume gather information\n",
      "Cluster 140: pc advantage glitters notices faint succeeds perception yellow later spot dc vision battle clues hard\n",
      "Cluster 141: sending text agreed services important funds risk friend turn pathfinder society great return hostile assist\n",
      "Cluster 142: das smithy weapons owned dog korvut tempered drunk red foul reduction forge silver effective run\n",
      "Cluster 143: high collection ancestors favor single hierarchy item rose eager pay years ago try aroden assistance\n",
      "Cluster 144: spider surprised character result stealth check fail proceed section bites equal greater attacks combat notice\n",
      "Cluster 145: dies finish grows succeeding depending heal healing gold moderate spells using results ecstatic journey cavern\n",
      "Cluster 146: chest turned uncover shovel freshly tool locked similar unlock dirt digging wooden rounds treasure buried\n",
      "Cluster 147: action gap marked hiding spider rubble living square gets round map mother feet remain small\n",
      "Cluster 148: savasha helping offers discreetly profusely protect pay efforts chaos thanks despite lump managed pull nursing\n",
      "Cluster 149: threat church uncovers records tried entry town visit searching undead fact drunken killed states end\n",
      "Cluster 150: convince home shuttered bluff speak bright diplomacy talk beat tells open burning successful shapes group\n",
      "Cluster 151: bottle desk labeled alcohol mage poured underneath strong keeps potions negates contains strength scroll armor\n",
      "Cluster 152: classroom somebody lick content bored waits finds player dispatched book mimic wounds characters moving azlanti\n",
      "Cluster 153: mask pictures exquisite reception furniture richly appointed rugs framed lords decorated ladies noble large elegant\n",
      "Cluster 154: hailed heroes crimes gp trial kavoos sandpoint transported offered carrying farmers prisoners produce visit local\n",
      "Cluster 155: throne relief dais features raised king signing featureless thrones document left stand stone end wall\n",
      "Cluster 156: demos captain fair tough exposure friendly isles prior masks follows silva enjoys sarenrae sunrise played\n",
      "Cluster 157: candle bodies addition animates invisible extinguished snuffing daylight dead lit flowing flame adds hazelindra remains\n",
      "Cluster 158: winded room hasty preparations sparkles close bloodshot request common door flashes eyes impatience reflection immediately\n",
      "Cluster 159: room polished bookshelves door line hardwood floors flameless wood torches marred text dark old classroom\n",
      "Cluster 160: thassilonian ruins grants relating rare artifacts culture varisia valuable image northern runelord imposed continue rockwhelp\n",
      "Cluster 161: tip knowing risky politics watching involved elderly professor trip greater getting korvosa instincts cobbled academae\n",
      "Cluster 162: iron amulet toughens use rid spell curse remove flesh giving armor bonus class construct weapons\n",
      "Cluster 163: wererat damage attack minotaur melee squares victim lycanthropy gore feet charges curse works target non\n",
      "Cluster 164: werewolves harm slaying usually dc barely requires heard werewolf normal questions weapon weapons checks community\n",
      "Cluster 165: evil fear prepare elemental example monster protection idea useful remove cleric better likewise pc spells\n",
      "Cluster 166: stone patch wall paler looked mining prospectors northwest dwarf surrounding chisel looks northeast pick piece\n",
      "Cluster 167: small scepter covered terminates crook precious semi catches bluish outline anytime diameter leaf inches winged\n",
      "Cluster 168: woman young balance lose pretending aflutter undergrowth fall discover presence confusion rags known rescue disguise\n",
      "Cluster 169: earlier hide preparation traversing aware pillars presence stealthy walkway actively dealing goblins encounter allow raiders\n",
      "Cluster 170: headband fine intelligence vast hold snake outward wisdom inspired command tie rope securely pounds unfasten\n",
      "Cluster 171: looks like dwarf beaten based alive clothes body male southwest direction hard tell running northwest\n",
      "Cluster 172: abbey valley arrived travelers know messenger pass cave took reaches shelter used sent pocket folded\n",
      "Cluster 173: hork yarg combat pc attack shifts raiders focusing attacking falls casts bite trip new continues\n",
      "Cluster 174: duso respected school arts twilight arcane mena sandpoint academy letters presence times administration exchange slightly\n",
      "Cluster 175: snatch chamber gang knuckles bloody grumbles ambush seek leave finally relic tauranor attempt beneath eberius\n",
      "Cluster 176: joy ghouls reason engage shouts did intestines glassy eyed nibbling stare slowly insane cavern makeshift\n",
      "Cluster 177: armor bonus day erastil standard action fort god activate gain saves strike bracers true wearing\n",
      "Cluster 178: shabana weathered unlocks key cord value neck soon carries chest mentioned reverts directly looking suspects\n",
      "Cluster 179: transforms acting watches appearance rags arrive hag young beautiful woman disguise undergrowth waterfall green quickly\n",
      "Cluster 180: knowledge runelords history significance reveals arcana exhausted medallion historical symbol dedication envoy outpost power does\n",
      "Cluster 181: flint snow bedroll cooking backpack pot steel masterwork star slushy knife abby half buried returning\n",
      "Cluster 182: bloody knuckles eberius slips pouch added handful rationed containing praise awards fake scepter trick style\n",
      "Cluster 183: galduria abbey know worst coastal ix overdue mountains fear days traveling windsong west south galino\n",
      "Cluster 184: puff smoke teleport safely arriving standard disappear action away cloak command color speak word feet\n",
      "Cluster 185: stat block refer published method rocks blocks adventures shatters collapses monster photocopy copy killed book\n",
      "Cluster 186: surprised elemental surprise round combat pcs alerted happens normally opposed presence start succeed begins stealth\n",
      "Cluster 187: apex professor cheh montrovale acts distraught cat plain injuries body pet hides sight lurks unconscious\n",
      "Cluster 188: accept peasants resigned curfew stoic awry gone imposed rituals fell self life lot suggest twilight\n",
      "Cluster 189: light cavern flickers actually dim deeper lighting spilling space cave stalactites coming effort widens hanging\n",
      "Cluster 190: founding celebrate pauses paraphrase powerful evening year enjoy says city coming applause breaks free great\n",
      "Cluster 191: encounter profitable fighting exciting roleplaying cr prospector rescuing nearly equipment durn necessary monsters marked slow\n",
      "Cluster 192: dining private room intricate pattern flecks peels plush carpet mud caked boots disappears reflection impatience\n",
      "Cluster 193: scare motivation sufficient animals mauled direct savagely approached farmers shala farthough farm zorakov decided approach\n",
      "Cluster 194: columns open long stonework stretch toppled hint stones pillars path reflecting surrounded forest grassland litter\n",
      "Cluster 195: enter mines inhabited clues fought preparations cast missing monsters spells torches dwarves draw room quiet\n",
      "Cluster 196: extra pavlina preparing motherly warm suitable sleeping arrangements setting company food places visitors wife begins\n",
      "Cluster 197: old natural supported timbers frontal extending entrance straight assault hillside werewolf outside relying cave shapeshifter\n",
      "Cluster 198: offended prayer day upset offer imagining lead difficult starting sarenrae krzysztof early asks cleric time\n",
      "Cluster 199: point attack montrovale hit stable currently smiled defend revive unconscious mimic verge lies floor answer\n",
      "Cluster 200: promises gratitude consider expresses candle future missions admiration largest acadamae deliver sandpoint work academy magic\n",
      "Cluster 201: shipwrecked loss brothers saddened putting predation thank abbey named windsong learn island lenstra aldemar weeks\n",
      "Cluster 202: sail shopping stout attend setting business days minds sailor succeeds puts diplomacy finds dwarven evening\n",
      "Cluster 203: shake chagrined response nights scam pulled receives group slow thugs urging head ago elaborates goblins\n",
      "Cluster 204: elemental versade covertly crushes guests shapeshifting releasing process knocking subtle gem signal nindrik form dives\n",
      "Cluster 205: ball savasha calendar magnimarian pressure feels social extravagance lord prior high versade year parties masquerade\n",
      "Cluster 206: quick cheh grabbed aging book performed classroom sneaked stuck instructor linna search struggled unable adhesive\n",
      "Cluster 207: bonuses reasonable chance finding spot managed clues prospectors dwarf higher good checks kill swarm advantage\n",
      "Cluster 208: undead pierces bright mist flickering candle activity victims permeates previous walking signs emanating cold graveyard\n",
      "Cluster 209: area swarm mother spider went used hatchling examine ran kill spiders created scorched creating retreated\n",
      "Cluster 210: versade nazari savasha subdued took doppelganger steal chaos form attempting withdraws truth use stop ruby\n",
      "Cluster 211: attempt runelord appease tempt praises allowed envoy xanderghul pc assist image great ready understand pcs\n",
      "Cluster 212: thassilon dangers responses runelords expect sort questions tell common run venture explore ready riddleport regarding\n",
      "Cluster 213: awaiting pedestal unveiling learn initially cloth close versade heroic deverin ask guests tales mayor progresses\n",
      "Cluster 214: pavlina wounds attacker emergencies fuss killed cure potion burning offering corpses sustained prisoners makes ability\n",
      "Cluster 215: skill spider result stealth perception check secretly decides checks roll attacks equal pcs rounds attack\n",
      "Cluster 216: professor codex venture hopefully agreed price captain cobbled return team hand montrovale risk greater worry\n",
      "Cluster 217: drunken shambling pair began fun amid chants cultish dancing rose hexes corpses imitating crypt rite\n",
      "Cluster 218: fisherfolk gamblers tonight particularly delicious smell waterfront stew strong draws sailors treasures collected hagfish popular\n",
      "Cluster 219: grald miner pcs adventurer accompany want using lair does stealth ask monsters fight follows approach\n",
      "Cluster 220: spellbook sensitive documents tied research titled seeks security sell korvosa notes escape advanced ancient concerned\n",
      "Cluster 221: rope boarder forcing piercing slashing wait grapnel weapon throw deck free attempt new dealing engage\n",
      "Cluster 222: lycanthropes eventually interference build soldiers community lord persist hunt haven sent outside rumors ear trying\n",
      "Cluster 223: seen hustle bustle spices compass softly adventure smells departs underway market exotic aromas speaks crowd\n",
      "Cluster 224: worship study grow faith doors devotees closed peace retreat religious vow abbey taken pacifism windsong\n",
      "Cluster 225: xp climb encounters number award divide faced purpose total pcs walk expand sinkhole adding pc\n",
      "Cluster 226: guises humanity innovation died carvings aroden culture god said walked golarion relief studying wall different\n",
      "Cluster 227: forest lurkwood clearing trek overland densely packed directly proceed riddleport trees brief encounter begin journey\n",
      "Cluster 228: squares minotaur foot feet guilds space melee large square people creatures away rob takes creature\n",
      "Cluster 229: charges ranged hideous slumber heavy shield laughter sleep charge steel deep braided staff allows additional\n",
      "Cluster 230: nazari escape elemental escapes disguised scream blue scatter tongue stops nindrik confusion hoping partygoers rounds\n",
      "Cluster 231: obstacles menace confront unorthodox late studies remember venturing allows local knowledge cemetery twilight head necromancers\n",
      "Cluster 232: tribal lands prefer civilization reject coasts life simple enemies allies eat marshes swamps dead predators\n",
      "Cluster 233: condensing chill waters spring hot feeling lake ember vapor isolation early filling loneliness winter destitute\n",
      "Cluster 234: waterfall sailors cliff rest switchback cove face group brackish watches perception notice hag successful path\n",
      "Cluster 235: runelord voice specialized highly receive illusory clarify pride praise meant sure envoy telepathic lips begin\n",
      "Cluster 236: passes korvosa clinking steaming plates drops authoritatively valuable bag cocks nods korvosan hands stands school\n",
      "Cluster 237: gold gp cloud stinking engraved assorted inner scroll band bed makeshift ring galino worth edge\n",
      "Cluster 238: galduria servant marketplace crowds hearing meet forward disappears days roads travel look encountering passage difficulty\n",
      "Cluster 239: rebuke wakes channel realizes gestures energy skill heal ability hit death cleric points quiet cure\n",
      "Cluster 240: winner coins cheered shipmates beam aquarium carve choke bar sailor viscous water failed algae ceiling\n",
      "Cluster 241: hork goblin raiders morale reckless plenty defeated yarg viciously remaining space development direction known wander\n",
      "Cluster 242: calls fledgling increments mercenaries tauranor knot ailing team eberius relieve unfasten securely foot business tie\n",
      "Cluster 243: broken chunk area pc looks dirty examines tool torches soot like stone wall pale long\n",
      "Cluster 244: character sickened rolls saving minute resists save poison fails difficulty throw class checks fortitude rounds\n",
      "Cluster 245: using lights monster noise alerts area darkvision lot instead want grald location talk come glitters\n",
      "Cluster 246: kavoos shala bloodlust overwhelmed completely attacking lover lycanthropic transformation break rushes protect attempts join sees\n",
      "Cluster 247: farmhouse ambushes barn course place expected broken set near action returned attacking decided long night\n",
      "Cluster 248: explore ruins threats novelties particular historical value thanks face exploring return newly efforts warriors goblin\n",
      "Cluster 249: cart rails feet rough twisting ahead progress blocks sinkhole hanging area solid direction mapand edge\n",
      "Cluster 250: patches linger shaded grasses dull feel areas snow locate dropped approach trees yellow describes travel\n",
      "Cluster 251: floor area crisscross east entrance leading boot rails cart south visible west prints rusty dirt\n",
      "Cluster 252: flesh slowly gorged nibbling fellow intestines starting residence reason monks taken did terribly duso tibaldo\n",
      "Cluster 253: aquarium coin disgusting filthy beloved establishment invites norah waterfront patrons glass bar pay hagfish raucous\n",
      "Cluster 254: flame blood undead douse graves prevent wound rising path dealing goes animated candle open flowing\n",
      "Cluster 255: head problem table yordan guess introduces sort approaches embarrassed got friends says companion underway adventure\n",
      "Cluster 256: chamber features chasm secret rising flush illuminate series deep stone surface massive strange center flameless\n",
      "Cluster 257: pirate frequency sinking pillaging harassing orc crafty tusk ships horde growing led tauk maw gang\n",
      "Cluster 258: masks different select deverin mayor type celestial celestials bearing language choose randomly word explains total\n",
      "Cluster 259: monastery monks galino escort resupply halfway met journeyed towns lies duso feed decided truth galduria\n",
      "Cluster 260: bone charges studded ranged invisibility consecrate concealment charge subtract carved white disease wood chances miss\n",
      "Cluster 261: plaza small fountain flows stream post cracked temple inn watch forms guard single desna widening\n",
      "Cluster 262: prints higher pc gets tell coming came dwarves east went searching examine leading walking sets\n",
      "Cluster 263: property graciously granted traversing memory busy want recover difficulty reaching jog opportunity explore streets scepter\n",
      "Cluster 264: house attend kendra deverin aristocrats spoiled ball annual versade requested aboard bring mayor magnimar traveling\n",
      "Cluster 265: webs slow cocoon forming cling squares vision sticky characters rocks turning block inside trap south\n",
      "Cluster 266: shapeshifter sneaky relying boss deadly wererat orcs frontal opponent sneak tribe solo tough goblins stealth\n",
      "Cluster 267: room way fashion servants overheard gate loud eating socializing guards offering food dressed dancing drink\n",
      "Cluster 268: scepter false genuine craft fake hope reveals arcana true make radiate worth knowledge hostage hold\n",
      "Cluster 269: table questions waiting sitting smiles response asks join approaching finding finally wanders krzysztof man common\n",
      "Cluster 270: shabana retrieves wait reverts accompanying asks bag pit inside soon clearing hut wooden true opens\n",
      "Cluster 271: stone thrones holes gaps exist dust words bear traps sit carved azlanti suspicious ancient places\n",
      "Cluster 272: safe inscription nice blank wishes pages gorbic authentic scholars zamola best galduria try outside mena\n",
      "Cluster 273: bored content searched gathered lick books somebody constriction codex azlanti caused interrogation pass cheh wounds\n",
      "Cluster 274: minions ghoul relaxes expression sigh cave lets hungry sits slightly expecting insane monk zamola deal\n",
      "Cluster 275: ring armor bonus variety styles surround force wide field wearing class arm invisible gives guards\n",
      "Cluster 276: tankard sp drink gulp wins entire manage contents current purse consecutive carve saves fortitude order\n",
      "Cluster 277: platform finest draped aged form middle robes look moment replaced eyes beautiful decay note gaze\n",
      "Cluster 278: wererats nervous cursed serving rat hybrids stealthy bully work hungry orcs turn human goblins nights\n",
      "Cluster 279: soggy hours wetlands brinestump marsh extensive able waterways river empties weekly passing uneventful farmers livestock\n",
      "Cluster 280: trap retrieve collapsing involving complex ceremonial statues bypass crosier search series survive located columns floor\n",
      "Cluster 281: night superstition suggest movements refuse shuffling emanating wailing fell rituals rumors sounds air gone awry\n",
      "Cluster 282: creature standard action shoot touch web ranged webbing fort hits widow current making target spends\n",
      "Cluster 283: visits contacts pace crowded city brisk leads sandpoint street town run ready sheila venture looking\n",
      "Cluster 284: duso mena monks stay plans winter quite overdue week nearly concerned fellow visit letters making\n",
      "Cluster 285: fake scepter true identical false texts altered daylight cache holy permanent trove located looks crosier\n",
      "Cluster 286: safety jump reflex character save column pillar descending standing unable dc begins crimson attempt entire\n",
      "Cluster 287: wererat rats damage cast reduce minimum communicate empathize non dire ranged spell melee weapon ring\n",
      "Cluster 288: fortune followed shabana gather played food aldemar days shocked wrecks ships left good suspicious island\n",
      "Cluster 289: storms steal rusty revive regret joins codex azlanti met door rouse sending attempts open sheila\n",
      "Cluster 290: troubling rural farming hired dragon zorakov community inn rusty werewolf help approached months fight direct\n",
      "Cluster 291: headband hold undead jeweled throws inspired wisdom saving powers vast intelligence golden fine rolls time\n",
      "Cluster 292: candle skeletons knowledge champion skeletal garb activated identifiable wears fact cleric thugs desna remains religion\n",
      "Cluster 293: sarcophagus rows dank somber support beacon vigil atop statues crypt second shines ceiling cold figures\n",
      "Cluster 294: tour encountered midway horse success drawn lone haggard carrying crone wagon heavily influenced town flagons\n",
      "Cluster 295: disable device safe trap secure lock storage doing triggers pick serves check means quality hands\n",
      "Cluster 296: family nirodin dashing opinion handsome platform gradon scarnetti ruthless humorless adventurer controls shipyards cheiskaia matron\n",
      "Cluster 297: outfit gp signet jewelry accompanying various wearing ring spend penalty diplomacy exchanges high wish aboard\n",
      "Cluster 298: table singling clearly demeanor coat sailors captain tricorne paraphrase arrive leave hat approach stand allow\n",
      "Cluster 299: floor northward collapsed layer rails cart continue spider tunnel ceiling eggs webbing walls covered collapse\n"
     ]
    }
   ],
   "source": [
    "if minibatch:\n",
    "    km = MiniBatchKMeans(n_clusters=n_clusters, init='k-means++', n_init=3,\n",
    "                         init_size=1000, batch_size=1000, verbose=verbose)\n",
    "else:\n",
    "    km = KMeans(n_clusters=n_clusters, init='k-means++', max_iter=100, n_init=10,\n",
    "                verbose=verbose)\n",
    "\n",
    "print(\"Clustering sparse data with %s\" % km)\n",
    "t0 = time()\n",
    "km.fit(X)\n",
    "print(\"done in %0.3fs\" % (time() - t0))\n",
    "print()\n",
    "\n",
    "#print(\"Homogeneity: %0.3f\" % metrics.homogeneity_score(labels, km.labels_))\n",
    "#print(\"Completeness: %0.3f\" % metrics.completeness_score(labels, km.labels_))\n",
    "#print(\"V-measure: %0.3f\" % metrics.v_measure_score(labels, km.labels_))\n",
    "#print(\"Adjusted Rand-Index: %.3f\"\n",
    "#      % metrics.adjusted_rand_score(labels, km.labels_))\n",
    "print(\"Silhouette Coefficient: %0.3f\"\n",
    "      % metrics.silhouette_score(X, km.labels_, sample_size=1000))\n",
    "\n",
    "print()\n",
    "\n",
    "\n",
    "if not use_hashing:\n",
    "    print(\"Top terms per cluster:\")\n",
    "\n",
    "    if n_components:\n",
    "        original_space_centroids = svd.inverse_transform(km.cluster_centers_)\n",
    "        order_centroids = original_space_centroids.argsort()[:, ::-1]\n",
    "    else:\n",
    "        order_centroids = km.cluster_centers_.argsort()[:, ::-1]\n",
    "\n",
    "    terms = vectorizer.get_feature_names()\n",
    "    for i in range(n_clusters):\n",
    "        print(\"Cluster %d:\" % i, end='')\n",
    "        for ind in order_centroids[i, :15]:\n",
    "            print(' %s' % terms[ind], end='')\n",
    "        print()"
   ]
  },
  {
   "cell_type": "code",
   "execution_count": 0,
   "metadata": {
    "colab": {},
    "colab_type": "code",
    "id": "JWP7Ebq4k9pQ"
   },
   "outputs": [],
   "source": []
  },
  {
   "cell_type": "code",
   "execution_count": 0,
   "metadata": {
    "colab": {
     "base_uri": "https://localhost:8080/",
     "height": 34
    },
    "colab_type": "code",
    "id": "APLXuR-WXdwj",
    "outputId": "a46b98d9-ed2a-42d7-c637-8f37043432ca"
   },
   "outputs": [
    {
     "data": {
      "text/plain": [
       "array([24], dtype=int32)"
      ]
     },
     "execution_count": 106,
     "metadata": {
      "tags": []
     },
     "output_type": "execute_result"
    }
   ],
   "source": [
    "#input_line = ['scaring farmer animals']\n",
    "input_line = ['fearfully and in hiding run a farmer off his or her land so they could move in so farthough']\n",
    "X_test = vectorizer.transform(input_line)\n",
    "X_test = lsa.transform(X_test)\n",
    "km.predict(X_test)"
   ]
  },
  {
   "cell_type": "code",
   "execution_count": 0,
   "metadata": {
    "colab": {
     "base_uri": "https://localhost:8080/",
     "height": 54
    },
    "colab_type": "code",
    "id": "T9H19ClWmTug",
    "outputId": "f6579381-8ce1-400b-81a6-88f4ed2e8da0"
   },
   "outputs": [
    {
     "data": {
      "text/plain": [
       "'land farthough savagely fearfully mauled albeit animals hiding lycanthropes farmer farm sufficient motivation run living tell me about the land near the farm'"
      ]
     },
     "execution_count": 102,
     "metadata": {
      "tags": []
     },
     "output_type": "execute_result"
    }
   ],
   "source": [
    "cluster_found = 'land farthough savagely fearfully mauled albeit animals hiding lycanthropes farmer farm sufficient motivation run living'\n",
    "seed_text = cluster_found + ' ' + input_line[0]\n",
    "seed_text"
   ]
  },
  {
   "cell_type": "code",
   "execution_count": 0,
   "metadata": {
    "colab": {},
    "colab_type": "code",
    "id": "hZSZJdCpks0h"
   },
   "outputs": [],
   "source": []
  },
  {
   "cell_type": "code",
   "execution_count": 0,
   "metadata": {
    "colab": {
     "base_uri": "https://localhost:8080/",
     "height": 283
    },
    "colab_type": "code",
    "id": "agzdtf3Kh_iC",
    "outputId": "546c10b2-344d-476f-981f-c89b1a2992fe"
   },
   "outputs": [
    {
     "data": {
      "image/png": "[encoded data removed]",
      "text/plain": [
       "<Figure size 432x288 with 1 Axes>"
      ]
     },
     "metadata": {
      "tags": []
     },
     "output_type": "display_data"
    }
   ],
   "source": [
    "inertia = []\n",
    "list_num_clusters = list(range(1,100, 5))\n",
    "for num_clusters in list_num_clusters:\n",
    "    km = MiniBatchKMeans(n_clusters=num_clusters, init='k-means++', n_init=3,\n",
    "                         init_size=1000, batch_size=1000, verbose=verbose)\n",
    "    # km = KMeans(n_clusters=num_clusters)\n",
    "    km.fit(X)\n",
    "    inertia.append(km.inertia_)\n",
    "    \n",
    "plt.plot(list_num_clusters,inertia)\n",
    "plt.scatter(list_num_clusters,inertia)\n",
    "plt.xlabel('Number of Clusters')\n",
    "plt.ylabel('Inertia');"
   ]
  },
  {
   "cell_type": "code",
   "execution_count": 0,
   "metadata": {
    "colab": {},
    "colab_type": "code",
    "id": "rkQUjWLgh-_k"
   },
   "outputs": [],
   "source": []
  },
  {
   "cell_type": "code",
   "execution_count": 0,
   "metadata": {
    "colab": {},
    "colab_type": "code",
    "id": "1CEHSgIVh-0B"
   },
   "outputs": [],
   "source": []
  },
  {
   "cell_type": "code",
   "execution_count": 0,
   "metadata": {
    "colab": {},
    "colab_type": "code",
    "id": "XtdCOGHVcNqI"
   },
   "outputs": [],
   "source": [
    "num_of_gen = 2000\n",
    "seed_list, gen_list = [], []\n",
    "\n",
    "for _ in range(num_of_gen):\n",
    "    # select a seed text\n",
    "    seed_text = lines[randint(0,len(lines))]\n",
    "    # generate new text\n",
    "    gen_text = generate_seq(model, tokenizer, seq_length, seed_text, 50)\n",
    "    \n",
    "    seed_list.append(seed_text)\n",
    "    gen_list.append(gen_text)\n"
   ]
  },
  {
   "cell_type": "code",
   "execution_count": 0,
   "metadata": {
    "colab": {
     "base_uri": "https://localhost:8080/",
     "height": 578
    },
    "colab_type": "code",
    "id": "l4Y2ODvQUAU6",
    "outputId": "7dc60299-0de0-4616-92a2-fdcc8760537f"
   },
   "outputs": [
    {
     "name": "stdout",
     "output_type": "stream",
     "text": [
      "----- row 1000 ----------------------------------------------------------------------\n",
      "secret door indicated on map as the pcs descend a narrow stairway they enter the\n",
      "secret chamber rumored to hold the crosier magical flameless torches illuminate\n",
      "this massive stone chamber which features a strange series of columns rising\n",
      "from a deep chasm in the center the top of each column is\n",
      "\n",
      "flush with the surface of the floor and features an arcane rune at the far end\n",
      "of the room stand two stone thrones on a raised dais on the wall behind the left\n",
      "throne is a relief of a king signing a document while speaking to a crowd of\n",
      "featureless\n",
      "\n",
      "----- row 1001 ----------------------------------------------------------------------\n",
      "there are monsters within who can fly or climb past the sinkhole or the\n",
      "earthquake opened a connection to a deeper area inhabited by underground\n",
      "monsters page of the game guide to choose from experience points the pcs earn\n",
      "experience points for defeating the monsters and rescuing the dwarves each map\n",
      "\n",
      "has an xp total for that encounter add up the xp awards these spiders are larger\n",
      "tougher and more dangerous than other giant spiders and use their thick webs to\n",
      "slow and capture foes before cocooning and devouring them lizardfolk are proud\n",
      "and powerful reptilian predators that live in swamps\n",
      "\n",
      "----- row 1002 ----------------------------------------------------------------------\n",
      "permanent markers with gamemastery map packs the purpose of this area is to give\n",
      "you room to expand the mine by adding more encounters perhaps there are monsters\n",
      "within who can fly or climb past the sinkhole or the earthquake opened a\n",
      "connection to a deeper area inhabited by underground monsters\n",
      "\n",
      "page of the game guide to choose from experience points the pcs earn experience\n",
      "points for defeating the monsters and rescuing the dwarves each map has an xp\n",
      "total for that encounter add up the xp awards these spiders are larger tougher\n",
      "and more dangerous than other giant spiders and\n",
      "\n"
     ]
    }
   ],
   "source": [
    "skip = 1000\n",
    "for row in range(3):\n",
    "    actual_row = row+skip\n",
    "    print('----- row {} {}'.format(actual_row, '-'*70))\n",
    "    print(textwrap.fill('%s' % (seed_list[actual_row]), 80) + '\\n')\n",
    "    print(textwrap.fill('%s' % (gen_list[actual_row]), 80))\n",
    "    print()"
   ]
  },
  {
   "cell_type": "code",
   "execution_count": 0,
   "metadata": {
    "colab": {},
    "colab_type": "code",
    "id": "XpPW8SiSUWeX"
   },
   "outputs": [],
   "source": [
    "import pandas as pd\n",
    "\n",
    "df = pd.DataFrame({'seed': seed_list, 'generated': gen_list})\n",
    "df.to_csv('pathfinder_token_w2v, csv', index=False)"
   ]
  },
  {
   "cell_type": "code",
   "execution_count": 0,
   "metadata": {
    "colab": {},
    "colab_type": "code",
    "id": "IoCwW6BKESC2"
   },
   "outputs": [],
   "source": []
  },
  {
   "cell_type": "code",
   "execution_count": 0,
   "metadata": {
    "colab": {},
    "colab_type": "code",
    "id": "t41EQKo7a7LN"
   },
   "outputs": [],
   "source": []
  },
  {
   "cell_type": "code",
   "execution_count": 0,
   "metadata": {
    "colab": {},
    "colab_type": "code",
    "id": "r3qHSnWbnlQE"
   },
   "outputs": [],
   "source": []
  }
 ],
 "metadata": {
  "accelerator": "GPU",
  "colab": {
   "collapsed_sections": [],
   "machine_shape": "hm",
   "name": "snaug_text_generation_engineipynb",
   "provenance": []
  },
  "kernelspec": {
   "display_name": "Python 3",
   "language": "python",
   "name": "python3"
  },
  "language_info": {
   "codemirror_mode": {
    "name": "ipython",
    "version": 3
   },
   "file_extension": ".py",
   "mimetype": "text/x-python",
   "name": "python",
   "nbconvert_exporter": "python",
   "pygments_lexer": "ipython3",
   "version": "3.6.8"
  }
 },
 "nbformat": 4,
 "nbformat_minor": 1
}
