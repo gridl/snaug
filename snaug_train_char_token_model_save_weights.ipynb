{
 "cells": [
  {
   "cell_type": "code",
   "execution_count": null,
   "metadata": {},
   "outputs": [],
   "source": [
    "# for Google Colab only: Mount my Google Drive\n",
    "from google.colab import drive\n",
    "drive.mount('/gdrive')\n",
    "%cd /gdrive"
   ]
  },
  {
   "cell_type": "code",
   "execution_count": 1,
   "metadata": {},
   "outputs": [
    {
     "data": {
      "text/plain": [
       "'/home/ringoshin/Projects/z - learning/0 - Kaplan/proj/snaug'"
      ]
     },
     "execution_count": 1,
     "metadata": {},
     "output_type": "execute_result"
    }
   ],
   "source": [
    "pwd"
   ]
  },
  {
   "cell_type": "code",
   "execution_count": null,
   "metadata": {},
   "outputs": [],
   "source": [
    "# for Google Colab only: Navigate to my snaug project folder\n",
    "cd 'My Drive/snaug'"
   ]
  },
  {
   "cell_type": "code",
   "execution_count": 2,
   "metadata": {},
   "outputs": [
    {
     "name": "stderr",
     "output_type": "stream",
     "text": [
      "Using TensorFlow backend.\n"
     ]
    }
   ],
   "source": [
    "#\n",
    "# Train models on cloud platforms using GPU, then save only the model weights \n",
    "# to be reloaded later on machines without powerful GPU.\n",
    "#\n",
    "\n",
    "from keras.preprocessing.text import Tokenizer\n",
    "from keras.utils import to_categorical\n",
    "\n",
    "import string\n",
    "import textwrap\n",
    "import pickle\n",
    "\n",
    "from lib.nlplstm_class import (TFModelLSTMCharToken, TFModelLSTMWordToken, \n",
    "                               TFModelLSTMWord2vec) \n",
    "from lib.data_common import (load_doc, save_doc, clean_doc, prepare_char_tokens)\n",
    "from lib.data_common import (build_token_lines, prepare_text_tokens, load_word2vec)"
   ]
  },
  {
   "cell_type": "code",
   "execution_count": 3,
   "metadata": {},
   "outputs": [],
   "source": [
    "pathfinder_textfile = './data/textgen_pathfinder.txt'\n",
    "fixed_length_token_textfile = './data/pathfinder_fixed-length_tokens.txt'\n",
    "\n",
    "# \n",
    "# Loading, saving and pre-processing of the text data source for \n",
    "# character tokenisation\n",
    "#\n",
    "# load document\n",
    "text = load_doc(pathfinder_textfile).lower()"
   ]
  },
  {
   "cell_type": "code",
   "execution_count": 4,
   "metadata": {},
   "outputs": [
    {
     "name": "stdout",
     "output_type": "stream",
     "text": [
      "corpus length: 76633\n",
      "total chars: 57\n",
      "number of sequences: 25531\n",
      "number of next_chars: 25531\n"
     ]
    }
   ],
   "source": [
    "# tokenize character data and separate into features and target for LSTM training\n",
    "maxlen = 40\n",
    "step = 3\n",
    "X, y, char2indices, indices2char, num_unique_char = prepare_char_tokens(text, maxlen, step)"
   ]
  },
  {
   "cell_type": "code",
   "execution_count": 5,
   "metadata": {},
   "outputs": [],
   "source": [
    "# save the mappings\n",
    "pickle.dump(char2indices, open('./model/pathfinder_chartoken_char2indices.pkl', 'wb'))\n",
    "pickle.dump(indices2char, open('./model/pathfinder_chartoken_indices2char.pkl', 'wb'))"
   ]
  },
  {
   "cell_type": "code",
   "execution_count": 6,
   "metadata": {},
   "outputs": [
    {
     "name": "stdout",
     "output_type": "stream",
     "text": [
      "WARNING:tensorflow:From /home/ringoshin/Projects/z - learning/0 - Kaplan/proj/snaug/venv/lib/python3.6/site-packages/keras/backend/tensorflow_backend.py:66: The name tf.get_default_graph is deprecated. Please use tf.compat.v1.get_default_graph instead.\n",
      "\n",
      "WARNING:tensorflow:From /home/ringoshin/Projects/z - learning/0 - Kaplan/proj/snaug/venv/lib/python3.6/site-packages/keras/backend/tensorflow_backend.py:541: The name tf.placeholder is deprecated. Please use tf.compat.v1.placeholder instead.\n",
      "\n",
      "WARNING:tensorflow:From /home/ringoshin/Projects/z - learning/0 - Kaplan/proj/snaug/venv/lib/python3.6/site-packages/keras/backend/tensorflow_backend.py:4432: The name tf.random_uniform is deprecated. Please use tf.random.uniform instead.\n",
      "\n",
      "WARNING:tensorflow:From /home/ringoshin/Projects/z - learning/0 - Kaplan/proj/snaug/venv/lib/python3.6/site-packages/keras/backend/tensorflow_backend.py:148: The name tf.placeholder_with_default is deprecated. Please use tf.compat.v1.placeholder_with_default instead.\n",
      "\n",
      "WARNING:tensorflow:From /home/ringoshin/Projects/z - learning/0 - Kaplan/proj/snaug/venv/lib/python3.6/site-packages/keras/backend/tensorflow_backend.py:3733: calling dropout (from tensorflow.python.ops.nn_ops) with keep_prob is deprecated and will be removed in a future version.\n",
      "Instructions for updating:\n",
      "Please use `rate` instead of `keep_prob`. Rate should be set to `rate = 1 - keep_prob`.\n"
     ]
    }
   ],
   "source": [
    "# create new object that is an LSTM model using character tokenization\n",
    "# to generate text\n",
    "textgen_model_1 = TFModelLSTMCharToken(use_gpu=False)\n",
    "\n",
    "# define and compile the model parameters\n",
    "textgen_model_1.define(maxlen, num_unique_char)"
   ]
  },
  {
   "cell_type": "code",
   "execution_count": 7,
   "metadata": {},
   "outputs": [
    {
     "name": "stdout",
     "output_type": "stream",
     "text": [
      "Character Tokenisation\n",
      "True\n",
      "False\n",
      "Model: \"sequential_1\"\n",
      "_________________________________________________________________\n",
      "Layer (type)                 Output Shape              Param #   \n",
      "=================================================================\n",
      "lstm_1 (LSTM)                (None, 40, 512)           1167360   \n",
      "_________________________________________________________________\n",
      "dropout_1 (Dropout)          (None, 40, 512)           0         \n",
      "_________________________________________________________________\n",
      "lstm_2 (LSTM)                (None, 512)               2099200   \n",
      "_________________________________________________________________\n",
      "dropout_2 (Dropout)          (None, 512)               0         \n",
      "_________________________________________________________________\n",
      "dense_1 (Dense)              (None, 57)                29241     \n",
      "_________________________________________________________________\n",
      "activation_1 (Activation)    (None, 57)                0         \n",
      "=================================================================\n",
      "Total params: 3,295,801\n",
      "Trainable params: 3,295,801\n",
      "Non-trainable params: 0\n",
      "_________________________________________________________________\n",
      "None\n"
     ]
    }
   ],
   "source": [
    "# LSTM object sanity check\n",
    "print(textgen_model_1.model_name)\n",
    "print(textgen_model_1.have_gpu)\n",
    "print(textgen_model_1.use_cudadnn)\n",
    "print(textgen_model_1.model.summary())"
   ]
  },
  {
   "cell_type": "code",
   "execution_count": 8,
   "metadata": {},
   "outputs": [
    {
     "name": "stdout",
     "output_type": "stream",
     "text": [
      "WARNING:tensorflow:From /home/ringoshin/Projects/z - learning/0 - Kaplan/proj/snaug/venv/lib/python3.6/site-packages/keras/optimizers.py:793: The name tf.train.Optimizer is deprecated. Please use tf.compat.v1.train.Optimizer instead.\n",
      "\n",
      "WARNING:tensorflow:From /home/ringoshin/Projects/z - learning/0 - Kaplan/proj/snaug/venv/lib/python3.6/site-packages/keras/backend/tensorflow_backend.py:3576: The name tf.log is deprecated. Please use tf.math.log instead.\n",
      "\n",
      "WARNING:tensorflow:From /home/ringoshin/Projects/z - learning/0 - Kaplan/proj/snaug/venv/lib/python3.6/site-packages/tensorflow_core/python/ops/math_grad.py:1424: where (from tensorflow.python.ops.array_ops) is deprecated and will be removed in a future version.\n",
      "Instructions for updating:\n",
      "Use tf.where in 2.0, which has the same broadcast rule as np.where\n",
      "WARNING:tensorflow:From /home/ringoshin/Projects/z - learning/0 - Kaplan/proj/snaug/venv/lib/python3.6/site-packages/keras/backend/tensorflow_backend.py:1033: The name tf.assign_add is deprecated. Please use tf.compat.v1.assign_add instead.\n",
      "\n",
      "WARNING:tensorflow:From /home/ringoshin/Projects/z - learning/0 - Kaplan/proj/snaug/venv/lib/python3.6/site-packages/keras/backend/tensorflow_backend.py:1020: The name tf.assign is deprecated. Please use tf.compat.v1.assign instead.\n",
      "\n",
      "WARNING:tensorflow:From /home/ringoshin/Projects/z - learning/0 - Kaplan/proj/snaug/venv/lib/python3.6/site-packages/keras/backend/tensorflow_backend.py:3005: The name tf.Session is deprecated. Please use tf.compat.v1.Session instead.\n",
      "\n",
      "Epoch 1/2\n",
      "WARNING:tensorflow:From /home/ringoshin/Projects/z - learning/0 - Kaplan/proj/snaug/venv/lib/python3.6/site-packages/keras/backend/tensorflow_backend.py:190: The name tf.get_default_session is deprecated. Please use tf.compat.v1.get_default_session instead.\n",
      "\n",
      "WARNING:tensorflow:From /home/ringoshin/Projects/z - learning/0 - Kaplan/proj/snaug/venv/lib/python3.6/site-packages/keras/backend/tensorflow_backend.py:197: The name tf.ConfigProto is deprecated. Please use tf.compat.v1.ConfigProto instead.\n",
      "\n",
      "WARNING:tensorflow:From /home/ringoshin/Projects/z - learning/0 - Kaplan/proj/snaug/venv/lib/python3.6/site-packages/keras/backend/tensorflow_backend.py:207: The name tf.global_variables is deprecated. Please use tf.compat.v1.global_variables instead.\n",
      "\n",
      "WARNING:tensorflow:From /home/ringoshin/Projects/z - learning/0 - Kaplan/proj/snaug/venv/lib/python3.6/site-packages/keras/backend/tensorflow_backend.py:216: The name tf.is_variable_initialized is deprecated. Please use tf.compat.v1.is_variable_initialized instead.\n",
      "\n",
      "WARNING:tensorflow:From /home/ringoshin/Projects/z - learning/0 - Kaplan/proj/snaug/venv/lib/python3.6/site-packages/keras/backend/tensorflow_backend.py:223: The name tf.variables_initializer is deprecated. Please use tf.compat.v1.variables_initializer instead.\n",
      "\n",
      "25531/25531 [==============================] - 38s 1ms/step - loss: 2.9770 - acc: 0.1795\n",
      "Epoch 2/2\n",
      "25531/25531 [==============================] - 36s 1ms/step - loss: 2.5248 - acc: 0.2921\n"
     ]
    }
   ],
   "source": [
    "# compile model\n",
    "textgen_model_1.compile(loss='categorical_crossentropy', optimizer='adam', metrics=['accuracy'])\n",
    "\n",
    "# fit model\n",
    "#history = textgen_model_1.fit(X, y, batch_size=128, epochs=50)\n",
    "history = textgen_model_1.fit(X, y, batch_size=128, epochs=2)"
   ]
  },
  {
   "cell_type": "code",
   "execution_count": 9,
   "metadata": {},
   "outputs": [
    {
     "data": {
      "image/png": "[encoded data removed]",
      "text/plain": [
       "<Figure size 432x432 with 1 Axes>"
      ]
     },
     "metadata": {
      "needs_background": "light"
     },
     "output_type": "display_data"
    }
   ],
   "source": [
    "# plot accuracy vs error for training\n",
    "textgen_model_1.plot_training()"
   ]
  },
  {
   "cell_type": "code",
   "execution_count": 10,
   "metadata": {},
   "outputs": [],
   "source": [
    "# serialize model weights to HDF5 and save model training history\n",
    "textgen_model_1.save_weights_and_history(fname_prefix=\"./model/pathfinder_chartoken_model_50_epoch\")"
   ]
  },
  {
   "cell_type": "code",
   "execution_count": null,
   "metadata": {},
   "outputs": [],
   "source": []
  }
 ],
 "metadata": {
  "kernelspec": {
   "display_name": "Python 3",
   "language": "python",
   "name": "python3"
  },
  "language_info": {
   "codemirror_mode": {
    "name": "ipython",
    "version": 3
   },
   "file_extension": ".py",
   "mimetype": "text/x-python",
   "name": "python",
   "nbconvert_exporter": "python",
   "pygments_lexer": "ipython3",
   "version": "3.6.8"
  }
 },
 "nbformat": 4,
 "nbformat_minor": 2
}
